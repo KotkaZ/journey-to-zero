{
  "cells": [
    {
      "cell_type": "markdown",
      "metadata": {
        "id": "view-in-github",
        "colab_type": "text"
      },
      "source": [
        "<a href=\"https://colab.research.google.com/github/KotkaZ/journey-to-zero/blob/master/lstm-test2.ipynb\" target=\"_parent\"><img src=\"https://colab.research.google.com/assets/colab-badge.svg\" alt=\"Open In Colab\"/></a>"
      ]
    },
    {
      "cell_type": "markdown",
      "metadata": {
        "collapsed": false,
        "id": "xQmC7g0vG_zk"
      },
      "source": [
        "## Dataset preprocessing\n",
        "\n"
      ]
    },
    {
      "cell_type": "code",
      "execution_count": 1,
      "metadata": {
        "id": "z383-kW0G_zl"
      },
      "outputs": [],
      "source": [
        "import numpy as nb\n",
        "import pandas as pd\n",
        "\n",
        "from sklearn import preprocessing\n",
        "from sklearn import decomposition\n",
        "from sklearn.preprocessing import MinMaxScaler\n",
        "\n",
        "from matplotlib import pyplot as plt\n",
        "\n",
        "%matplotlib inline\n",
        "\n",
        "import datetime"
      ]
    },
    {
      "cell_type": "markdown",
      "metadata": {
        "collapsed": false,
        "id": "nVB_Fy3pG_zm"
      },
      "source": [
        "### Timestamp extraction\n",
        "\n",
        "Because crazy things happened in the past year,  we validated that, some specific dates had significantly higher electricity prices. Therefore we do weekday, month, and time extraction from the timestamp.  \n",
        "\n"
      ]
    },
    {
      "cell_type": "code",
      "execution_count": 2,
      "metadata": {
        "id": "dfyY0rZaG_zn"
      },
      "outputs": [],
      "source": [
        "def one_hot_encode(dataset, columns, encoder = None) -> preprocessing.OneHotEncoder:\n",
        "    if encoder:\n",
        "        transformed = encoder.transform(dataset[columns])\n",
        "    else:\n",
        "        encoder = preprocessing.OneHotEncoder(sparse= False)\n",
        "        transformed = encoder.fit_transform(dataset[columns])\n",
        "\n",
        "    new_columns = []\n",
        "    for i, column in enumerate(encoder.feature_names_in_):\n",
        "        new_columns.extend([column + str(cat) for cat in encoder.categories_[i]])\n",
        "\n",
        "    encoder_df = pd.DataFrame(transformed, index=dataset.index)\n",
        "    dataset[new_columns] = encoder_df\n",
        "    dataset.drop(columns=columns, inplace=True)\n",
        "    return encoder"
      ]
    },
    {
      "cell_type": "markdown",
      "metadata": {
        "collapsed": false,
        "id": "hN7eX9_bG_zo"
      },
      "source": [
        "### Feature dropping\n",
        "\n",
        "In Estonia, there are approximately 500\\-800 millimeters of rain on average. Our dataset consisted of only about 140mm of rain, which is definitely not correct. Also, the amount of snow was inappropriate for the  \n",
        " same reason.\n"
      ]
    },
    {
      "cell_type": "code",
      "execution_count": 3,
      "metadata": {
        "id": "wjBqWsJsG_zo"
      },
      "outputs": [],
      "source": [
        "def drop_features(dataset):\n",
        "    dataset.drop(columns=['snow','prcp'], inplace=True)\n"
      ]
    },
    {
      "cell_type": "code",
      "execution_count": 4,
      "metadata": {
        "id": "0xEwUxN-G_zp"
      },
      "outputs": [],
      "source": [
        "def drop_rows(dataset):\n",
        "    # Deal with NaN values\n",
        "    initial_len = len(dataset)\n",
        "    display(dataset.head())\n",
        "    dataset.dropna(inplace=True)\n",
        "    new_len = len(dataset)\n",
        "    if (initial_len != new_len):\n",
        "        print(f'Dropped {initial_len - new_len} row')\n",
        "\n",
        "    # Deal with outliners\n",
        "    dataset.drop(dataset[dataset['el_price'] > 1].index , inplace=True)"
      ]
    },
    {
      "cell_type": "code",
      "execution_count": 5,
      "metadata": {
        "id": "ywEAPeAXG_zp"
      },
      "outputs": [],
      "source": [
        "def normalize(dataset, scaler = None) -> (pd.DataFrame, preprocessing.MinMaxScaler):\n",
        "    if scaler:\n",
        "        dataset_scaled = scaler.transform(dataset)\n",
        "        return (dataset_scaled, scaler)\n",
        "    scaler = preprocessing.MinMaxScaler()\n",
        "    dataset_scaled = scaler.fit_transform(dataset)\n",
        "    return (dataset_scaled, scaler)"
      ]
    },
    {
      "cell_type": "code",
      "execution_count": 6,
      "metadata": {
        "id": "w5mvJMC5G_zp"
      },
      "outputs": [],
      "source": [
        "def reduce_dimensions(dataset, pca = None) -> (pd.DataFrame, decomposition.PCA):\n",
        "    if pca:\n",
        "        dataset_reduced = pca.transform(dataset)\n",
        "        return (dataset_reduced, pca)\n",
        "    pca = decomposition.PCA(n_components=0.9)\n",
        "    dataset_reduced = pca.fit_transform(dataset)\n",
        "    return (dataset_reduced, pca)"
      ]
    },
    {
      "cell_type": "code",
      "execution_count": 7,
      "metadata": {
        "id": "9ZgyuDOzG_zp"
      },
      "outputs": [],
      "source": [
        "def preprocess(dataset, encoder=None):\n",
        "    drop_features(dataset)\n",
        "    drop_rows(dataset)\n",
        "    encoder = one_hot_encode(dataset, ['coco'], encoder)\n",
        "    return encoder\n"
      ]
    },
    {
      "cell_type": "markdown",
      "metadata": {
        "collapsed": false,
        "id": "5VCuq2_ZG_zp"
      },
      "source": [
        "### Import dataset\n",
        "\n",
        "Here we import dataset, do inital processing and split into train and validation."
      ]
    },
    {
      "cell_type": "code",
      "execution_count": 8,
      "metadata": {
        "id": "QrxVmltyG_zp"
      },
      "outputs": [],
      "source": [
        "def read_dataset(file_name) -> pd.DataFrame:\n",
        "    return pd.read_csv(file_name).set_index('time').sort_index()"
      ]
    },
    {
      "cell_type": "code",
      "execution_count": 9,
      "metadata": {
        "id": "4M-OODkHG_zq"
      },
      "outputs": [],
      "source": [
        "def extract_labels(dataset) -> (pd.DataFrame, pd.Series):\n",
        "    X_train = dataset.loc[:, ~dataset.columns.isin(['consumption'])]\n",
        "    y_train = dataset['consumption']\n",
        "    return (X_train, y_train)"
      ]
    },
    {
      "cell_type": "code",
      "execution_count": 10,
      "metadata": {
        "colab": {
          "base_uri": "https://localhost:8080/",
          "height": 255
        },
        "id": "86ZWVt3pG_zq",
        "outputId": "ca6f993a-b3f7-4d25-a8a4-7d9709389e33"
      },
      "outputs": [
        {
          "output_type": "display_data",
          "data": {
            "text/plain": [
              "                           temp  dwpt  rhum   wdir  wspd  wpgt    pres  coco  \\\n",
              "time                                                                           \n",
              "2021-09-01 00:00:00+03:00  11.2  10.3  94.0  320.0   7.2  16.7  1012.6   2.0   \n",
              "2021-09-01 01:00:00+03:00  10.7   9.6  93.0  320.0   7.2  13.0  1012.6   2.0   \n",
              "2021-09-01 02:00:00+03:00   9.9   9.0  94.0  320.0   7.2  13.0  1012.2   2.0   \n",
              "2021-09-01 03:00:00+03:00  10.0   8.4  90.0  330.0   7.2  13.0  1011.9   1.0   \n",
              "2021-09-01 04:00:00+03:00   9.0   8.1  94.0  300.0   3.6  13.0  1011.4   2.0   \n",
              "\n",
              "                           el_price  consumption  \n",
              "time                                              \n",
              "2021-09-01 00:00:00+03:00   0.09016        0.577  \n",
              "2021-09-01 01:00:00+03:00   0.09251        0.594  \n",
              "2021-09-01 02:00:00+03:00   0.08890        0.685  \n",
              "2021-09-01 03:00:00+03:00   0.08735        1.016  \n",
              "2021-09-01 04:00:00+03:00   0.08688        0.677  "
            ],
            "text/html": [
              "\n",
              "  <div id=\"df-838a5ebe-5ca8-4afb-ba3a-bf8ffa4aa0fb\">\n",
              "    <div class=\"colab-df-container\">\n",
              "      <div>\n",
              "<style scoped>\n",
              "    .dataframe tbody tr th:only-of-type {\n",
              "        vertical-align: middle;\n",
              "    }\n",
              "\n",
              "    .dataframe tbody tr th {\n",
              "        vertical-align: top;\n",
              "    }\n",
              "\n",
              "    .dataframe thead th {\n",
              "        text-align: right;\n",
              "    }\n",
              "</style>\n",
              "<table border=\"1\" class=\"dataframe\">\n",
              "  <thead>\n",
              "    <tr style=\"text-align: right;\">\n",
              "      <th></th>\n",
              "      <th>temp</th>\n",
              "      <th>dwpt</th>\n",
              "      <th>rhum</th>\n",
              "      <th>wdir</th>\n",
              "      <th>wspd</th>\n",
              "      <th>wpgt</th>\n",
              "      <th>pres</th>\n",
              "      <th>coco</th>\n",
              "      <th>el_price</th>\n",
              "      <th>consumption</th>\n",
              "    </tr>\n",
              "    <tr>\n",
              "      <th>time</th>\n",
              "      <th></th>\n",
              "      <th></th>\n",
              "      <th></th>\n",
              "      <th></th>\n",
              "      <th></th>\n",
              "      <th></th>\n",
              "      <th></th>\n",
              "      <th></th>\n",
              "      <th></th>\n",
              "      <th></th>\n",
              "    </tr>\n",
              "  </thead>\n",
              "  <tbody>\n",
              "    <tr>\n",
              "      <th>2021-09-01 00:00:00+03:00</th>\n",
              "      <td>11.2</td>\n",
              "      <td>10.3</td>\n",
              "      <td>94.0</td>\n",
              "      <td>320.0</td>\n",
              "      <td>7.2</td>\n",
              "      <td>16.7</td>\n",
              "      <td>1012.6</td>\n",
              "      <td>2.0</td>\n",
              "      <td>0.09016</td>\n",
              "      <td>0.577</td>\n",
              "    </tr>\n",
              "    <tr>\n",
              "      <th>2021-09-01 01:00:00+03:00</th>\n",
              "      <td>10.7</td>\n",
              "      <td>9.6</td>\n",
              "      <td>93.0</td>\n",
              "      <td>320.0</td>\n",
              "      <td>7.2</td>\n",
              "      <td>13.0</td>\n",
              "      <td>1012.6</td>\n",
              "      <td>2.0</td>\n",
              "      <td>0.09251</td>\n",
              "      <td>0.594</td>\n",
              "    </tr>\n",
              "    <tr>\n",
              "      <th>2021-09-01 02:00:00+03:00</th>\n",
              "      <td>9.9</td>\n",
              "      <td>9.0</td>\n",
              "      <td>94.0</td>\n",
              "      <td>320.0</td>\n",
              "      <td>7.2</td>\n",
              "      <td>13.0</td>\n",
              "      <td>1012.2</td>\n",
              "      <td>2.0</td>\n",
              "      <td>0.08890</td>\n",
              "      <td>0.685</td>\n",
              "    </tr>\n",
              "    <tr>\n",
              "      <th>2021-09-01 03:00:00+03:00</th>\n",
              "      <td>10.0</td>\n",
              "      <td>8.4</td>\n",
              "      <td>90.0</td>\n",
              "      <td>330.0</td>\n",
              "      <td>7.2</td>\n",
              "      <td>13.0</td>\n",
              "      <td>1011.9</td>\n",
              "      <td>1.0</td>\n",
              "      <td>0.08735</td>\n",
              "      <td>1.016</td>\n",
              "    </tr>\n",
              "    <tr>\n",
              "      <th>2021-09-01 04:00:00+03:00</th>\n",
              "      <td>9.0</td>\n",
              "      <td>8.1</td>\n",
              "      <td>94.0</td>\n",
              "      <td>300.0</td>\n",
              "      <td>3.6</td>\n",
              "      <td>13.0</td>\n",
              "      <td>1011.4</td>\n",
              "      <td>2.0</td>\n",
              "      <td>0.08688</td>\n",
              "      <td>0.677</td>\n",
              "    </tr>\n",
              "  </tbody>\n",
              "</table>\n",
              "</div>\n",
              "      <button class=\"colab-df-convert\" onclick=\"convertToInteractive('df-838a5ebe-5ca8-4afb-ba3a-bf8ffa4aa0fb')\"\n",
              "              title=\"Convert this dataframe to an interactive table.\"\n",
              "              style=\"display:none;\">\n",
              "        \n",
              "  <svg xmlns=\"http://www.w3.org/2000/svg\" height=\"24px\"viewBox=\"0 0 24 24\"\n",
              "       width=\"24px\">\n",
              "    <path d=\"M0 0h24v24H0V0z\" fill=\"none\"/>\n",
              "    <path d=\"M18.56 5.44l.94 2.06.94-2.06 2.06-.94-2.06-.94-.94-2.06-.94 2.06-2.06.94zm-11 1L8.5 8.5l.94-2.06 2.06-.94-2.06-.94L8.5 2.5l-.94 2.06-2.06.94zm10 10l.94 2.06.94-2.06 2.06-.94-2.06-.94-.94-2.06-.94 2.06-2.06.94z\"/><path d=\"M17.41 7.96l-1.37-1.37c-.4-.4-.92-.59-1.43-.59-.52 0-1.04.2-1.43.59L10.3 9.45l-7.72 7.72c-.78.78-.78 2.05 0 2.83L4 21.41c.39.39.9.59 1.41.59.51 0 1.02-.2 1.41-.59l7.78-7.78 2.81-2.81c.8-.78.8-2.07 0-2.86zM5.41 20L4 18.59l7.72-7.72 1.47 1.35L5.41 20z\"/>\n",
              "  </svg>\n",
              "      </button>\n",
              "      \n",
              "  <style>\n",
              "    .colab-df-container {\n",
              "      display:flex;\n",
              "      flex-wrap:wrap;\n",
              "      gap: 12px;\n",
              "    }\n",
              "\n",
              "    .colab-df-convert {\n",
              "      background-color: #E8F0FE;\n",
              "      border: none;\n",
              "      border-radius: 50%;\n",
              "      cursor: pointer;\n",
              "      display: none;\n",
              "      fill: #1967D2;\n",
              "      height: 32px;\n",
              "      padding: 0 0 0 0;\n",
              "      width: 32px;\n",
              "    }\n",
              "\n",
              "    .colab-df-convert:hover {\n",
              "      background-color: #E2EBFA;\n",
              "      box-shadow: 0px 1px 2px rgba(60, 64, 67, 0.3), 0px 1px 3px 1px rgba(60, 64, 67, 0.15);\n",
              "      fill: #174EA6;\n",
              "    }\n",
              "\n",
              "    [theme=dark] .colab-df-convert {\n",
              "      background-color: #3B4455;\n",
              "      fill: #D2E3FC;\n",
              "    }\n",
              "\n",
              "    [theme=dark] .colab-df-convert:hover {\n",
              "      background-color: #434B5C;\n",
              "      box-shadow: 0px 1px 3px 1px rgba(0, 0, 0, 0.15);\n",
              "      filter: drop-shadow(0px 1px 2px rgba(0, 0, 0, 0.3));\n",
              "      fill: #FFFFFF;\n",
              "    }\n",
              "  </style>\n",
              "\n",
              "      <script>\n",
              "        const buttonEl =\n",
              "          document.querySelector('#df-838a5ebe-5ca8-4afb-ba3a-bf8ffa4aa0fb button.colab-df-convert');\n",
              "        buttonEl.style.display =\n",
              "          google.colab.kernel.accessAllowed ? 'block' : 'none';\n",
              "\n",
              "        async function convertToInteractive(key) {\n",
              "          const element = document.querySelector('#df-838a5ebe-5ca8-4afb-ba3a-bf8ffa4aa0fb');\n",
              "          const dataTable =\n",
              "            await google.colab.kernel.invokeFunction('convertToInteractive',\n",
              "                                                     [key], {});\n",
              "          if (!dataTable) return;\n",
              "\n",
              "          const docLinkHtml = 'Like what you see? Visit the ' +\n",
              "            '<a target=\"_blank\" href=https://colab.research.google.com/notebooks/data_table.ipynb>data table notebook</a>'\n",
              "            + ' to learn more about interactive tables.';\n",
              "          element.innerHTML = '';\n",
              "          dataTable['output_type'] = 'display_data';\n",
              "          await google.colab.output.renderOutput(dataTable, element);\n",
              "          const docLink = document.createElement('div');\n",
              "          docLink.innerHTML = docLinkHtml;\n",
              "          element.appendChild(docLink);\n",
              "        }\n",
              "      </script>\n",
              "    </div>\n",
              "  </div>\n",
              "  "
            ]
          },
          "metadata": {}
        },
        {
          "output_type": "stream",
          "name": "stdout",
          "text": [
            "Dropped 198 row\n"
          ]
        }
      ],
      "source": [
        "train_df = read_dataset('train.csv')\n",
        "encoder = preprocess(train_df)\n",
        "\n",
        "X_train, y_train = extract_labels(train_df)\n",
        "\n",
        "X_train_norm, scaler_data = normalize(X_train)\n",
        "\n",
        "X_train_reduced, pca = reduce_dimensions(X_train_norm)\n"
      ]
    },
    {
      "cell_type": "code",
      "execution_count": 11,
      "metadata": {
        "colab": {
          "base_uri": "https://localhost:8080/",
          "height": 238
        },
        "id": "ZJQrBk77G_zr",
        "outputId": "ac74401b-7239-4fce-898a-03e27086fde4"
      },
      "outputs": [
        {
          "output_type": "display_data",
          "data": {
            "text/plain": [
              "                           temp  dwpt  rhum   wdir  wspd  wpgt    pres  coco  \\\n",
              "time                                                                           \n",
              "2022-08-25 00:00:00+03:00  21.1  15.2  69.0  340.0   9.0   9.3  1022.0   2.0   \n",
              "2022-08-25 01:00:00+03:00  20.1  15.1  73.0   30.0   6.0  14.8  1022.0   2.0   \n",
              "2022-08-25 02:00:00+03:00  20.1  15.1  73.0  320.0   7.0  13.0  1022.0   2.0   \n",
              "2022-08-25 03:00:00+03:00  18.7  17.0  90.0    0.0   4.0  11.1  1022.4   4.0   \n",
              "2022-08-25 04:00:00+03:00  18.1  17.1  94.0  280.0   7.0  11.1  1022.0   3.0   \n",
              "\n",
              "                           el_price  \n",
              "time                                 \n",
              "2022-08-25 00:00:00+03:00   0.25533  \n",
              "2022-08-25 01:00:00+03:00   0.19492  \n",
              "2022-08-25 02:00:00+03:00   0.18853  \n",
              "2022-08-25 03:00:00+03:00   0.19947  \n",
              "2022-08-25 04:00:00+03:00   0.21192  "
            ],
            "text/html": [
              "\n",
              "  <div id=\"df-b1a2cb4f-350e-4297-be45-e454cf05b21a\">\n",
              "    <div class=\"colab-df-container\">\n",
              "      <div>\n",
              "<style scoped>\n",
              "    .dataframe tbody tr th:only-of-type {\n",
              "        vertical-align: middle;\n",
              "    }\n",
              "\n",
              "    .dataframe tbody tr th {\n",
              "        vertical-align: top;\n",
              "    }\n",
              "\n",
              "    .dataframe thead th {\n",
              "        text-align: right;\n",
              "    }\n",
              "</style>\n",
              "<table border=\"1\" class=\"dataframe\">\n",
              "  <thead>\n",
              "    <tr style=\"text-align: right;\">\n",
              "      <th></th>\n",
              "      <th>temp</th>\n",
              "      <th>dwpt</th>\n",
              "      <th>rhum</th>\n",
              "      <th>wdir</th>\n",
              "      <th>wspd</th>\n",
              "      <th>wpgt</th>\n",
              "      <th>pres</th>\n",
              "      <th>coco</th>\n",
              "      <th>el_price</th>\n",
              "    </tr>\n",
              "    <tr>\n",
              "      <th>time</th>\n",
              "      <th></th>\n",
              "      <th></th>\n",
              "      <th></th>\n",
              "      <th></th>\n",
              "      <th></th>\n",
              "      <th></th>\n",
              "      <th></th>\n",
              "      <th></th>\n",
              "      <th></th>\n",
              "    </tr>\n",
              "  </thead>\n",
              "  <tbody>\n",
              "    <tr>\n",
              "      <th>2022-08-25 00:00:00+03:00</th>\n",
              "      <td>21.1</td>\n",
              "      <td>15.2</td>\n",
              "      <td>69.0</td>\n",
              "      <td>340.0</td>\n",
              "      <td>9.0</td>\n",
              "      <td>9.3</td>\n",
              "      <td>1022.0</td>\n",
              "      <td>2.0</td>\n",
              "      <td>0.25533</td>\n",
              "    </tr>\n",
              "    <tr>\n",
              "      <th>2022-08-25 01:00:00+03:00</th>\n",
              "      <td>20.1</td>\n",
              "      <td>15.1</td>\n",
              "      <td>73.0</td>\n",
              "      <td>30.0</td>\n",
              "      <td>6.0</td>\n",
              "      <td>14.8</td>\n",
              "      <td>1022.0</td>\n",
              "      <td>2.0</td>\n",
              "      <td>0.19492</td>\n",
              "    </tr>\n",
              "    <tr>\n",
              "      <th>2022-08-25 02:00:00+03:00</th>\n",
              "      <td>20.1</td>\n",
              "      <td>15.1</td>\n",
              "      <td>73.0</td>\n",
              "      <td>320.0</td>\n",
              "      <td>7.0</td>\n",
              "      <td>13.0</td>\n",
              "      <td>1022.0</td>\n",
              "      <td>2.0</td>\n",
              "      <td>0.18853</td>\n",
              "    </tr>\n",
              "    <tr>\n",
              "      <th>2022-08-25 03:00:00+03:00</th>\n",
              "      <td>18.7</td>\n",
              "      <td>17.0</td>\n",
              "      <td>90.0</td>\n",
              "      <td>0.0</td>\n",
              "      <td>4.0</td>\n",
              "      <td>11.1</td>\n",
              "      <td>1022.4</td>\n",
              "      <td>4.0</td>\n",
              "      <td>0.19947</td>\n",
              "    </tr>\n",
              "    <tr>\n",
              "      <th>2022-08-25 04:00:00+03:00</th>\n",
              "      <td>18.1</td>\n",
              "      <td>17.1</td>\n",
              "      <td>94.0</td>\n",
              "      <td>280.0</td>\n",
              "      <td>7.0</td>\n",
              "      <td>11.1</td>\n",
              "      <td>1022.0</td>\n",
              "      <td>3.0</td>\n",
              "      <td>0.21192</td>\n",
              "    </tr>\n",
              "  </tbody>\n",
              "</table>\n",
              "</div>\n",
              "      <button class=\"colab-df-convert\" onclick=\"convertToInteractive('df-b1a2cb4f-350e-4297-be45-e454cf05b21a')\"\n",
              "              title=\"Convert this dataframe to an interactive table.\"\n",
              "              style=\"display:none;\">\n",
              "        \n",
              "  <svg xmlns=\"http://www.w3.org/2000/svg\" height=\"24px\"viewBox=\"0 0 24 24\"\n",
              "       width=\"24px\">\n",
              "    <path d=\"M0 0h24v24H0V0z\" fill=\"none\"/>\n",
              "    <path d=\"M18.56 5.44l.94 2.06.94-2.06 2.06-.94-2.06-.94-.94-2.06-.94 2.06-2.06.94zm-11 1L8.5 8.5l.94-2.06 2.06-.94-2.06-.94L8.5 2.5l-.94 2.06-2.06.94zm10 10l.94 2.06.94-2.06 2.06-.94-2.06-.94-.94-2.06-.94 2.06-2.06.94z\"/><path d=\"M17.41 7.96l-1.37-1.37c-.4-.4-.92-.59-1.43-.59-.52 0-1.04.2-1.43.59L10.3 9.45l-7.72 7.72c-.78.78-.78 2.05 0 2.83L4 21.41c.39.39.9.59 1.41.59.51 0 1.02-.2 1.41-.59l7.78-7.78 2.81-2.81c.8-.78.8-2.07 0-2.86zM5.41 20L4 18.59l7.72-7.72 1.47 1.35L5.41 20z\"/>\n",
              "  </svg>\n",
              "      </button>\n",
              "      \n",
              "  <style>\n",
              "    .colab-df-container {\n",
              "      display:flex;\n",
              "      flex-wrap:wrap;\n",
              "      gap: 12px;\n",
              "    }\n",
              "\n",
              "    .colab-df-convert {\n",
              "      background-color: #E8F0FE;\n",
              "      border: none;\n",
              "      border-radius: 50%;\n",
              "      cursor: pointer;\n",
              "      display: none;\n",
              "      fill: #1967D2;\n",
              "      height: 32px;\n",
              "      padding: 0 0 0 0;\n",
              "      width: 32px;\n",
              "    }\n",
              "\n",
              "    .colab-df-convert:hover {\n",
              "      background-color: #E2EBFA;\n",
              "      box-shadow: 0px 1px 2px rgba(60, 64, 67, 0.3), 0px 1px 3px 1px rgba(60, 64, 67, 0.15);\n",
              "      fill: #174EA6;\n",
              "    }\n",
              "\n",
              "    [theme=dark] .colab-df-convert {\n",
              "      background-color: #3B4455;\n",
              "      fill: #D2E3FC;\n",
              "    }\n",
              "\n",
              "    [theme=dark] .colab-df-convert:hover {\n",
              "      background-color: #434B5C;\n",
              "      box-shadow: 0px 1px 3px 1px rgba(0, 0, 0, 0.15);\n",
              "      filter: drop-shadow(0px 1px 2px rgba(0, 0, 0, 0.3));\n",
              "      fill: #FFFFFF;\n",
              "    }\n",
              "  </style>\n",
              "\n",
              "      <script>\n",
              "        const buttonEl =\n",
              "          document.querySelector('#df-b1a2cb4f-350e-4297-be45-e454cf05b21a button.colab-df-convert');\n",
              "        buttonEl.style.display =\n",
              "          google.colab.kernel.accessAllowed ? 'block' : 'none';\n",
              "\n",
              "        async function convertToInteractive(key) {\n",
              "          const element = document.querySelector('#df-b1a2cb4f-350e-4297-be45-e454cf05b21a');\n",
              "          const dataTable =\n",
              "            await google.colab.kernel.invokeFunction('convertToInteractive',\n",
              "                                                     [key], {});\n",
              "          if (!dataTable) return;\n",
              "\n",
              "          const docLinkHtml = 'Like what you see? Visit the ' +\n",
              "            '<a target=\"_blank\" href=https://colab.research.google.com/notebooks/data_table.ipynb>data table notebook</a>'\n",
              "            + ' to learn more about interactive tables.';\n",
              "          element.innerHTML = '';\n",
              "          dataTable['output_type'] = 'display_data';\n",
              "          await google.colab.output.renderOutput(dataTable, element);\n",
              "          const docLink = document.createElement('div');\n",
              "          docLink.innerHTML = docLinkHtml;\n",
              "          element.appendChild(docLink);\n",
              "        }\n",
              "      </script>\n",
              "    </div>\n",
              "  </div>\n",
              "  "
            ]
          },
          "metadata": {}
        }
      ],
      "source": [
        "X_test = read_dataset('test.csv')\n",
        "preprocess(X_test, encoder)\n",
        "\n",
        "X_test_norm, _ = normalize(X_test, scaler_data)\n",
        "X_test_reduced, _ = reduce_dimensions(X_test_norm, pca)"
      ]
    },
    {
      "cell_type": "code",
      "execution_count": 12,
      "metadata": {
        "id": "ASksVPZVG_zr"
      },
      "outputs": [],
      "source": [
        "from sklearn.model_selection import train_test_split\n",
        "\n",
        "X_train, X_val, y_train, y_val = train_test_split(X_train_reduced, y_train, test_size=0.2)"
      ]
    },
    {
      "cell_type": "code",
      "execution_count": 13,
      "metadata": {
        "colab": {
          "base_uri": "https://localhost:8080/"
        },
        "id": "uPrlZDSjG_zr",
        "outputId": "4f503be2-8b30-47e5-accd-b75654800630"
      },
      "outputs": [
        {
          "output_type": "execute_result",
          "data": {
            "text/plain": [
              "array([-0.0583385 , -0.23758894,  0.24719226,  0.76009364, -0.4769018 ,\n",
              "        0.04617146,  0.06160237, -0.08278145, -0.20454834,  0.08174335])"
            ]
          },
          "metadata": {},
          "execution_count": 13
        }
      ],
      "source": [
        "X_train[0]"
      ]
    },
    {
      "cell_type": "code",
      "execution_count": 14,
      "metadata": {
        "id": "-EZWjw3iG_zr"
      },
      "outputs": [],
      "source": [
        "import itertools\n",
        "\n",
        "# Numpy\n",
        "import numpy as np\n",
        "\n",
        "# Keras\n",
        "from keras.layers import Dense, Input, BatchNormalization\n",
        "from keras.models import Sequential\n",
        "from tensorflow.keras.optimizers import SGD\n",
        "\n",
        "# Pandas\n",
        "import pandas as pd\n",
        "\n",
        "# Sklearn\n",
        "import sklearn.preprocessing\n",
        "import sklearn.utils\n",
        "\n",
        "# Visualiseerimine\n",
        "import matplotlib.pyplot as plt\n",
        "%matplotlib inline"
      ]
    },
    {
      "cell_type": "code",
      "source": [
        "X_train.shape[1]"
      ],
      "metadata": {
        "colab": {
          "base_uri": "https://localhost:8080/"
        },
        "id": "_lZ2Iwh8RLG5",
        "outputId": "8709a4b0-ebe6-4c28-f94d-40d1db337707"
      },
      "execution_count": 15,
      "outputs": [
        {
          "output_type": "execute_result",
          "data": {
            "text/plain": [
              "10"
            ]
          },
          "metadata": {},
          "execution_count": 15
        }
      ]
    },
    {
      "cell_type": "code",
      "source": [
        "X_train = np.expand_dims(X_train, axis=-1)\n",
        "X_val = np.expand_dims(X_val, axis=-1)\n",
        "\n",
        "X_train.shape"
      ],
      "metadata": {
        "id": "tFvA4uOwceyO",
        "outputId": "cb01596f-dbd8-4f88-d14f-29e3ae93629e",
        "colab": {
          "base_uri": "https://localhost:8080/"
        }
      },
      "execution_count": 16,
      "outputs": [
        {
          "output_type": "execute_result",
          "data": {
            "text/plain": [
              "(6713, 10, 1)"
            ]
          },
          "metadata": {},
          "execution_count": 16
        }
      ]
    },
    {
      "cell_type": "code",
      "execution_count": 39,
      "metadata": {
        "id": "icZedCGnG_zr"
      },
      "outputs": [],
      "source": [
        "from tensorflow.keras.layers import Input, Conv2D, Activation, Flatten, Dense, MaxPooling2D, BatchNormalization, Dropout, LSTM, SimpleRNN, Embedding, GRU\n",
        "\n",
        "mdl = Sequential()\n",
        "\n",
        "mdl.add(LSTM(64, return_sequences=True,  input_shape=(X_train.shape[1], X_train.shape[2])))\n",
        "mdl.add(LSTM(64, return_sequences=True))\n",
        "mdl.add(LSTM(64, return_sequences=False))\n",
        "mdl.add(Dense(10))\n",
        "\n",
        "mdl.compile(loss='mae', optimizer=\"adam\")\n"
      ]
    },
    {
      "cell_type": "code",
      "source": [],
      "metadata": {
        "id": "K0cOrg38Hfbq"
      },
      "execution_count": 34,
      "outputs": []
    },
    {
      "cell_type": "code",
      "execution_count": 40,
      "metadata": {
        "colab": {
          "base_uri": "https://localhost:8080/"
        },
        "id": "5XJrpFfxG_zs",
        "outputId": "84778919-9fcd-433c-fbb8-5d2209ac8220"
      },
      "outputs": [
        {
          "output_type": "stream",
          "name": "stdout",
          "text": [
            "Epoch 1/15\n",
            "210/210 [==============================] - 7s 12ms/step - loss: 0.6683 - val_loss: 0.6523\n",
            "Epoch 2/15\n",
            "210/210 [==============================] - 2s 8ms/step - loss: 0.6435 - val_loss: 0.6513\n",
            "Epoch 3/15\n",
            "210/210 [==============================] - 1s 7ms/step - loss: 0.6424 - val_loss: 0.6514\n",
            "Epoch 4/15\n",
            "210/210 [==============================] - 2s 7ms/step - loss: 0.6412 - val_loss: 0.6523\n",
            "Epoch 5/15\n",
            "210/210 [==============================] - 1s 7ms/step - loss: 0.6414 - val_loss: 0.6485\n",
            "Epoch 6/15\n",
            "210/210 [==============================] - 2s 7ms/step - loss: 0.6381 - val_loss: 0.6464\n",
            "Epoch 7/15\n",
            "210/210 [==============================] - 1s 7ms/step - loss: 0.6365 - val_loss: 0.6455\n",
            "Epoch 8/15\n",
            "210/210 [==============================] - 2s 7ms/step - loss: 0.6302 - val_loss: 0.6348\n",
            "Epoch 9/15\n",
            "210/210 [==============================] - 2s 8ms/step - loss: 0.6002 - val_loss: 0.5876\n",
            "Epoch 10/15\n",
            "210/210 [==============================] - 2s 7ms/step - loss: 0.5813 - val_loss: 0.5867\n",
            "Epoch 11/15\n",
            "210/210 [==============================] - 2s 7ms/step - loss: 0.5763 - val_loss: 0.5843\n",
            "Epoch 12/15\n",
            "210/210 [==============================] - 2s 7ms/step - loss: 0.5706 - val_loss: 0.5719\n",
            "Epoch 13/15\n",
            "210/210 [==============================] - 2s 7ms/step - loss: 0.5672 - val_loss: 0.5770\n",
            "Epoch 14/15\n",
            "210/210 [==============================] - 2s 7ms/step - loss: 0.5646 - val_loss: 0.5780\n",
            "Epoch 15/15\n",
            "210/210 [==============================] - 2s 7ms/step - loss: 0.5640 - val_loss: 0.5715\n"
          ]
        }
      ],
      "source": [
        "history = mdl.fit(X_train, y_train, validation_data=(X_val,y_val), epochs=15, batch_size=32, verbose=True)"
      ]
    },
    {
      "cell_type": "code",
      "source": [
        "plt.figure(figsize=(16, 6))\n",
        "\n",
        "plt.subplot(1, 2, 1)\n",
        "plt.plot(history.history['loss'])\n",
        "plt.plot(history.history['val_loss'])\n",
        "plt.xlabel('Epoch')\n",
        "plt.ylabel('Loss')\n",
        "plt.legend(['Training', 'Validation'])\n",
        "plt.title('Loss')\n",
        "\n",
        "#plt.subplot(1, 2, 2)\n",
        "#plt.plot(history.history['accuracy'])\n",
        "#plt.plot(history.history['val_accuracy'])\n",
        "#plt.xlabel('Epoch')\n",
        "#plt.ylabel('Accuracy')\n",
        "#plt.legend(['Training', 'Validation'])\n",
        "#plt.title('Accuracy')"
      ],
      "metadata": {
        "id": "vhI854PEHXNE",
        "outputId": "dcb5f980-82db-4076-e153-18f452e1aa91",
        "colab": {
          "base_uri": "https://localhost:8080/",
          "height": 421
        }
      },
      "execution_count": 41,
      "outputs": [
        {
          "output_type": "execute_result",
          "data": {
            "text/plain": [
              "Text(0.5, 1.0, 'Loss')"
            ]
          },
          "metadata": {},
          "execution_count": 41
        },
        {
          "output_type": "display_data",
          "data": {
            "text/plain": [
              "<Figure size 1152x432 with 1 Axes>"
            ],
            "image/png": "[encoded data removed]"
          },
          "metadata": {
            "needs_background": "light"
          }
        }
      ]
    },
    {
      "cell_type": "code",
      "source": [
        "prediction = mdl.predict(X_test_reduced)"
      ],
      "metadata": {
        "id": "dptGtBsYHYVv",
        "outputId": "32536fe5-da3c-4ab7-d533-567cbf09ef35",
        "colab": {
          "base_uri": "https://localhost:8080/"
        }
      },
      "execution_count": 22,
      "outputs": [
        {
          "output_type": "stream",
          "name": "stdout",
          "text": [
            "6/6 [==============================] - 0s 4ms/step\n"
          ]
        }
      ]
    },
    {
      "cell_type": "code",
      "source": [
        "prediction"
      ],
      "metadata": {
        "id": "S1wUYiZyJFSi",
        "outputId": "bf91fb48-2671-44cb-e19d-b7662221b525",
        "colab": {
          "base_uri": "https://localhost:8080/"
        }
      },
      "execution_count": 23,
      "outputs": [
        {
          "output_type": "execute_result",
          "data": {
            "text/plain": [
              "array([[0.7668716 ],\n",
              "       [0.6272985 ],\n",
              "       [0.7100408 ],\n",
              "       [0.45105478],\n",
              "       [0.44101796],\n",
              "       [0.36003226],\n",
              "       [0.50401473],\n",
              "       [0.48082563],\n",
              "       [0.5086027 ],\n",
              "       [0.49008492],\n",
              "       [0.48954275],\n",
              "       [0.609588  ],\n",
              "       [0.5979129 ],\n",
              "       [0.6376109 ],\n",
              "       [0.70530224],\n",
              "       [0.6369381 ],\n",
              "       [0.6682056 ],\n",
              "       [0.6763263 ],\n",
              "       [0.6078516 ],\n",
              "       [0.7974467 ],\n",
              "       [0.7376964 ],\n",
              "       [0.5861428 ],\n",
              "       [0.5852953 ],\n",
              "       [0.5511111 ],\n",
              "       [0.3805019 ],\n",
              "       [0.31968036],\n",
              "       [0.32934055],\n",
              "       [0.48675048],\n",
              "       [0.17107262],\n",
              "       [0.15537637],\n",
              "       [0.1843149 ],\n",
              "       [0.49345034],\n",
              "       [0.51807594],\n",
              "       [0.5381596 ],\n",
              "       [0.7499671 ],\n",
              "       [0.74375737],\n",
              "       [0.7579627 ],\n",
              "       [0.62053096],\n",
              "       [0.7984266 ],\n",
              "       [0.6354246 ],\n",
              "       [0.8444227 ],\n",
              "       [0.84064686],\n",
              "       [0.80306125],\n",
              "       [0.7602807 ],\n",
              "       [0.58442414],\n",
              "       [0.55692613],\n",
              "       [0.29378426],\n",
              "       [0.26486245],\n",
              "       [0.2779572 ],\n",
              "       [0.30214033],\n",
              "       [0.20583087],\n",
              "       [0.25272393],\n",
              "       [0.23083219],\n",
              "       [0.21154217],\n",
              "       [0.19760762],\n",
              "       [0.19680566],\n",
              "       [0.17913565],\n",
              "       [0.31180382],\n",
              "       [0.17400043],\n",
              "       [0.42145917],\n",
              "       [0.60248864],\n",
              "       [0.6633737 ],\n",
              "       [0.6731185 ],\n",
              "       [0.7087898 ],\n",
              "       [0.91310227],\n",
              "       [1.027771  ],\n",
              "       [1.0076528 ],\n",
              "       [0.72405434],\n",
              "       [0.50890934],\n",
              "       [0.551021  ],\n",
              "       [0.34459624],\n",
              "       [0.17987211],\n",
              "       [0.18203574],\n",
              "       [0.16484201],\n",
              "       [0.23472323],\n",
              "       [0.23944442],\n",
              "       [0.19963758],\n",
              "       [0.22288957],\n",
              "       [0.22029075],\n",
              "       [0.2537318 ],\n",
              "       [0.37305707],\n",
              "       [0.5584285 ],\n",
              "       [0.58139646],\n",
              "       [0.7234628 ],\n",
              "       [0.75432646],\n",
              "       [0.98651695],\n",
              "       [0.9401721 ],\n",
              "       [0.82182026],\n",
              "       [0.6882112 ],\n",
              "       [0.73426044],\n",
              "       [0.7393899 ],\n",
              "       [0.7099922 ],\n",
              "       [0.5214119 ],\n",
              "       [0.5700382 ],\n",
              "       [0.42378473],\n",
              "       [0.40510204],\n",
              "       [0.3111523 ],\n",
              "       [0.26954567],\n",
              "       [0.23053333],\n",
              "       [0.23980427],\n",
              "       [0.28698784],\n",
              "       [0.39833203],\n",
              "       [0.30552378],\n",
              "       [0.19296777],\n",
              "       [0.31043518],\n",
              "       [0.45636243],\n",
              "       [0.6734822 ],\n",
              "       [0.67169094],\n",
              "       [0.742331  ],\n",
              "       [1.0373878 ],\n",
              "       [0.83867276],\n",
              "       [0.82829523],\n",
              "       [0.8662152 ],\n",
              "       [0.749357  ],\n",
              "       [0.7124443 ],\n",
              "       [0.7558346 ],\n",
              "       [0.51772505],\n",
              "       [0.4842882 ],\n",
              "       [0.62898743],\n",
              "       [0.42921954],\n",
              "       [0.4135688 ],\n",
              "       [0.46548295],\n",
              "       [0.51970506],\n",
              "       [0.4261558 ],\n",
              "       [0.46185896],\n",
              "       [0.32390937],\n",
              "       [0.3247497 ],\n",
              "       [0.3992354 ],\n",
              "       [0.38823622],\n",
              "       [0.3616232 ],\n",
              "       [0.4234067 ],\n",
              "       [0.40570343],\n",
              "       [0.41760486],\n",
              "       [0.48802945],\n",
              "       [0.57648027],\n",
              "       [0.4290569 ],\n",
              "       [0.6051799 ],\n",
              "       [0.53421855],\n",
              "       [0.5190022 ],\n",
              "       [0.60645103],\n",
              "       [0.6509069 ],\n",
              "       [0.5971075 ],\n",
              "       [0.72680163],\n",
              "       [0.72184646],\n",
              "       [0.533321  ],\n",
              "       [0.54343295],\n",
              "       [0.555684  ],\n",
              "       [0.686224  ],\n",
              "       [0.5646348 ],\n",
              "       [0.7410772 ],\n",
              "       [0.75291646],\n",
              "       [0.5780376 ],\n",
              "       [0.6431525 ],\n",
              "       [0.6620594 ],\n",
              "       [0.709111  ],\n",
              "       [0.6668134 ],\n",
              "       [0.68590105],\n",
              "       [0.5286616 ],\n",
              "       [0.66355574],\n",
              "       [0.547739  ],\n",
              "       [0.6598666 ],\n",
              "       [0.64486814],\n",
              "       [0.6477127 ],\n",
              "       [0.6424633 ],\n",
              "       [0.63088524],\n",
              "       [0.53740764],\n",
              "       [0.6522244 ],\n",
              "       [0.70568   ]], dtype=float32)"
            ]
          },
          "metadata": {},
          "execution_count": 23
        }
      ]
    },
    {
      "cell_type": "code",
      "source": [
        "X_test = read_dataset('test.csv')"
      ],
      "metadata": {
        "id": "dNcUV4NELuj3"
      },
      "execution_count": 24,
      "outputs": []
    },
    {
      "cell_type": "code",
      "source": [
        "predictions_dict = {'time':X_test.index,'consumption':[el[0]for el in prediction]}\n",
        "pred_df = pd.DataFrame(predictions_dict)\n",
        "pred_df.to_csv('submission_081222_v1.csv',index=False)"
      ],
      "metadata": {
        "id": "XKzfaUpNJtQE"
      },
      "execution_count": 26,
      "outputs": []
    },
    {
      "cell_type": "code",
      "source": [],
      "metadata": {
        "id": "GsOI3JeXLokg"
      },
      "execution_count": null,
      "outputs": []
    }
  ],
  "metadata": {
    "kernelspec": {
      "display_name": "Python 3 (system-wide)",
      "language": "python",
      "metadata": {
        "cocalc": {
          "description": "Python 3 programming language",
          "priority": 100,
          "url": "https://www.python.org/"
        }
      },
      "name": "python3",
      "resource_dir": "/ext/jupyter/kernels/python3"
    },
    "language_info": {
      "codemirror_mode": {
        "name": "ipython",
        "version": 3
      },
      "file_extension": ".py",
      "mimetype": "text/x-python",
      "name": "python",
      "nbconvert_exporter": "python",
      "pygments_lexer": "ipython3",
      "version": "3.8.10"
    },
    "colab": {
      "provenance": [],
      "include_colab_link": true
    },
    "accelerator": "GPU",
    "gpuClass": "standard"
  },
  "nbformat": 4,
  "nbformat_minor": 0
}