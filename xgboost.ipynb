{
  "cells": [
    {
      "cell_type": "markdown",
      "metadata": {
        "collapsed": false,
        "id": "xQmC7g0vG_zk"
      },
      "source": [
        "## Dataset preprocessing\n",
        "\n"
      ]
    },
    {
      "cell_type": "code",
      "execution_count": 1,
      "metadata": {
        "id": "z383-kW0G_zl"
      },
      "outputs": [],
      "source": [
        "import numpy as nb\n",
        "import pandas as pd\n",
        "\n",
        "from sklearn import preprocessing\n",
        "from sklearn import decomposition\n",
        "from sklearn.preprocessing import MinMaxScaler\n",
        "\n",
        "from matplotlib import pyplot as plt\n",
        "\n",
        "%matplotlib inline\n",
        "\n",
        "import datetime"
      ]
    },
    {
      "cell_type": "code",
      "source": [
        "from google.colab import files\n",
        "files.upload()"
      ],
      "metadata": {
        "id": "cTFHNirON6sc",
        "outputId": "d082963a-04e0-4216-eff2-36495eba40b6",
        "colab": {
          "base_uri": "https://localhost:8080/",
          "height": 90
        }
      },
      "execution_count": 2,
      "outputs": [
        {
          "output_type": "display_data",
          "data": {
            "text/plain": [
              "<IPython.core.display.HTML object>"
            ],
            "text/html": [
              "\n",
              "     <input type=\"file\" id=\"files-23d48100-9e13-41cb-9af5-3e228206d1cd\" name=\"files[]\" multiple disabled\n",
              "        style=\"border:none\" />\n",
              "     <output id=\"result-23d48100-9e13-41cb-9af5-3e228206d1cd\">\n",
              "      Upload widget is only available when the cell has been executed in the\n",
              "      current browser session. Please rerun this cell to enable.\n",
              "      </output>\n",
              "      <script>// Copyright 2017 Google LLC\n",
              "//\n",
              "// Licensed under the Apache License, Version 2.0 (the \"License\");\n",
              "// you may not use this file except in compliance with the License.\n",
              "// You may obtain a copy of the License at\n",
              "//\n",
              "//      http://www.apache.org/licenses/LICENSE-2.0\n",
              "//\n",
              "// Unless required by applicable law or agreed to in writing, software\n",
              "// distributed under the License is distributed on an \"AS IS\" BASIS,\n",
              "// WITHOUT WARRANTIES OR CONDITIONS OF ANY KIND, either express or implied.\n",
              "// See the License for the specific language governing permissions and\n",
              "// limitations under the License.\n",
              "\n",
              "/**\n",
              " * @fileoverview Helpers for google.colab Python module.\n",
              " */\n",
              "(function(scope) {\n",
              "function span(text, styleAttributes = {}) {\n",
              "  const element = document.createElement('span');\n",
              "  element.textContent = text;\n",
              "  for (const key of Object.keys(styleAttributes)) {\n",
              "    element.style[key] = styleAttributes[key];\n",
              "  }\n",
              "  return element;\n",
              "}\n",
              "\n",
              "// Max number of bytes which will be uploaded at a time.\n",
              "const MAX_PAYLOAD_SIZE = 100 * 1024;\n",
              "\n",
              "function _uploadFiles(inputId, outputId) {\n",
              "  const steps = uploadFilesStep(inputId, outputId);\n",
              "  const outputElement = document.getElementById(outputId);\n",
              "  // Cache steps on the outputElement to make it available for the next call\n",
              "  // to uploadFilesContinue from Python.\n",
              "  outputElement.steps = steps;\n",
              "\n",
              "  return _uploadFilesContinue(outputId);\n",
              "}\n",
              "\n",
              "// This is roughly an async generator (not supported in the browser yet),\n",
              "// where there are multiple asynchronous steps and the Python side is going\n",
              "// to poll for completion of each step.\n",
              "// This uses a Promise to block the python side on completion of each step,\n",
              "// then passes the result of the previous step as the input to the next step.\n",
              "function _uploadFilesContinue(outputId) {\n",
              "  const outputElement = document.getElementById(outputId);\n",
              "  const steps = outputElement.steps;\n",
              "\n",
              "  const next = steps.next(outputElement.lastPromiseValue);\n",
              "  return Promise.resolve(next.value.promise).then((value) => {\n",
              "    // Cache the last promise value to make it available to the next\n",
              "    // step of the generator.\n",
              "    outputElement.lastPromiseValue = value;\n",
              "    return next.value.response;\n",
              "  });\n",
              "}\n",
              "\n",
              "/**\n",
              " * Generator function which is called between each async step of the upload\n",
              " * process.\n",
              " * @param {string} inputId Element ID of the input file picker element.\n",
              " * @param {string} outputId Element ID of the output display.\n",
              " * @return {!Iterable<!Object>} Iterable of next steps.\n",
              " */\n",
              "function* uploadFilesStep(inputId, outputId) {\n",
              "  const inputElement = document.getElementById(inputId);\n",
              "  inputElement.disabled = false;\n",
              "\n",
              "  const outputElement = document.getElementById(outputId);\n",
              "  outputElement.innerHTML = '';\n",
              "\n",
              "  const pickedPromise = new Promise((resolve) => {\n",
              "    inputElement.addEventListener('change', (e) => {\n",
              "      resolve(e.target.files);\n",
              "    });\n",
              "  });\n",
              "\n",
              "  const cancel = document.createElement('button');\n",
              "  inputElement.parentElement.appendChild(cancel);\n",
              "  cancel.textContent = 'Cancel upload';\n",
              "  const cancelPromise = new Promise((resolve) => {\n",
              "    cancel.onclick = () => {\n",
              "      resolve(null);\n",
              "    };\n",
              "  });\n",
              "\n",
              "  // Wait for the user to pick the files.\n",
              "  const files = yield {\n",
              "    promise: Promise.race([pickedPromise, cancelPromise]),\n",
              "    response: {\n",
              "      action: 'starting',\n",
              "    }\n",
              "  };\n",
              "\n",
              "  cancel.remove();\n",
              "\n",
              "  // Disable the input element since further picks are not allowed.\n",
              "  inputElement.disabled = true;\n",
              "\n",
              "  if (!files) {\n",
              "    return {\n",
              "      response: {\n",
              "        action: 'complete',\n",
              "      }\n",
              "    };\n",
              "  }\n",
              "\n",
              "  for (const file of files) {\n",
              "    const li = document.createElement('li');\n",
              "    li.append(span(file.name, {fontWeight: 'bold'}));\n",
              "    li.append(span(\n",
              "        `(${file.type || 'n/a'}) - ${file.size} bytes, ` +\n",
              "        `last modified: ${\n",
              "            file.lastModifiedDate ? file.lastModifiedDate.toLocaleDateString() :\n",
              "                                    'n/a'} - `));\n",
              "    const percent = span('0% done');\n",
              "    li.appendChild(percent);\n",
              "\n",
              "    outputElement.appendChild(li);\n",
              "\n",
              "    const fileDataPromise = new Promise((resolve) => {\n",
              "      const reader = new FileReader();\n",
              "      reader.onload = (e) => {\n",
              "        resolve(e.target.result);\n",
              "      };\n",
              "      reader.readAsArrayBuffer(file);\n",
              "    });\n",
              "    // Wait for the data to be ready.\n",
              "    let fileData = yield {\n",
              "      promise: fileDataPromise,\n",
              "      response: {\n",
              "        action: 'continue',\n",
              "      }\n",
              "    };\n",
              "\n",
              "    // Use a chunked sending to avoid message size limits. See b/62115660.\n",
              "    let position = 0;\n",
              "    do {\n",
              "      const length = Math.min(fileData.byteLength - position, MAX_PAYLOAD_SIZE);\n",
              "      const chunk = new Uint8Array(fileData, position, length);\n",
              "      position += length;\n",
              "\n",
              "      const base64 = btoa(String.fromCharCode.apply(null, chunk));\n",
              "      yield {\n",
              "        response: {\n",
              "          action: 'append',\n",
              "          file: file.name,\n",
              "          data: base64,\n",
              "        },\n",
              "      };\n",
              "\n",
              "      let percentDone = fileData.byteLength === 0 ?\n",
              "          100 :\n",
              "          Math.round((position / fileData.byteLength) * 100);\n",
              "      percent.textContent = `${percentDone}% done`;\n",
              "\n",
              "    } while (position < fileData.byteLength);\n",
              "  }\n",
              "\n",
              "  // All done.\n",
              "  yield {\n",
              "    response: {\n",
              "      action: 'complete',\n",
              "    }\n",
              "  };\n",
              "}\n",
              "\n",
              "scope.google = scope.google || {};\n",
              "scope.google.colab = scope.google.colab || {};\n",
              "scope.google.colab._files = {\n",
              "  _uploadFiles,\n",
              "  _uploadFilesContinue,\n",
              "};\n",
              "})(self);\n",
              "</script> "
            ]
          },
          "metadata": {}
        },
        {
          "output_type": "stream",
          "name": "stdout",
          "text": [
            "Saving kaggle.json to kaggle.json\n"
          ]
        },
        {
          "output_type": "execute_result",
          "data": {
            "text/plain": [
              "{'kaggle.json': b'{\"username\":\"tiitvaino\",\"key\":\"ced67cd36a3bf255ff49cebde94923fe\"}'}"
            ]
          },
          "metadata": {},
          "execution_count": 2
        }
      ]
    },
    {
      "cell_type": "code",
      "source": [
        "# check if exists\n",
        "!ls -lha kaggle.json"
      ],
      "metadata": {
        "id": "IZQAwkrVOIgU",
        "outputId": "5fc17794-9b89-4fea-9240-5cf044935ba2",
        "colab": {
          "base_uri": "https://localhost:8080/"
        }
      },
      "execution_count": 3,
      "outputs": [
        {
          "output_type": "stream",
          "name": "stdout",
          "text": [
            "-rw-r--r-- 1 root root 65 Dec  3 11:41 kaggle.json\n"
          ]
        }
      ]
    },
    {
      "cell_type": "code",
      "source": [
        "!pip install -q kaggle\n",
        "!mkdir -p ~/.kaggle\n",
        "!cp kaggle.json ~/.kaggle/\n",
        "!chmod 600 /root/.kaggle/kaggle.json"
      ],
      "metadata": {
        "id": "6oXE_WNDOPkE"
      },
      "execution_count": 4,
      "outputs": []
    },
    {
      "cell_type": "code",
      "source": [
        "!kaggle competitions download -c predict-electricity-consumption"
      ],
      "metadata": {
        "id": "gRqZq0SiMko2",
        "outputId": "c1a8b782-5dec-42a3-8d9f-274fea1f4b8e",
        "colab": {
          "base_uri": "https://localhost:8080/"
        }
      },
      "execution_count": 5,
      "outputs": [
        {
          "output_type": "stream",
          "name": "stdout",
          "text": [
            "Downloading predict-electricity-consumption.zip to /content\n",
            "\r  0% 0.00/174k [00:00<?, ?B/s]\n",
            "\r100% 174k/174k [00:00<00:00, 51.7MB/s]\n"
          ]
        }
      ]
    },
    {
      "cell_type": "code",
      "source": [
        "!unzip predict-electricity-consumption.zip"
      ],
      "metadata": {
        "id": "EiUP1vgYOjc1",
        "outputId": "205f643c-da53-4db5-d916-700fab310f67",
        "colab": {
          "base_uri": "https://localhost:8080/"
        }
      },
      "execution_count": 6,
      "outputs": [
        {
          "output_type": "stream",
          "name": "stdout",
          "text": [
            "Archive:  predict-electricity-consumption.zip\n",
            "  inflating: sample_submission.csv   \n",
            "  inflating: test.csv                \n",
            "  inflating: train.csv               \n"
          ]
        }
      ]
    },
    {
      "cell_type": "markdown",
      "metadata": {
        "collapsed": false,
        "id": "nVB_Fy3pG_zm"
      },
      "source": [
        "### Timestamp extraction\n",
        "\n",
        "Because crazy things happened in the past year,  we validated that, some specific dates had significantly higher electricity prices. Therefore we do weekday, month, and time extraction from the timestamp.  \n",
        "\n"
      ]
    },
    {
      "cell_type": "code",
      "execution_count": 27,
      "metadata": {
        "id": "y3NmRhvzG_zm"
      },
      "outputs": [],
      "source": [
        "def extract_weekday(dataset):\n",
        "    splits = dataset['date'].astype(str).str.split('-')\n",
        "    dataset['weekday'] = [datetime.date(int(year), int(month), int(day)).weekday() for (year, month, day) in splits]"
      ]
    },
    {
      "cell_type": "code",
      "execution_count": 28,
      "metadata": {
        "id": "0orwSVNLG_zn"
      },
      "outputs": [],
      "source": [
        "def extract_month(dataset):\n",
        "    dataset['month'] = [month for (_, month, _) in dataset['date'].astype(str).str.split('-')]\n",
        "    dataset['month'] = dataset['month'].astype(int)"
      ]
    },
    {
      "cell_type": "code",
      "execution_count": 29,
      "metadata": {
        "id": "DrOWkTuHG_zn"
      },
      "outputs": [],
      "source": [
        "def extract_datetime(dataset):\n",
        "    dataset.loc[:,'time'] = pd.to_datetime(dataset.loc[:,'time'], format=\"%Y-%m-%d %H:%M:%S\", utc=True)\n",
        "    dataset['date'] = dataset['time'].dt.date\n",
        "    dataset['hour'] = dataset['time'].dt.hour"
      ]
    },
    {
      "cell_type": "code",
      "execution_count": 30,
      "metadata": {
        "id": "MJ63lOigG_zo"
      },
      "outputs": [],
      "source": [
        "def extract_features(dataset):\n",
        "    extract_datetime(dataset)\n",
        "    extract_month(dataset)\n",
        "    extract_weekday(dataset)\n"
      ]
    },
    {
      "cell_type": "markdown",
      "metadata": {
        "collapsed": false,
        "id": "hN7eX9_bG_zo"
      },
      "source": [
        "### Feature dropping\n",
        "\n",
        "In Estonia, there are approximately 500\\-800 millimeters of rain on average. Our dataset consisted of only about 140mm of rain, which is definitely not correct. Also, the amount of snow was inappropriate for the  \n",
        " same reason.\n"
      ]
    },
    {
      "cell_type": "code",
      "execution_count": 31,
      "metadata": {
        "id": "wjBqWsJsG_zo"
      },
      "outputs": [],
      "source": [
        "def drop_features(dataset):\n",
        "    dataset.drop(columns=['time','date'], inplace=True) #'prcp',\n"
      ]
    },
    {
      "cell_type": "code",
      "source": [
        "def replace_nan(dataset):\n",
        "    dataset\n",
        "    dataset['snow'] = dataset['snow'].fillna(0)"
      ],
      "metadata": {
        "id": "E4QzEJf9Qun9"
      },
      "execution_count": 32,
      "outputs": []
    },
    {
      "cell_type": "code",
      "execution_count": 33,
      "metadata": {
        "id": "0xEwUxN-G_zp"
      },
      "outputs": [],
      "source": [
        "def drop_rows(dataset):\n",
        "    # Deal with NaN values\n",
        "    \n",
        "    replace_nan(dataset)\n",
        "\n",
        "    initial_len = len(dataset)\n",
        "    dataset.dropna(inplace=True)\n",
        "    new_len = len(dataset)\n",
        "    if (initial_len != new_len):\n",
        "        print(f'Dropped {initial_len - new_len} row')\n",
        "\n",
        "    # Deal with outliners\n",
        "    dataset.drop(dataset[dataset['el_price'] > 1].index , inplace=True)"
      ]
    },
    {
      "cell_type": "code",
      "execution_count": 34,
      "metadata": {
        "id": "9ZgyuDOzG_zp"
      },
      "outputs": [],
      "source": [
        "def preprocess(dataset):\n",
        "    extract_features(dataset)\n",
        "    drop_features(dataset)\n",
        "    drop_rows(dataset)\n"
      ]
    },
    {
      "cell_type": "markdown",
      "metadata": {
        "collapsed": false,
        "id": "5VCuq2_ZG_zp"
      },
      "source": [
        "### Import dataset\n",
        "\n",
        "Here we import dataset, do inital processing and split into train and validation."
      ]
    },
    {
      "cell_type": "code",
      "execution_count": 35,
      "metadata": {
        "id": "QrxVmltyG_zp"
      },
      "outputs": [],
      "source": [
        "def read_dataset(file_name) -> pd.DataFrame:\n",
        "    return pd.read_csv(file_name)"
      ]
    },
    {
      "cell_type": "code",
      "execution_count": 36,
      "metadata": {
        "id": "4M-OODkHG_zq"
      },
      "outputs": [],
      "source": [
        "def extract_labels(dataset) -> (pd.DataFrame, pd.Series):\n",
        "    X_train = dataset.loc[:, ~dataset.columns.isin(['consumption'])]\n",
        "    y_train = dataset['consumption']\n",
        "    return (X_train, y_train)"
      ]
    },
    {
      "cell_type": "code",
      "execution_count": 40,
      "metadata": {
        "id": "86ZWVt3pG_zq"
      },
      "outputs": [],
      "source": [
        "train_df = read_dataset('train.csv')"
      ]
    },
    {
      "cell_type": "code",
      "source": [],
      "metadata": {
        "id": "qZDKsr6TzbqT"
      },
      "execution_count": null,
      "outputs": []
    },
    {
      "cell_type": "code",
      "source": [
        "train_df.prcp.value_counts()"
      ],
      "metadata": {
        "id": "qzgOTufKzCt6",
        "outputId": "fd2ce184-1b60-486f-cae5-dfdc4ff3b8e6",
        "colab": {
          "base_uri": "https://localhost:8080/"
        }
      },
      "execution_count": 43,
      "outputs": [
        {
          "output_type": "execute_result",
          "data": {
            "text/plain": [
              "0.0    2043\n",
              "0.2      20\n",
              "0.1      16\n",
              "0.3      15\n",
              "0.7       6\n",
              "1.2       6\n",
              "0.6       5\n",
              "0.4       4\n",
              "0.5       4\n",
              "1.0       4\n",
              "2.7       3\n",
              "3.6       2\n",
              "0.9       2\n",
              "2.2       2\n",
              "1.8       2\n",
              "1.6       2\n",
              "2.4       2\n",
              "1.3       2\n",
              "1.1       2\n",
              "0.8       2\n",
              "2.0       1\n",
              "3.0       1\n",
              "4.2       1\n",
              "3.1       1\n",
              "2.9       1\n",
              "4.4       1\n",
              "3.9       1\n",
              "1.7       1\n",
              "3.3       1\n",
              "6.0       1\n",
              "1.4       1\n",
              "1.5       1\n",
              "1.9       1\n",
              "3.5       1\n",
              "7.9       1\n",
              "Name: prcp, dtype: int64"
            ]
          },
          "metadata": {},
          "execution_count": 43
        }
      ]
    },
    {
      "cell_type": "code",
      "source": [
        "preprocess(train_df)\n",
        "X_train, y_train = extract_labels(train_df)"
      ],
      "metadata": {
        "id": "GP12qNRKy_1y"
      },
      "execution_count": null,
      "outputs": []
    },
    {
      "cell_type": "code",
      "execution_count": 38,
      "metadata": {
        "colab": {
          "base_uri": "https://localhost:8080/"
        },
        "id": "mtaKcoPHG_zq",
        "outputId": "1ef5e384-ab67-4cff-9e3d-efc33bcc01b2"
      },
      "outputs": [
        {
          "output_type": "execute_result",
          "data": {
            "text/plain": [
              "(1962, 14)"
            ]
          },
          "metadata": {},
          "execution_count": 38
        }
      ],
      "source": [
        "X_train.shape"
      ]
    },
    {
      "cell_type": "code",
      "execution_count": 39,
      "metadata": {
        "colab": {
          "base_uri": "https://localhost:8080/"
        },
        "id": "ZJQrBk77G_zr",
        "outputId": "c24bf04d-e4f9-4afc-d1fd-2dfa0d1c9a2b"
      },
      "outputs": [
        {
          "output_type": "stream",
          "name": "stdout",
          "text": [
            "(168, 14)\n"
          ]
        }
      ],
      "source": [
        "X_test = read_dataset('test.csv')\n",
        "preprocess(X_test)\n",
        "print(X_test.shape)"
      ]
    },
    {
      "cell_type": "code",
      "execution_count": 44,
      "metadata": {
        "id": "ASksVPZVG_zr"
      },
      "outputs": [],
      "source": [
        "from sklearn.model_selection import train_test_split\n",
        "\n",
        "X_train, X_val, y_train, y_val = train_test_split(X_train, y_train, test_size=0.2)"
      ]
    },
    {
      "cell_type": "code",
      "execution_count": 45,
      "metadata": {
        "colab": {
          "base_uri": "https://localhost:8080/"
        },
        "id": "uPrlZDSjG_zr",
        "outputId": "e6775422-36b8-4c07-c83c-faf296cd84bf"
      },
      "outputs": [
        {
          "output_type": "execute_result",
          "data": {
            "text/plain": [
              "(1569, 14)"
            ]
          },
          "metadata": {},
          "execution_count": 45
        }
      ],
      "source": [
        "X_train.shape"
      ]
    },
    {
      "cell_type": "code",
      "execution_count": 46,
      "metadata": {
        "id": "-EZWjw3iG_zr"
      },
      "outputs": [],
      "source": [
        "import itertools\n",
        "\n",
        "# Numpy\n",
        "import numpy as np\n",
        "\n",
        "# XGBoost\n",
        "import xgboost as xgb\n",
        "\n",
        "# Pandas\n",
        "import pandas as pd\n",
        "\n",
        "# Sklearn\n",
        "import sklearn.preprocessing\n",
        "import sklearn.utils\n",
        "from sklearn.metrics import mean_squared_error\n",
        "from sklearn.metrics import mean_absolute_error\n",
        "\n",
        "# Visualiseerimine\n",
        "import matplotlib.pyplot as plt\n",
        "%matplotlib inline"
      ]
    },
    {
      "cell_type": "code",
      "execution_count": 47,
      "metadata": {
        "id": "icZedCGnG_zr"
      },
      "outputs": [],
      "source": [
        "#reg = xgb.XGBRegressor(tree_method=\"gpu_hist\")\n",
        "# Fit the model using predictor X and response y."
      ]
    },
    {
      "cell_type": "code",
      "source": [
        "# XGBoosts wants data to be wrapped into special formats\n",
        "#dtrain = xgb.DMatrix(X_train,label=y_train)\n",
        "#dval = xgb.DMatrix(X_val,label=y_val)\n",
        "#dtest = xgb.DMatrix(X_test_reduced)"
      ],
      "metadata": {
        "id": "mWPVs62p5z_O"
      },
      "execution_count": 48,
      "outputs": []
    },
    {
      "cell_type": "code",
      "source": [
        "xgbr = xgb.XGBRegressor(verbosity=0)"
      ],
      "metadata": {
        "id": "_3kpgK8S7Bas"
      },
      "execution_count": 49,
      "outputs": []
    },
    {
      "cell_type": "code",
      "source": [
        "xgbr.fit(X_train, y_train)"
      ],
      "metadata": {
        "id": "XHlWKJmX8Ucf",
        "outputId": "ece43dbc-8158-4679-e52c-40878d61a154",
        "colab": {
          "base_uri": "https://localhost:8080/"
        }
      },
      "execution_count": 50,
      "outputs": [
        {
          "output_type": "execute_result",
          "data": {
            "text/plain": [
              "XGBRegressor(verbosity=0)"
            ]
          },
          "metadata": {},
          "execution_count": 50
        }
      ]
    },
    {
      "cell_type": "code",
      "source": [
        "yvalpred = xgbr.predict(X_val)\n",
        "mse = mean_squared_error(y_val, yvalpred)\n",
        "mae = mean_absolute_error(y_val, yvalpred)\n",
        "print(\"MSE: %.2f\" % mse)\n",
        "print(\"MAE: %.2f\" % mae)"
      ],
      "metadata": {
        "id": "MYctyJLg8pyR",
        "outputId": "d7928342-d76d-47bb-b56d-d83e936cc72f",
        "colab": {
          "base_uri": "https://localhost:8080/"
        }
      },
      "execution_count": 51,
      "outputs": [
        {
          "output_type": "stream",
          "name": "stdout",
          "text": [
            "MSE: 0.30\n",
            "MAE: 0.39\n"
          ]
        }
      ]
    },
    {
      "cell_type": "code",
      "source": [
        "prediction = xgbr.predict(X_test)"
      ],
      "metadata": {
        "id": "dptGtBsYHYVv"
      },
      "execution_count": 52,
      "outputs": []
    },
    {
      "cell_type": "code",
      "source": [
        "prediction"
      ],
      "metadata": {
        "colab": {
          "base_uri": "https://localhost:8080/"
        },
        "id": "S1wUYiZyJFSi",
        "outputId": "ac393c12-a70c-40aa-d1aa-285f3bb83ba5"
      },
      "execution_count": 53,
      "outputs": [
        {
          "output_type": "execute_result",
          "data": {
            "text/plain": [
              "array([0.32050276, 0.34290165, 0.2723465 , 0.2424058 , 0.76022065,\n",
              "       0.3405425 , 0.28681597, 0.45490944, 0.64308965, 0.5554238 ,\n",
              "       0.55885994, 0.60164666, 0.50343853, 0.50343853, 0.7044125 ,\n",
              "       0.6891379 , 0.68322235, 0.77750623, 0.8908756 , 0.8908756 ,\n",
              "       0.8908756 , 0.8908756 , 0.92901057, 0.42334387, 0.5044315 ,\n",
              "       0.3070174 , 0.29580486, 0.21297818, 0.681802  , 0.35142583,\n",
              "       0.52166873, 0.37343913, 0.57301295, 0.5858222 , 0.7326449 ,\n",
              "       0.70568264, 0.7445247 , 0.7081604 , 0.76231176, 0.77798474,\n",
              "       0.80402994, 0.9602808 , 0.9468429 , 0.97936726, 0.76932985,\n",
              "       0.71843195, 0.43475667, 0.38537502, 0.3619548 , 0.3238266 ,\n",
              "       0.34921938, 0.2403019 , 0.6848427 , 0.40610644, 0.40610644,\n",
              "       0.40610644, 0.581035  , 0.60856557, 0.6291005 , 0.6021298 ,\n",
              "       0.751452  , 0.7584932 , 0.82705784, 0.82837737, 0.84273076,\n",
              "       0.89106363, 0.9479465 , 0.9479855 , 0.9052729 , 0.9052729 ,\n",
              "       0.49694598, 0.3661512 , 0.39337265, 0.34711462, 0.34225786,\n",
              "       0.3651654 , 0.76161146, 0.47778833, 0.47778833, 0.524977  ,\n",
              "       0.8386884 , 0.86832523, 0.86832523, 0.89448917, 0.5983478 ,\n",
              "       0.6610069 , 0.61891824, 0.6405986 , 0.6093272 , 0.76678455,\n",
              "       0.9667878 , 0.9392396 , 0.95340526, 0.9557818 , 0.64117265,\n",
              "       0.4520901 , 0.3764281 , 0.37410504, 0.5210824 , 0.3182228 ,\n",
              "       0.88450897, 0.40198228, 0.42522985, 0.394839  , 0.5601586 ,\n",
              "       0.68988246, 0.70716023, 0.70716023, 0.7572945 , 0.67889297,\n",
              "       0.67889297, 0.67756677, 0.6274325 , 0.7466081 , 0.89171916,\n",
              "       0.8489853 , 0.98018813, 0.6773548 , 0.5106074 , 0.30739668,\n",
              "       0.33508503, 0.30507365, 0.29506445, 0.39560664, 0.90115756,\n",
              "       0.4805179 , 0.42670676, 0.46367598, 0.68411237, 0.68411237,\n",
              "       0.6893462 , 0.63613343, 0.6092831 , 0.5197809 , 0.5071962 ,\n",
              "       0.4982021 , 0.57690233, 1.018601  , 1.1753209 , 1.115728  ,\n",
              "       1.1036654 , 1.0390712 , 0.62632346, 0.33361623, 0.36313987,\n",
              "       0.5606099 , 0.5070242 , 0.6182708 , 1.137255  , 0.70924157,\n",
              "       0.95111936, 0.4321443 , 0.8737571 , 0.8845943 , 0.9313034 ,\n",
              "       0.84733856, 0.59117514, 0.9366344 , 0.9680735 , 0.8492571 ,\n",
              "       0.52834094, 1.1591933 , 0.9812322 , 1.0654788 , 1.10868   ,\n",
              "       1.1062603 , 0.6268165 , 0.3895145 ], dtype=float32)"
            ]
          },
          "metadata": {},
          "execution_count": 53
        }
      ]
    },
    {
      "cell_type": "code",
      "source": [
        "X_test = read_dataset('test.csv')"
      ],
      "metadata": {
        "id": "dNcUV4NELuj3"
      },
      "execution_count": 54,
      "outputs": []
    },
    {
      "cell_type": "code",
      "source": [
        "predictions_dict = {'time':X_test.time,'consumption':prediction}\n",
        "pred_df = pd.DataFrame(predictions_dict)\n",
        "pred_df.to_csv('submission_Xgboost_v4.csv',index=False)"
      ],
      "metadata": {
        "id": "XKzfaUpNJtQE"
      },
      "execution_count": 56,
      "outputs": []
    },
    {
      "cell_type": "code",
      "source": [
        "!ls"
      ],
      "metadata": {
        "id": "NBGr-W7nP-jt",
        "outputId": "084cb42f-dc0f-4821-af70-5a7e1ab9fa62",
        "colab": {
          "base_uri": "https://localhost:8080/"
        }
      },
      "execution_count": 57,
      "outputs": [
        {
          "output_type": "stream",
          "name": "stdout",
          "text": [
            "kaggle.json\t\t\t     sample_submission.csv\ttrain.csv\n",
            "predict-electricity-consumption.zip  submission_Xgboost_v4.csv\n",
            "sample_data\t\t\t     test.csv\n"
          ]
        }
      ]
    },
    {
      "cell_type": "code",
      "source": [
        "!kaggle competitions submit predict-electricity-consumption -f 'submission_Xgboost_v4.csv' -m \"with out dropping prcp\""
      ],
      "metadata": {
        "id": "w18fV7NrPFK9",
        "outputId": "5213a91e-57c2-41f2-b635-fcfdc155a702",
        "colab": {
          "base_uri": "https://localhost:8080/"
        }
      },
      "execution_count": 59,
      "outputs": [
        {
          "output_type": "stream",
          "name": "stdout",
          "text": [
            "100% 6.00k/6.00k [00:02<00:00, 2.18kB/s]\n",
            "Successfully submitted to Journey to zero - Predict electricity consumption"
          ]
        }
      ]
    },
    {
      "cell_type": "code",
      "source": [],
      "metadata": {
        "id": "GsOI3JeXLokg"
      },
      "execution_count": 51,
      "outputs": []
    }
  ],
  "metadata": {
    "kernelspec": {
      "display_name": "Python 3 (system-wide)",
      "language": "python",
      "metadata": {
        "cocalc": {
          "description": "Python 3 programming language",
          "priority": 100,
          "url": "https://www.python.org/"
        }
      },
      "name": "python3",
      "resource_dir": "/ext/jupyter/kernels/python3"
    },
    "language_info": {
      "codemirror_mode": {
        "name": "ipython",
        "version": 3
      },
      "file_extension": ".py",
      "mimetype": "text/x-python",
      "name": "python",
      "nbconvert_exporter": "python",
      "pygments_lexer": "ipython3",
      "version": "3.8.10"
    },
    "colab": {
      "provenance": []
    }
  },
  "nbformat": 4,
  "nbformat_minor": 0
}