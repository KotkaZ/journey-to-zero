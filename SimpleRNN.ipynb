{
  "cells": [
    {
      "cell_type": "markdown",
      "metadata": {
        "id": "view-in-github",
        "colab_type": "text"
      },
      "source": [
        "<a href=\"https://colab.research.google.com/github/KotkaZ/journey-to-zero/blob/master/SimpleRNN.ipynb\" target=\"_parent\"><img src=\"https://colab.research.google.com/assets/colab-badge.svg\" alt=\"Open In Colab\"/></a>"
      ]
    },
    {
      "cell_type": "markdown",
      "metadata": {
        "collapsed": false,
        "id": "xQmC7g0vG_zk"
      },
      "source": [
        "## RNN Notebook\n",
        "\n",
        "This notebook contains data processing and RRN Network model. The input data is a JourneyToZero Kaggle competition.\n",
        "\n",
        "https://www.kaggle.com/competitions/predict-electricity-consumption"
      ]
    },
    {
      "cell_type": "code",
      "execution_count": 35,
      "metadata": {
        "id": "z383-kW0G_zl"
      },
      "outputs": [],
      "source": [
        "# Here we use Numpy arrays and Pandas dataframes to pass and modify data.\n",
        "import numpy as np\n",
        "import pandas as pd\n",
        "\n",
        "# We use OneHotEncoder from preprocessing sklearn module.\n",
        "from sklearn import preprocessing\n",
        "\n",
        "# We use PCA from decomposition sklearn module.\n",
        "from sklearn import decomposition\n",
        "\n",
        "\n",
        "from sklearn.model_selection import train_test_split\n",
        "\n",
        "from keras.models import Sequential\n",
        "from keras.layers import Dense, SimpleRNN\n",
        "\n",
        "# We use plotting to validate neural network training curve.\n",
        "from matplotlib import pyplot as plt\n",
        "%matplotlib inline\n",
        "\n",
        "import datetime"
      ]
    },
    {
      "cell_type": "markdown",
      "metadata": {
        "collapsed": false,
        "id": "hN7eX9_bG_zo"
      },
      "source": [
        "### Feature dropping\n",
        "\n",
        "In Estonia, there are approximately 500-800 millimeters of rain on average. Our dataset consisted of only about 140mm of rain, which is definitely not correct. Also, the amount of snow was inappropriate for the same reason. We could integrate a new wether dataset or leave it as it is. The simpliest approch is to delete the whole columns, which we decided to do.\n",
        "\n",
        "Some of the rows contained null values, which we also dropped. There was a case, when electricy prices hit market limit, which caused some outliners. It was wise to drop them.\n"
      ]
    },
    {
      "cell_type": "code",
      "execution_count": 21,
      "metadata": {
        "id": "wjBqWsJsG_zo"
      },
      "outputs": [],
      "source": [
        "def drop_features(dataset):\n",
        "    dataset.drop(columns=['snow','prcp'], inplace=True)\n"
      ]
    },
    {
      "cell_type": "code",
      "execution_count": 22,
      "metadata": {
        "id": "0xEwUxN-G_zp"
      },
      "outputs": [],
      "source": [
        "def drop_rows(dataset):\n",
        "    # Deal with NaN values\n",
        "    initial_len = len(dataset)\n",
        "    display(dataset.head())\n",
        "    dataset.dropna(inplace=True)\n",
        "    new_len = len(dataset)\n",
        "    if (initial_len != new_len):\n",
        "        print(f'Dropped {initial_len - new_len} row')\n",
        "\n",
        "    # Deal with outliners\n",
        "    dataset.drop(dataset[dataset['el_price'] > 1].index , inplace=True)"
      ]
    },
    {
      "cell_type": "markdown",
      "source": [
        "### Normalize \n",
        "\n",
        "Here we scale numeric values between 0 to 1 with MinMaxScaler"
      ],
      "metadata": {
        "id": "MH1Fi39Q3dEB"
      }
    },
    {
      "cell_type": "code",
      "execution_count": 23,
      "metadata": {
        "id": "ywEAPeAXG_zp"
      },
      "outputs": [],
      "source": [
        "def normalize(dataset, scaler = None) -> (pd.DataFrame, preprocessing.MinMaxScaler):\n",
        "    if scaler:\n",
        "        dataset_scaled = scaler.transform(dataset)\n",
        "        return (dataset_scaled, scaler)\n",
        "    scaler = preprocessing.MinMaxScaler()\n",
        "    dataset_scaled = scaler.fit_transform(dataset)\n",
        "    return (dataset_scaled, scaler)"
      ]
    },
    {
      "cell_type": "markdown",
      "source": [
        "### PCA\n",
        "As OneHotEncoder introduced a lot of new features, we decided to do PCA with leaving 90% of importance value.\n"
      ],
      "metadata": {
        "id": "ziE7ibBL3gBo"
      }
    },
    {
      "cell_type": "code",
      "execution_count": 24,
      "metadata": {
        "id": "w5mvJMC5G_zp"
      },
      "outputs": [],
      "source": [
        "\n",
        "def reduce_dimensions(dataset, pca = None) -> (pd.DataFrame, decomposition.PCA):\n",
        "    if pca:\n",
        "        dataset_reduced = pca.transform(dataset)\n",
        "        return (dataset_reduced, pca)\n",
        "    pca = decomposition.PCA(n_components=0.9)\n",
        "    dataset_reduced = pca.fit_transform(dataset)\n",
        "    return (dataset_reduced, pca)"
      ]
    },
    {
      "cell_type": "markdown",
      "source": [
        "### Preprocess\n",
        "Here we combine all the previous methods into one. As trained encoder must be used on test set, we return it from the method.\n",
        "\n"
      ],
      "metadata": {
        "id": "dnEIQDiv0p1u"
      }
    },
    {
      "cell_type": "code",
      "execution_count": 25,
      "metadata": {
        "id": "9ZgyuDOzG_zp"
      },
      "outputs": [],
      "source": [
        "def preprocess(dataset, encoder=None):\n",
        "    drop_features(dataset)\n",
        "    drop_rows(dataset)\n"
      ]
    },
    {
      "cell_type": "markdown",
      "metadata": {
        "collapsed": false,
        "id": "5VCuq2_ZG_zp"
      },
      "source": [
        "### Import dataset\n",
        "\n",
        "Here we import dataset, do inital processing and split into train and validation. As we predict consumption, we extract this column to separate numpy array.\n",
        "\n"
      ]
    },
    {
      "cell_type": "code",
      "execution_count": 26,
      "metadata": {
        "id": "QrxVmltyG_zp"
      },
      "outputs": [],
      "source": [
        "# As we deal with time series, we use time as a dataframe index and sort based on that.\n",
        "def read_dataset(file_name) -> pd.DataFrame:\n",
        "    return pd.read_csv(file_name).set_index('time').sort_index()"
      ]
    },
    {
      "cell_type": "code",
      "execution_count": 27,
      "metadata": {
        "id": "4M-OODkHG_zq"
      },
      "outputs": [],
      "source": [
        "def extract_labels(dataset) -> (pd.DataFrame, pd.Series):\n",
        "    X_train = dataset.loc[:, ~dataset.columns.isin(['consumption'])]\n",
        "    y_train = dataset['consumption']\n",
        "    return (X_train, y_train)"
      ]
    },
    {
      "cell_type": "code",
      "execution_count": 28,
      "metadata": {
        "colab": {
          "base_uri": "https://localhost:8080/",
          "height": 255
        },
        "id": "86ZWVt3pG_zq",
        "outputId": "5a2a9b6a-a54a-4a8d-a785-65fba6311008"
      },
      "outputs": [
        {
          "output_type": "display_data",
          "data": {
            "text/plain": [
              "                           temp  dwpt  rhum   wdir  wspd  wpgt    pres  coco  \\\n",
              "time                                                                           \n",
              "2021-09-01 00:00:00+03:00  11.2  10.3  94.0  320.0   7.2  16.7  1012.6   2.0   \n",
              "2021-09-01 01:00:00+03:00  10.7   9.6  93.0  320.0   7.2  13.0  1012.6   2.0   \n",
              "2021-09-01 02:00:00+03:00   9.9   9.0  94.0  320.0   7.2  13.0  1012.2   2.0   \n",
              "2021-09-01 03:00:00+03:00  10.0   8.4  90.0  330.0   7.2  13.0  1011.9   1.0   \n",
              "2021-09-01 04:00:00+03:00   9.0   8.1  94.0  300.0   3.6  13.0  1011.4   2.0   \n",
              "\n",
              "                           el_price  consumption  \n",
              "time                                              \n",
              "2021-09-01 00:00:00+03:00   0.09016        0.577  \n",
              "2021-09-01 01:00:00+03:00   0.09251        0.594  \n",
              "2021-09-01 02:00:00+03:00   0.08890        0.685  \n",
              "2021-09-01 03:00:00+03:00   0.08735        1.016  \n",
              "2021-09-01 04:00:00+03:00   0.08688        0.677  "
            ],
            "text/html": [
              "\n",
              "  <div id=\"df-9c3e286f-9220-4a3e-942b-20d7ea2bf973\">\n",
              "    <div class=\"colab-df-container\">\n",
              "      <div>\n",
              "<style scoped>\n",
              "    .dataframe tbody tr th:only-of-type {\n",
              "        vertical-align: middle;\n",
              "    }\n",
              "\n",
              "    .dataframe tbody tr th {\n",
              "        vertical-align: top;\n",
              "    }\n",
              "\n",
              "    .dataframe thead th {\n",
              "        text-align: right;\n",
              "    }\n",
              "</style>\n",
              "<table border=\"1\" class=\"dataframe\">\n",
              "  <thead>\n",
              "    <tr style=\"text-align: right;\">\n",
              "      <th></th>\n",
              "      <th>temp</th>\n",
              "      <th>dwpt</th>\n",
              "      <th>rhum</th>\n",
              "      <th>wdir</th>\n",
              "      <th>wspd</th>\n",
              "      <th>wpgt</th>\n",
              "      <th>pres</th>\n",
              "      <th>coco</th>\n",
              "      <th>el_price</th>\n",
              "      <th>consumption</th>\n",
              "    </tr>\n",
              "    <tr>\n",
              "      <th>time</th>\n",
              "      <th></th>\n",
              "      <th></th>\n",
              "      <th></th>\n",
              "      <th></th>\n",
              "      <th></th>\n",
              "      <th></th>\n",
              "      <th></th>\n",
              "      <th></th>\n",
              "      <th></th>\n",
              "      <th></th>\n",
              "    </tr>\n",
              "  </thead>\n",
              "  <tbody>\n",
              "    <tr>\n",
              "      <th>2021-09-01 00:00:00+03:00</th>\n",
              "      <td>11.2</td>\n",
              "      <td>10.3</td>\n",
              "      <td>94.0</td>\n",
              "      <td>320.0</td>\n",
              "      <td>7.2</td>\n",
              "      <td>16.7</td>\n",
              "      <td>1012.6</td>\n",
              "      <td>2.0</td>\n",
              "      <td>0.09016</td>\n",
              "      <td>0.577</td>\n",
              "    </tr>\n",
              "    <tr>\n",
              "      <th>2021-09-01 01:00:00+03:00</th>\n",
              "      <td>10.7</td>\n",
              "      <td>9.6</td>\n",
              "      <td>93.0</td>\n",
              "      <td>320.0</td>\n",
              "      <td>7.2</td>\n",
              "      <td>13.0</td>\n",
              "      <td>1012.6</td>\n",
              "      <td>2.0</td>\n",
              "      <td>0.09251</td>\n",
              "      <td>0.594</td>\n",
              "    </tr>\n",
              "    <tr>\n",
              "      <th>2021-09-01 02:00:00+03:00</th>\n",
              "      <td>9.9</td>\n",
              "      <td>9.0</td>\n",
              "      <td>94.0</td>\n",
              "      <td>320.0</td>\n",
              "      <td>7.2</td>\n",
              "      <td>13.0</td>\n",
              "      <td>1012.2</td>\n",
              "      <td>2.0</td>\n",
              "      <td>0.08890</td>\n",
              "      <td>0.685</td>\n",
              "    </tr>\n",
              "    <tr>\n",
              "      <th>2021-09-01 03:00:00+03:00</th>\n",
              "      <td>10.0</td>\n",
              "      <td>8.4</td>\n",
              "      <td>90.0</td>\n",
              "      <td>330.0</td>\n",
              "      <td>7.2</td>\n",
              "      <td>13.0</td>\n",
              "      <td>1011.9</td>\n",
              "      <td>1.0</td>\n",
              "      <td>0.08735</td>\n",
              "      <td>1.016</td>\n",
              "    </tr>\n",
              "    <tr>\n",
              "      <th>2021-09-01 04:00:00+03:00</th>\n",
              "      <td>9.0</td>\n",
              "      <td>8.1</td>\n",
              "      <td>94.0</td>\n",
              "      <td>300.0</td>\n",
              "      <td>3.6</td>\n",
              "      <td>13.0</td>\n",
              "      <td>1011.4</td>\n",
              "      <td>2.0</td>\n",
              "      <td>0.08688</td>\n",
              "      <td>0.677</td>\n",
              "    </tr>\n",
              "  </tbody>\n",
              "</table>\n",
              "</div>\n",
              "      <button class=\"colab-df-convert\" onclick=\"convertToInteractive('df-9c3e286f-9220-4a3e-942b-20d7ea2bf973')\"\n",
              "              title=\"Convert this dataframe to an interactive table.\"\n",
              "              style=\"display:none;\">\n",
              "        \n",
              "  <svg xmlns=\"http://www.w3.org/2000/svg\" height=\"24px\"viewBox=\"0 0 24 24\"\n",
              "       width=\"24px\">\n",
              "    <path d=\"M0 0h24v24H0V0z\" fill=\"none\"/>\n",
              "    <path d=\"M18.56 5.44l.94 2.06.94-2.06 2.06-.94-2.06-.94-.94-2.06-.94 2.06-2.06.94zm-11 1L8.5 8.5l.94-2.06 2.06-.94-2.06-.94L8.5 2.5l-.94 2.06-2.06.94zm10 10l.94 2.06.94-2.06 2.06-.94-2.06-.94-.94-2.06-.94 2.06-2.06.94z\"/><path d=\"M17.41 7.96l-1.37-1.37c-.4-.4-.92-.59-1.43-.59-.52 0-1.04.2-1.43.59L10.3 9.45l-7.72 7.72c-.78.78-.78 2.05 0 2.83L4 21.41c.39.39.9.59 1.41.59.51 0 1.02-.2 1.41-.59l7.78-7.78 2.81-2.81c.8-.78.8-2.07 0-2.86zM5.41 20L4 18.59l7.72-7.72 1.47 1.35L5.41 20z\"/>\n",
              "  </svg>\n",
              "      </button>\n",
              "      \n",
              "  <style>\n",
              "    .colab-df-container {\n",
              "      display:flex;\n",
              "      flex-wrap:wrap;\n",
              "      gap: 12px;\n",
              "    }\n",
              "\n",
              "    .colab-df-convert {\n",
              "      background-color: #E8F0FE;\n",
              "      border: none;\n",
              "      border-radius: 50%;\n",
              "      cursor: pointer;\n",
              "      display: none;\n",
              "      fill: #1967D2;\n",
              "      height: 32px;\n",
              "      padding: 0 0 0 0;\n",
              "      width: 32px;\n",
              "    }\n",
              "\n",
              "    .colab-df-convert:hover {\n",
              "      background-color: #E2EBFA;\n",
              "      box-shadow: 0px 1px 2px rgba(60, 64, 67, 0.3), 0px 1px 3px 1px rgba(60, 64, 67, 0.15);\n",
              "      fill: #174EA6;\n",
              "    }\n",
              "\n",
              "    [theme=dark] .colab-df-convert {\n",
              "      background-color: #3B4455;\n",
              "      fill: #D2E3FC;\n",
              "    }\n",
              "\n",
              "    [theme=dark] .colab-df-convert:hover {\n",
              "      background-color: #434B5C;\n",
              "      box-shadow: 0px 1px 3px 1px rgba(0, 0, 0, 0.15);\n",
              "      filter: drop-shadow(0px 1px 2px rgba(0, 0, 0, 0.3));\n",
              "      fill: #FFFFFF;\n",
              "    }\n",
              "  </style>\n",
              "\n",
              "      <script>\n",
              "        const buttonEl =\n",
              "          document.querySelector('#df-9c3e286f-9220-4a3e-942b-20d7ea2bf973 button.colab-df-convert');\n",
              "        buttonEl.style.display =\n",
              "          google.colab.kernel.accessAllowed ? 'block' : 'none';\n",
              "\n",
              "        async function convertToInteractive(key) {\n",
              "          const element = document.querySelector('#df-9c3e286f-9220-4a3e-942b-20d7ea2bf973');\n",
              "          const dataTable =\n",
              "            await google.colab.kernel.invokeFunction('convertToInteractive',\n",
              "                                                     [key], {});\n",
              "          if (!dataTable) return;\n",
              "\n",
              "          const docLinkHtml = 'Like what you see? Visit the ' +\n",
              "            '<a target=\"_blank\" href=https://colab.research.google.com/notebooks/data_table.ipynb>data table notebook</a>'\n",
              "            + ' to learn more about interactive tables.';\n",
              "          element.innerHTML = '';\n",
              "          dataTable['output_type'] = 'display_data';\n",
              "          await google.colab.output.renderOutput(dataTable, element);\n",
              "          const docLink = document.createElement('div');\n",
              "          docLink.innerHTML = docLinkHtml;\n",
              "          element.appendChild(docLink);\n",
              "        }\n",
              "      </script>\n",
              "    </div>\n",
              "  </div>\n",
              "  "
            ]
          },
          "metadata": {}
        },
        {
          "output_type": "stream",
          "name": "stdout",
          "text": [
            "Dropped 198 row\n"
          ]
        }
      ],
      "source": [
        "train_df = read_dataset('train.csv')\n",
        "preprocess(train_df)\n",
        "\n",
        "X_train, y_train = extract_labels(train_df)\n",
        "\n",
        "X_train_norm, scaler_data = normalize(X_train)\n"
      ]
    },
    {
      "cell_type": "code",
      "execution_count": 29,
      "metadata": {
        "colab": {
          "base_uri": "https://localhost:8080/",
          "height": 238
        },
        "id": "ZJQrBk77G_zr",
        "outputId": "71b866fc-1fb4-4f50-fb8f-25088efe046e"
      },
      "outputs": [
        {
          "output_type": "display_data",
          "data": {
            "text/plain": [
              "                           temp  dwpt  rhum   wdir  wspd  wpgt    pres  coco  \\\n",
              "time                                                                           \n",
              "2022-08-25 00:00:00+03:00  21.1  15.2  69.0  340.0   9.0   9.3  1022.0   2.0   \n",
              "2022-08-25 01:00:00+03:00  20.1  15.1  73.0   30.0   6.0  14.8  1022.0   2.0   \n",
              "2022-08-25 02:00:00+03:00  20.1  15.1  73.0  320.0   7.0  13.0  1022.0   2.0   \n",
              "2022-08-25 03:00:00+03:00  18.7  17.0  90.0    0.0   4.0  11.1  1022.4   4.0   \n",
              "2022-08-25 04:00:00+03:00  18.1  17.1  94.0  280.0   7.0  11.1  1022.0   3.0   \n",
              "\n",
              "                           el_price  \n",
              "time                                 \n",
              "2022-08-25 00:00:00+03:00   0.25533  \n",
              "2022-08-25 01:00:00+03:00   0.19492  \n",
              "2022-08-25 02:00:00+03:00   0.18853  \n",
              "2022-08-25 03:00:00+03:00   0.19947  \n",
              "2022-08-25 04:00:00+03:00   0.21192  "
            ],
            "text/html": [
              "\n",
              "  <div id=\"df-a2166c16-e2e7-4b98-8ca5-a6e195874638\">\n",
              "    <div class=\"colab-df-container\">\n",
              "      <div>\n",
              "<style scoped>\n",
              "    .dataframe tbody tr th:only-of-type {\n",
              "        vertical-align: middle;\n",
              "    }\n",
              "\n",
              "    .dataframe tbody tr th {\n",
              "        vertical-align: top;\n",
              "    }\n",
              "\n",
              "    .dataframe thead th {\n",
              "        text-align: right;\n",
              "    }\n",
              "</style>\n",
              "<table border=\"1\" class=\"dataframe\">\n",
              "  <thead>\n",
              "    <tr style=\"text-align: right;\">\n",
              "      <th></th>\n",
              "      <th>temp</th>\n",
              "      <th>dwpt</th>\n",
              "      <th>rhum</th>\n",
              "      <th>wdir</th>\n",
              "      <th>wspd</th>\n",
              "      <th>wpgt</th>\n",
              "      <th>pres</th>\n",
              "      <th>coco</th>\n",
              "      <th>el_price</th>\n",
              "    </tr>\n",
              "    <tr>\n",
              "      <th>time</th>\n",
              "      <th></th>\n",
              "      <th></th>\n",
              "      <th></th>\n",
              "      <th></th>\n",
              "      <th></th>\n",
              "      <th></th>\n",
              "      <th></th>\n",
              "      <th></th>\n",
              "      <th></th>\n",
              "    </tr>\n",
              "  </thead>\n",
              "  <tbody>\n",
              "    <tr>\n",
              "      <th>2022-08-25 00:00:00+03:00</th>\n",
              "      <td>21.1</td>\n",
              "      <td>15.2</td>\n",
              "      <td>69.0</td>\n",
              "      <td>340.0</td>\n",
              "      <td>9.0</td>\n",
              "      <td>9.3</td>\n",
              "      <td>1022.0</td>\n",
              "      <td>2.0</td>\n",
              "      <td>0.25533</td>\n",
              "    </tr>\n",
              "    <tr>\n",
              "      <th>2022-08-25 01:00:00+03:00</th>\n",
              "      <td>20.1</td>\n",
              "      <td>15.1</td>\n",
              "      <td>73.0</td>\n",
              "      <td>30.0</td>\n",
              "      <td>6.0</td>\n",
              "      <td>14.8</td>\n",
              "      <td>1022.0</td>\n",
              "      <td>2.0</td>\n",
              "      <td>0.19492</td>\n",
              "    </tr>\n",
              "    <tr>\n",
              "      <th>2022-08-25 02:00:00+03:00</th>\n",
              "      <td>20.1</td>\n",
              "      <td>15.1</td>\n",
              "      <td>73.0</td>\n",
              "      <td>320.0</td>\n",
              "      <td>7.0</td>\n",
              "      <td>13.0</td>\n",
              "      <td>1022.0</td>\n",
              "      <td>2.0</td>\n",
              "      <td>0.18853</td>\n",
              "    </tr>\n",
              "    <tr>\n",
              "      <th>2022-08-25 03:00:00+03:00</th>\n",
              "      <td>18.7</td>\n",
              "      <td>17.0</td>\n",
              "      <td>90.0</td>\n",
              "      <td>0.0</td>\n",
              "      <td>4.0</td>\n",
              "      <td>11.1</td>\n",
              "      <td>1022.4</td>\n",
              "      <td>4.0</td>\n",
              "      <td>0.19947</td>\n",
              "    </tr>\n",
              "    <tr>\n",
              "      <th>2022-08-25 04:00:00+03:00</th>\n",
              "      <td>18.1</td>\n",
              "      <td>17.1</td>\n",
              "      <td>94.0</td>\n",
              "      <td>280.0</td>\n",
              "      <td>7.0</td>\n",
              "      <td>11.1</td>\n",
              "      <td>1022.0</td>\n",
              "      <td>3.0</td>\n",
              "      <td>0.21192</td>\n",
              "    </tr>\n",
              "  </tbody>\n",
              "</table>\n",
              "</div>\n",
              "      <button class=\"colab-df-convert\" onclick=\"convertToInteractive('df-a2166c16-e2e7-4b98-8ca5-a6e195874638')\"\n",
              "              title=\"Convert this dataframe to an interactive table.\"\n",
              "              style=\"display:none;\">\n",
              "        \n",
              "  <svg xmlns=\"http://www.w3.org/2000/svg\" height=\"24px\"viewBox=\"0 0 24 24\"\n",
              "       width=\"24px\">\n",
              "    <path d=\"M0 0h24v24H0V0z\" fill=\"none\"/>\n",
              "    <path d=\"M18.56 5.44l.94 2.06.94-2.06 2.06-.94-2.06-.94-.94-2.06-.94 2.06-2.06.94zm-11 1L8.5 8.5l.94-2.06 2.06-.94-2.06-.94L8.5 2.5l-.94 2.06-2.06.94zm10 10l.94 2.06.94-2.06 2.06-.94-2.06-.94-.94-2.06-.94 2.06-2.06.94z\"/><path d=\"M17.41 7.96l-1.37-1.37c-.4-.4-.92-.59-1.43-.59-.52 0-1.04.2-1.43.59L10.3 9.45l-7.72 7.72c-.78.78-.78 2.05 0 2.83L4 21.41c.39.39.9.59 1.41.59.51 0 1.02-.2 1.41-.59l7.78-7.78 2.81-2.81c.8-.78.8-2.07 0-2.86zM5.41 20L4 18.59l7.72-7.72 1.47 1.35L5.41 20z\"/>\n",
              "  </svg>\n",
              "      </button>\n",
              "      \n",
              "  <style>\n",
              "    .colab-df-container {\n",
              "      display:flex;\n",
              "      flex-wrap:wrap;\n",
              "      gap: 12px;\n",
              "    }\n",
              "\n",
              "    .colab-df-convert {\n",
              "      background-color: #E8F0FE;\n",
              "      border: none;\n",
              "      border-radius: 50%;\n",
              "      cursor: pointer;\n",
              "      display: none;\n",
              "      fill: #1967D2;\n",
              "      height: 32px;\n",
              "      padding: 0 0 0 0;\n",
              "      width: 32px;\n",
              "    }\n",
              "\n",
              "    .colab-df-convert:hover {\n",
              "      background-color: #E2EBFA;\n",
              "      box-shadow: 0px 1px 2px rgba(60, 64, 67, 0.3), 0px 1px 3px 1px rgba(60, 64, 67, 0.15);\n",
              "      fill: #174EA6;\n",
              "    }\n",
              "\n",
              "    [theme=dark] .colab-df-convert {\n",
              "      background-color: #3B4455;\n",
              "      fill: #D2E3FC;\n",
              "    }\n",
              "\n",
              "    [theme=dark] .colab-df-convert:hover {\n",
              "      background-color: #434B5C;\n",
              "      box-shadow: 0px 1px 3px 1px rgba(0, 0, 0, 0.15);\n",
              "      filter: drop-shadow(0px 1px 2px rgba(0, 0, 0, 0.3));\n",
              "      fill: #FFFFFF;\n",
              "    }\n",
              "  </style>\n",
              "\n",
              "      <script>\n",
              "        const buttonEl =\n",
              "          document.querySelector('#df-a2166c16-e2e7-4b98-8ca5-a6e195874638 button.colab-df-convert');\n",
              "        buttonEl.style.display =\n",
              "          google.colab.kernel.accessAllowed ? 'block' : 'none';\n",
              "\n",
              "        async function convertToInteractive(key) {\n",
              "          const element = document.querySelector('#df-a2166c16-e2e7-4b98-8ca5-a6e195874638');\n",
              "          const dataTable =\n",
              "            await google.colab.kernel.invokeFunction('convertToInteractive',\n",
              "                                                     [key], {});\n",
              "          if (!dataTable) return;\n",
              "\n",
              "          const docLinkHtml = 'Like what you see? Visit the ' +\n",
              "            '<a target=\"_blank\" href=https://colab.research.google.com/notebooks/data_table.ipynb>data table notebook</a>'\n",
              "            + ' to learn more about interactive tables.';\n",
              "          element.innerHTML = '';\n",
              "          dataTable['output_type'] = 'display_data';\n",
              "          await google.colab.output.renderOutput(dataTable, element);\n",
              "          const docLink = document.createElement('div');\n",
              "          docLink.innerHTML = docLinkHtml;\n",
              "          element.appendChild(docLink);\n",
              "        }\n",
              "      </script>\n",
              "    </div>\n",
              "  </div>\n",
              "  "
            ]
          },
          "metadata": {}
        }
      ],
      "source": [
        "X_test = read_dataset('test.csv')\n",
        "preprocess(X_test)\n",
        "\n",
        "X_test_norm, _ = normalize(X_test, scaler_data)"
      ]
    },
    {
      "cell_type": "code",
      "execution_count": 30,
      "metadata": {
        "id": "ASksVPZVG_zr"
      },
      "outputs": [],
      "source": [
        "X_train, X_val,  y_train, y_val = train_test_split(X_train_norm, y_train, test_size=0.05)"
      ]
    },
    {
      "cell_type": "code",
      "execution_count": 31,
      "metadata": {
        "colab": {
          "base_uri": "https://localhost:8080/"
        },
        "id": "uPrlZDSjG_zr",
        "outputId": "74aa84bb-a8fe-4e96-a428-0965cb6ba13b"
      },
      "outputs": [
        {
          "output_type": "execute_result",
          "data": {
            "text/plain": [
              "array([0.16173913, 0.2016129 , 0.8125    , 0.55555556, 0.22712934,\n",
              "       0.19800333, 0.84334511, 0.        , 0.19800186])"
            ]
          },
          "metadata": {},
          "execution_count": 31
        }
      ],
      "source": [
        "X_train[0]"
      ]
    },
    {
      "cell_type": "code",
      "source": [
        "X_train.shape[1]"
      ],
      "metadata": {
        "colab": {
          "base_uri": "https://localhost:8080/"
        },
        "id": "_lZ2Iwh8RLG5",
        "outputId": "06bef769-1995-435e-fcb8-761fa5643046"
      },
      "execution_count": 32,
      "outputs": [
        {
          "output_type": "execute_result",
          "data": {
            "text/plain": [
              "9"
            ]
          },
          "metadata": {},
          "execution_count": 32
        }
      ]
    },
    {
      "cell_type": "markdown",
      "source": [
        "### Training Neural Network\n",
        "As we are using recurrent neural network nodes, we must use 3D data, where one dimension describes the timeseries.  "
      ],
      "metadata": {
        "id": "tWL2hLpNwRF-"
      }
    },
    {
      "cell_type": "code",
      "source": [
        "X_train = np.expand_dims(X_train, axis=-1)\n",
        "\n",
        "X_train.shape"
      ],
      "metadata": {
        "colab": {
          "base_uri": "https://localhost:8080/"
        },
        "id": "tFvA4uOwceyO",
        "outputId": "e66582e2-f184-46e9-bcbf-7b7a3d356073"
      },
      "execution_count": 33,
      "outputs": [
        {
          "output_type": "execute_result",
          "data": {
            "text/plain": [
              "(7972, 9, 1)"
            ]
          },
          "metadata": {},
          "execution_count": 33
        }
      ]
    },
    {
      "cell_type": "code",
      "execution_count": 36,
      "metadata": {
        "id": "icZedCGnG_zr"
      },
      "outputs": [],
      "source": [
        "mdl = Sequential()\n",
        "\n",
        "mdl.add(SimpleRNN(6,  input_shape=(X_train.shape[1], X_train.shape[2])))\n",
        "mdl.add(Dense(1))\n",
        "\n",
        "mdl.compile(loss='mae', optimizer=\"adam\")\n"
      ]
    },
    {
      "cell_type": "code",
      "execution_count": 37,
      "metadata": {
        "colab": {
          "base_uri": "https://localhost:8080/"
        },
        "id": "5XJrpFfxG_zs",
        "outputId": "f547cc9c-398b-4849-feda-51ce7570fe73"
      },
      "outputs": [
        {
          "output_type": "stream",
          "name": "stdout",
          "text": [
            "Epoch 1/50\n",
            "7972/7972 [==============================] - 42s 5ms/step - loss: 0.6256 - val_loss: 0.6422\n",
            "Epoch 2/50\n",
            "7972/7972 [==============================] - 38s 5ms/step - loss: 0.5924 - val_loss: 0.5580\n",
            "Epoch 3/50\n",
            "7972/7972 [==============================] - 30s 4ms/step - loss: 0.5749 - val_loss: 0.5586\n",
            "Epoch 4/50\n",
            "7972/7972 [==============================] - 31s 4ms/step - loss: 0.5681 - val_loss: 0.5371\n",
            "Epoch 5/50\n",
            "7972/7972 [==============================] - 30s 4ms/step - loss: 0.5650 - val_loss: 0.5330\n",
            "Epoch 6/50\n",
            "7972/7972 [==============================] - 31s 4ms/step - loss: 0.5630 - val_loss: 0.5274\n",
            "Epoch 7/50\n",
            "7972/7972 [==============================] - 31s 4ms/step - loss: 0.5589 - val_loss: 0.5390\n",
            "Epoch 8/50\n",
            "7972/7972 [==============================] - 30s 4ms/step - loss: 0.5538 - val_loss: 0.5253\n",
            "Epoch 9/50\n",
            "7972/7972 [==============================] - 31s 4ms/step - loss: 0.5538 - val_loss: 0.5208\n",
            "Epoch 10/50\n",
            "7972/7972 [==============================] - 31s 4ms/step - loss: 0.5485 - val_loss: 0.5133\n",
            "Epoch 11/50\n",
            "7972/7972 [==============================] - 31s 4ms/step - loss: 0.5490 - val_loss: 0.5192\n",
            "Epoch 12/50\n",
            "7972/7972 [==============================] - 31s 4ms/step - loss: 0.5457 - val_loss: 0.5061\n",
            "Epoch 13/50\n",
            "7972/7972 [==============================] - 30s 4ms/step - loss: 0.5438 - val_loss: 0.5242\n",
            "Epoch 14/50\n",
            "7972/7972 [==============================] - 31s 4ms/step - loss: 0.5430 - val_loss: 0.5554\n",
            "Epoch 15/50\n",
            "7972/7972 [==============================] - 30s 4ms/step - loss: 0.5421 - val_loss: 0.5108\n",
            "Epoch 16/50\n",
            "7972/7972 [==============================] - 30s 4ms/step - loss: 0.5400 - val_loss: 0.5085\n",
            "Epoch 17/50\n",
            "7972/7972 [==============================] - 30s 4ms/step - loss: 0.5414 - val_loss: 0.5083\n",
            "Epoch 18/50\n",
            "7972/7972 [==============================] - 30s 4ms/step - loss: 0.5398 - val_loss: 0.5124\n",
            "Epoch 19/50\n",
            "7972/7972 [==============================] - 30s 4ms/step - loss: 0.5391 - val_loss: 0.5149\n",
            "Epoch 20/50\n",
            "7972/7972 [==============================] - 31s 4ms/step - loss: 0.5393 - val_loss: 0.5076\n",
            "Epoch 21/50\n",
            "7972/7972 [==============================] - 31s 4ms/step - loss: 0.5382 - val_loss: 0.5312\n",
            "Epoch 22/50\n",
            "7972/7972 [==============================] - 31s 4ms/step - loss: 0.5380 - val_loss: 0.5461\n",
            "Epoch 23/50\n",
            "7972/7972 [==============================] - 32s 4ms/step - loss: 0.5387 - val_loss: 0.5059\n",
            "Epoch 24/50\n",
            "7972/7972 [==============================] - 31s 4ms/step - loss: 0.5386 - val_loss: 0.5305\n",
            "Epoch 25/50\n",
            "7972/7972 [==============================] - 32s 4ms/step - loss: 0.5371 - val_loss: 0.5173\n",
            "Epoch 26/50\n",
            "7972/7972 [==============================] - 32s 4ms/step - loss: 0.5390 - val_loss: 0.5078\n",
            "Epoch 27/50\n",
            "7972/7972 [==============================] - 31s 4ms/step - loss: 0.5368 - val_loss: 0.5204\n",
            "Epoch 28/50\n",
            "7972/7972 [==============================] - 31s 4ms/step - loss: 0.5380 - val_loss: 0.5182\n",
            "Epoch 29/50\n",
            "7972/7972 [==============================] - 32s 4ms/step - loss: 0.5384 - val_loss: 0.5099\n",
            "Epoch 30/50\n",
            "7972/7972 [==============================] - 31s 4ms/step - loss: 0.5371 - val_loss: 0.5131\n",
            "Epoch 31/50\n",
            "7972/7972 [==============================] - 31s 4ms/step - loss: 0.5367 - val_loss: 0.5214\n",
            "Epoch 32/50\n",
            "7972/7972 [==============================] - 34s 4ms/step - loss: 0.5360 - val_loss: 0.5071\n",
            "Epoch 33/50\n",
            "7972/7972 [==============================] - 36s 5ms/step - loss: 0.5356 - val_loss: 0.5244\n",
            "Epoch 34/50\n",
            "7972/7972 [==============================] - 31s 4ms/step - loss: 0.5368 - val_loss: 0.5206\n",
            "Epoch 35/50\n",
            "7972/7972 [==============================] - 33s 4ms/step - loss: 0.5373 - val_loss: 0.5067\n",
            "Epoch 36/50\n",
            "7972/7972 [==============================] - 31s 4ms/step - loss: 0.5365 - val_loss: 0.5104\n",
            "Epoch 37/50\n",
            "7972/7972 [==============================] - 31s 4ms/step - loss: 0.5380 - val_loss: 0.5129\n",
            "Epoch 38/50\n",
            "7972/7972 [==============================] - 32s 4ms/step - loss: 0.5366 - val_loss: 0.5089\n",
            "Epoch 39/50\n",
            "7972/7972 [==============================] - 33s 4ms/step - loss: 0.5360 - val_loss: 0.5449\n",
            "Epoch 40/50\n",
            "7972/7972 [==============================] - 38s 5ms/step - loss: 0.5371 - val_loss: 0.5170\n",
            "Epoch 41/50\n",
            "7972/7972 [==============================] - 31s 4ms/step - loss: 0.5364 - val_loss: 0.5090\n",
            "Epoch 42/50\n",
            "7972/7972 [==============================] - 31s 4ms/step - loss: 0.5359 - val_loss: 0.5104\n",
            "Epoch 43/50\n",
            "7972/7972 [==============================] - 32s 4ms/step - loss: 0.5354 - val_loss: 0.5112\n",
            "Epoch 44/50\n",
            "7972/7972 [==============================] - 31s 4ms/step - loss: 0.5350 - val_loss: 0.5215\n",
            "Epoch 45/50\n",
            "7972/7972 [==============================] - 31s 4ms/step - loss: 0.5352 - val_loss: 0.5076\n",
            "Epoch 46/50\n",
            "7972/7972 [==============================] - 31s 4ms/step - loss: 0.5350 - val_loss: 0.5107\n",
            "Epoch 47/50\n",
            "7972/7972 [==============================] - 32s 4ms/step - loss: 0.5343 - val_loss: 0.5169\n",
            "Epoch 48/50\n",
            "7972/7972 [==============================] - 31s 4ms/step - loss: 0.5342 - val_loss: 0.5342\n",
            "Epoch 49/50\n",
            "7972/7972 [==============================] - 31s 4ms/step - loss: 0.5358 - val_loss: 0.5067\n",
            "Epoch 50/50\n",
            "7972/7972 [==============================] - 31s 4ms/step - loss: 0.5353 - val_loss: 0.5132\n"
          ]
        }
      ],
      "source": [
        "history = mdl.fit(X_train, y_train, validation_data=(X_val,y_val), epochs=50, batch_size=1, verbose=True)\n"
      ]
    },
    {
      "cell_type": "code",
      "source": [
        "plt.figure(figsize=(16, 6))\n",
        "\n",
        "plt.subplot(1, 2, 1)\n",
        "plt.plot(history.history['loss'])\n",
        "plt.plot(history.history['val_loss'])\n",
        "plt.xlabel('Epoch')\n",
        "plt.ylabel('Loss')\n",
        "plt.legend(['Training', 'Validation'])\n",
        "plt.title('Loss')\n"
      ],
      "metadata": {
        "id": "vhI854PEHXNE",
        "colab": {
          "base_uri": "https://localhost:8080/",
          "height": 421
        },
        "outputId": "d69fa049-d339-4088-b566-a886b09d5ffc"
      },
      "execution_count": 38,
      "outputs": [
        {
          "output_type": "execute_result",
          "data": {
            "text/plain": [
              "Text(0.5, 1.0, 'Loss')"
            ]
          },
          "metadata": {},
          "execution_count": 38
        },
        {
          "output_type": "display_data",
          "data": {
            "text/plain": [
              "<Figure size 1152x432 with 1 Axes>"
            ],
            "image/png": "[encoded data removed]"
          },
          "metadata": {
            "needs_background": "light"
          }
        }
      ]
    },
    {
      "cell_type": "markdown",
      "source": [
        "### Prediction\n",
        "We predict on the test dataset and write the output to csv file.\n",
        "\n"
      ],
      "metadata": {
        "id": "1z9Fl-nxw5ER"
      }
    },
    {
      "cell_type": "code",
      "source": [
        "# With prediction, we must use batch_size 1 to make a use of time series sequence.\n",
        "prediction = mdl.predict(X_test_norm, batch_size=1)\n",
        "prediction"
      ],
      "metadata": {
        "id": "dptGtBsYHYVv",
        "colab": {
          "base_uri": "https://localhost:8080/"
        },
        "outputId": "e4f4d7c1-54a7-47a6-8610-949f2a05ee1b"
      },
      "execution_count": 39,
      "outputs": [
        {
          "output_type": "stream",
          "name": "stdout",
          "text": [
            "168/168 [==============================] - 1s 2ms/step\n"
          ]
        },
        {
          "output_type": "execute_result",
          "data": {
            "text/plain": [
              "array([[ 0.539084  ],\n",
              "       [ 0.3996331 ],\n",
              "       [ 0.48594123],\n",
              "       [ 0.35749125],\n",
              "       [ 0.35976434],\n",
              "       [ 0.32644016],\n",
              "       [ 0.33672193],\n",
              "       [ 0.34015185],\n",
              "       [ 0.4306992 ],\n",
              "       [ 0.30496308],\n",
              "       [ 0.3794296 ],\n",
              "       [ 0.44482222],\n",
              "       [ 0.47414342],\n",
              "       [ 0.49598193],\n",
              "       [ 0.50825775],\n",
              "       [ 0.51743007],\n",
              "       [ 0.55639195],\n",
              "       [ 0.6685405 ],\n",
              "       [ 0.55168676],\n",
              "       [ 0.37055048],\n",
              "       [ 0.34584317],\n",
              "       [ 0.33040738],\n",
              "       [ 0.23759773],\n",
              "       [ 0.2905953 ],\n",
              "       [ 0.29200536],\n",
              "       [ 0.30704752],\n",
              "       [ 0.3102349 ],\n",
              "       [ 0.34406194],\n",
              "       [ 0.3620389 ],\n",
              "       [ 0.36586902],\n",
              "       [ 0.34921566],\n",
              "       [ 0.31747234],\n",
              "       [ 0.30756232],\n",
              "       [ 0.33537483],\n",
              "       [ 0.25713614],\n",
              "       [ 0.41696462],\n",
              "       [ 0.4419517 ],\n",
              "       [ 0.44912285],\n",
              "       [ 0.48998347],\n",
              "       [ 0.50393194],\n",
              "       [ 0.59951437],\n",
              "       [ 0.5509713 ],\n",
              "       [ 0.5109916 ],\n",
              "       [ 0.4616827 ],\n",
              "       [ 0.3754418 ],\n",
              "       [ 0.40762225],\n",
              "       [ 0.31872997],\n",
              "       [ 0.3074583 ],\n",
              "       [ 0.33706784],\n",
              "       [ 0.32168683],\n",
              "       [ 0.40011036],\n",
              "       [ 0.35006955],\n",
              "       [ 0.38937357],\n",
              "       [ 0.3879194 ],\n",
              "       [ 0.36750606],\n",
              "       [ 0.35898006],\n",
              "       [ 0.365021  ],\n",
              "       [ 0.32724452],\n",
              "       [ 0.36735046],\n",
              "       [ 0.38542446],\n",
              "       [ 0.5026383 ],\n",
              "       [ 0.5908582 ],\n",
              "       [ 0.59512115],\n",
              "       [ 0.6066457 ],\n",
              "       [ 0.64420784],\n",
              "       [ 0.6838224 ],\n",
              "       [ 0.6832863 ],\n",
              "       [ 0.65620756],\n",
              "       [ 0.48897836],\n",
              "       [ 0.523576  ],\n",
              "       [ 0.40361774],\n",
              "       [ 0.40081045],\n",
              "       [ 0.40478626],\n",
              "       [ 0.41146004],\n",
              "       [ 0.3096653 ],\n",
              "       [ 0.31404907],\n",
              "       [ 0.3552916 ],\n",
              "       [ 0.36525112],\n",
              "       [ 0.3888033 ],\n",
              "       [ 0.36055243],\n",
              "       [ 0.32522446],\n",
              "       [ 0.5449216 ],\n",
              "       [ 0.5089129 ],\n",
              "       [ 0.6080146 ],\n",
              "       [ 0.6179365 ],\n",
              "       [ 0.6767927 ],\n",
              "       [ 0.66937155],\n",
              "       [ 0.70664525],\n",
              "       [ 0.6175331 ],\n",
              "       [ 0.6232915 ],\n",
              "       [ 0.6242235 ],\n",
              "       [ 0.6181568 ],\n",
              "       [ 0.45815572],\n",
              "       [ 0.4988991 ],\n",
              "       [ 0.40083718],\n",
              "       [ 0.36952528],\n",
              "       [ 0.31219083],\n",
              "       [ 0.3240614 ],\n",
              "       [ 0.46863964],\n",
              "       [ 0.44714972],\n",
              "       [ 0.42782328],\n",
              "       [ 0.50038636],\n",
              "       [ 0.39183518],\n",
              "       [ 0.3310857 ],\n",
              "       [ 0.32706884],\n",
              "       [ 0.46769634],\n",
              "       [ 0.61039376],\n",
              "       [ 0.6077567 ],\n",
              "       [ 0.6694535 ],\n",
              "       [ 0.72869825],\n",
              "       [ 0.7068441 ],\n",
              "       [ 0.6710323 ],\n",
              "       [ 0.52734745],\n",
              "       [ 0.4308142 ],\n",
              "       [ 0.43469694],\n",
              "       [ 0.39951658],\n",
              "       [ 0.37806022],\n",
              "       [ 0.33490217],\n",
              "       [ 0.3983558 ],\n",
              "       [ 0.3445198 ],\n",
              "       [ 0.43180385],\n",
              "       [ 0.43520072],\n",
              "       [ 0.58649063],\n",
              "       [ 0.5530172 ],\n",
              "       [ 0.53891474],\n",
              "       [ 0.59481263],\n",
              "       [ 0.4559607 ],\n",
              "       [ 0.2742203 ],\n",
              "       [-0.06809819],\n",
              "       [-0.04501671],\n",
              "       [ 0.0251278 ],\n",
              "       [ 0.09342629],\n",
              "       [ 0.15208401],\n",
              "       [ 0.3032792 ],\n",
              "       [ 0.2723721 ],\n",
              "       [ 0.30377224],\n",
              "       [ 0.20509437],\n",
              "       [ 0.18984514],\n",
              "       [-0.00735697],\n",
              "       [-0.06111628],\n",
              "       [-0.02509978],\n",
              "       [ 0.09025405],\n",
              "       [ 0.08186045],\n",
              "       [ 0.23101595],\n",
              "       [ 0.3395888 ],\n",
              "       [ 0.60316986],\n",
              "       [ 0.68818974],\n",
              "       [ 0.6026013 ],\n",
              "       [ 0.65304255],\n",
              "       [ 0.71590674],\n",
              "       [ 0.49650544],\n",
              "       [ 0.2404499 ],\n",
              "       [ 0.03712153],\n",
              "       [ 0.07973716],\n",
              "       [ 0.14622003],\n",
              "       [ 0.17029116],\n",
              "       [ 0.22200549],\n",
              "       [ 0.18413049],\n",
              "       [ 0.28445032],\n",
              "       [ 0.31639093],\n",
              "       [ 0.28535718],\n",
              "       [ 0.23463804],\n",
              "       [ 0.236653  ],\n",
              "       [ 0.23100767],\n",
              "       [ 0.2588253 ],\n",
              "       [ 0.2719064 ],\n",
              "       [ 0.24595888],\n",
              "       [ 0.35561025]], dtype=float32)"
            ]
          },
          "metadata": {},
          "execution_count": 39
        }
      ]
    },
    {
      "cell_type": "code",
      "source": [
        "# We must reload the test dataframe, as we droped the time column.\n",
        "X_test = read_dataset('test.csv')\n",
        "\n",
        "predictions_dict = {'time':X_test.index,'consumption':[el[0]for el in prediction]}\n",
        "pred_df = pd.DataFrame(predictions_dict)\n",
        "pred_df.to_csv('submission_081222_v4.csv',index=False)"
      ],
      "metadata": {
        "id": "XKzfaUpNJtQE"
      },
      "execution_count": 40,
      "outputs": []
    }
  ],
  "metadata": {
    "kernelspec": {
      "display_name": "Python 3 (system-wide)",
      "language": "python",
      "metadata": {
        "cocalc": {
          "description": "Python 3 programming language",
          "priority": 100,
          "url": "https://www.python.org/"
        }
      },
      "name": "python3",
      "resource_dir": "/ext/jupyter/kernels/python3"
    },
    "language_info": {
      "codemirror_mode": {
        "name": "ipython",
        "version": 3
      },
      "file_extension": ".py",
      "mimetype": "text/x-python",
      "name": "python",
      "nbconvert_exporter": "python",
      "pygments_lexer": "ipython3",
      "version": "3.8.10"
    },
    "colab": {
      "provenance": [],
      "include_colab_link": true
    },
    "accelerator": "GPU",
    "gpuClass": "standard"
  },
  "nbformat": 4,
  "nbformat_minor": 0
}