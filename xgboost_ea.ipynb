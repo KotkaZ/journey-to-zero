{
  "cells": [
    {
      "cell_type": "markdown",
      "metadata": {
        "collapsed": false,
        "id": "xQmC7g0vG_zk"
      },
      "source": [
        "## Dataset preprocessing\n",
        "\n"
      ]
    },
    {
      "cell_type": "code",
      "execution_count": 1,
      "metadata": {
        "id": "z383-kW0G_zl"
      },
      "outputs": [],
      "source": [
        "# Less noisy output\n",
        "import warnings\n",
        "warnings.filterwarnings('ignore')\n",
        "\n",
        "\n",
        "# Numpy\n",
        "import numpy as np\n",
        "\n",
        "# XGBoost\n",
        "import xgboost as xgb\n",
        "\n",
        "# Pandas\n",
        "import pandas as pd\n",
        "\n",
        "# Sklearn\n",
        "import sklearn.preprocessing\n",
        "import sklearn.utils\n",
        "from sklearn.metrics import mean_squared_error\n",
        "from sklearn.metrics import mean_absolute_error\n",
        "\n",
        "from sklearn.model_selection import train_test_split\n",
        "\n",
        "\n",
        "import itertools\n",
        "import datetime\n",
        "from datetime import date\n",
        "import holidays\n",
        "\n",
        "# Visualiseerimine\n",
        "import matplotlib.pyplot as plt\n",
        "%matplotlib inline"
      ]
    },
    {
      "cell_type": "code",
      "source": [
        "from google.colab import files\n",
        "files.upload()"
      ],
      "metadata": {
        "id": "cTFHNirON6sc",
        "outputId": "707557ab-3082-4594-933e-284c896adee3",
        "colab": {
          "base_uri": "https://localhost:8080/",
          "height": 55
        }
      },
      "execution_count": 596,
      "outputs": [
        {
          "output_type": "display_data",
          "data": {
            "text/plain": [
              "<IPython.core.display.HTML object>"
            ],
            "text/html": [
              "\n",
              "     <input type=\"file\" id=\"files-96005098-fba1-4ac6-8a7d-ef61e9be41a8\" name=\"files[]\" multiple disabled\n",
              "        style=\"border:none\" />\n",
              "     <output id=\"result-96005098-fba1-4ac6-8a7d-ef61e9be41a8\">\n",
              "      Upload widget is only available when the cell has been executed in the\n",
              "      current browser session. Please rerun this cell to enable.\n",
              "      </output>\n",
              "      <script>// Copyright 2017 Google LLC\n",
              "//\n",
              "// Licensed under the Apache License, Version 2.0 (the \"License\");\n",
              "// you may not use this file except in compliance with the License.\n",
              "// You may obtain a copy of the License at\n",
              "//\n",
              "//      http://www.apache.org/licenses/LICENSE-2.0\n",
              "//\n",
              "// Unless required by applicable law or agreed to in writing, software\n",
              "// distributed under the License is distributed on an \"AS IS\" BASIS,\n",
              "// WITHOUT WARRANTIES OR CONDITIONS OF ANY KIND, either express or implied.\n",
              "// See the License for the specific language governing permissions and\n",
              "// limitations under the License.\n",
              "\n",
              "/**\n",
              " * @fileoverview Helpers for google.colab Python module.\n",
              " */\n",
              "(function(scope) {\n",
              "function span(text, styleAttributes = {}) {\n",
              "  const element = document.createElement('span');\n",
              "  element.textContent = text;\n",
              "  for (const key of Object.keys(styleAttributes)) {\n",
              "    element.style[key] = styleAttributes[key];\n",
              "  }\n",
              "  return element;\n",
              "}\n",
              "\n",
              "// Max number of bytes which will be uploaded at a time.\n",
              "const MAX_PAYLOAD_SIZE = 100 * 1024;\n",
              "\n",
              "function _uploadFiles(inputId, outputId) {\n",
              "  const steps = uploadFilesStep(inputId, outputId);\n",
              "  const outputElement = document.getElementById(outputId);\n",
              "  // Cache steps on the outputElement to make it available for the next call\n",
              "  // to uploadFilesContinue from Python.\n",
              "  outputElement.steps = steps;\n",
              "\n",
              "  return _uploadFilesContinue(outputId);\n",
              "}\n",
              "\n",
              "// This is roughly an async generator (not supported in the browser yet),\n",
              "// where there are multiple asynchronous steps and the Python side is going\n",
              "// to poll for completion of each step.\n",
              "// This uses a Promise to block the python side on completion of each step,\n",
              "// then passes the result of the previous step as the input to the next step.\n",
              "function _uploadFilesContinue(outputId) {\n",
              "  const outputElement = document.getElementById(outputId);\n",
              "  const steps = outputElement.steps;\n",
              "\n",
              "  const next = steps.next(outputElement.lastPromiseValue);\n",
              "  return Promise.resolve(next.value.promise).then((value) => {\n",
              "    // Cache the last promise value to make it available to the next\n",
              "    // step of the generator.\n",
              "    outputElement.lastPromiseValue = value;\n",
              "    return next.value.response;\n",
              "  });\n",
              "}\n",
              "\n",
              "/**\n",
              " * Generator function which is called between each async step of the upload\n",
              " * process.\n",
              " * @param {string} inputId Element ID of the input file picker element.\n",
              " * @param {string} outputId Element ID of the output display.\n",
              " * @return {!Iterable<!Object>} Iterable of next steps.\n",
              " */\n",
              "function* uploadFilesStep(inputId, outputId) {\n",
              "  const inputElement = document.getElementById(inputId);\n",
              "  inputElement.disabled = false;\n",
              "\n",
              "  const outputElement = document.getElementById(outputId);\n",
              "  outputElement.innerHTML = '';\n",
              "\n",
              "  const pickedPromise = new Promise((resolve) => {\n",
              "    inputElement.addEventListener('change', (e) => {\n",
              "      resolve(e.target.files);\n",
              "    });\n",
              "  });\n",
              "\n",
              "  const cancel = document.createElement('button');\n",
              "  inputElement.parentElement.appendChild(cancel);\n",
              "  cancel.textContent = 'Cancel upload';\n",
              "  const cancelPromise = new Promise((resolve) => {\n",
              "    cancel.onclick = () => {\n",
              "      resolve(null);\n",
              "    };\n",
              "  });\n",
              "\n",
              "  // Wait for the user to pick the files.\n",
              "  const files = yield {\n",
              "    promise: Promise.race([pickedPromise, cancelPromise]),\n",
              "    response: {\n",
              "      action: 'starting',\n",
              "    }\n",
              "  };\n",
              "\n",
              "  cancel.remove();\n",
              "\n",
              "  // Disable the input element since further picks are not allowed.\n",
              "  inputElement.disabled = true;\n",
              "\n",
              "  if (!files) {\n",
              "    return {\n",
              "      response: {\n",
              "        action: 'complete',\n",
              "      }\n",
              "    };\n",
              "  }\n",
              "\n",
              "  for (const file of files) {\n",
              "    const li = document.createElement('li');\n",
              "    li.append(span(file.name, {fontWeight: 'bold'}));\n",
              "    li.append(span(\n",
              "        `(${file.type || 'n/a'}) - ${file.size} bytes, ` +\n",
              "        `last modified: ${\n",
              "            file.lastModifiedDate ? file.lastModifiedDate.toLocaleDateString() :\n",
              "                                    'n/a'} - `));\n",
              "    const percent = span('0% done');\n",
              "    li.appendChild(percent);\n",
              "\n",
              "    outputElement.appendChild(li);\n",
              "\n",
              "    const fileDataPromise = new Promise((resolve) => {\n",
              "      const reader = new FileReader();\n",
              "      reader.onload = (e) => {\n",
              "        resolve(e.target.result);\n",
              "      };\n",
              "      reader.readAsArrayBuffer(file);\n",
              "    });\n",
              "    // Wait for the data to be ready.\n",
              "    let fileData = yield {\n",
              "      promise: fileDataPromise,\n",
              "      response: {\n",
              "        action: 'continue',\n",
              "      }\n",
              "    };\n",
              "\n",
              "    // Use a chunked sending to avoid message size limits. See b/62115660.\n",
              "    let position = 0;\n",
              "    do {\n",
              "      const length = Math.min(fileData.byteLength - position, MAX_PAYLOAD_SIZE);\n",
              "      const chunk = new Uint8Array(fileData, position, length);\n",
              "      position += length;\n",
              "\n",
              "      const base64 = btoa(String.fromCharCode.apply(null, chunk));\n",
              "      yield {\n",
              "        response: {\n",
              "          action: 'append',\n",
              "          file: file.name,\n",
              "          data: base64,\n",
              "        },\n",
              "      };\n",
              "\n",
              "      let percentDone = fileData.byteLength === 0 ?\n",
              "          100 :\n",
              "          Math.round((position / fileData.byteLength) * 100);\n",
              "      percent.textContent = `${percentDone}% done`;\n",
              "\n",
              "    } while (position < fileData.byteLength);\n",
              "  }\n",
              "\n",
              "  // All done.\n",
              "  yield {\n",
              "    response: {\n",
              "      action: 'complete',\n",
              "    }\n",
              "  };\n",
              "}\n",
              "\n",
              "scope.google = scope.google || {};\n",
              "scope.google.colab = scope.google.colab || {};\n",
              "scope.google.colab._files = {\n",
              "  _uploadFiles,\n",
              "  _uploadFilesContinue,\n",
              "};\n",
              "})(self);\n",
              "</script> "
            ]
          },
          "metadata": {}
        },
        {
          "output_type": "execute_result",
          "data": {
            "text/plain": [
              "{}"
            ]
          },
          "metadata": {},
          "execution_count": 596
        }
      ]
    },
    {
      "cell_type": "code",
      "source": [
        "# check if exists\n",
        "!ls -lha kaggle.json"
      ],
      "metadata": {
        "id": "IZQAwkrVOIgU",
        "outputId": "00fd39b3-1fe8-4191-a824-09b1f1c6818a",
        "colab": {
          "base_uri": "https://localhost:8080/"
        }
      },
      "execution_count": 354,
      "outputs": [
        {
          "output_type": "stream",
          "name": "stdout",
          "text": [
            "-rw-r--r-- 1 root root 65 Dec  6 07:16 kaggle.json\n"
          ]
        }
      ]
    },
    {
      "cell_type": "code",
      "source": [
        "!pip install -q kaggle\n",
        "!mkdir -p ~/.kaggle\n",
        "!cp kaggle.json ~/.kaggle/\n",
        "!chmod 600 /root/.kaggle/kaggle.json"
      ],
      "metadata": {
        "id": "6oXE_WNDOPkE"
      },
      "execution_count": 355,
      "outputs": []
    },
    {
      "cell_type": "code",
      "source": [
        "!kaggle competitions download -c predict-electricity-consumption"
      ],
      "metadata": {
        "id": "gRqZq0SiMko2",
        "outputId": "30163f35-460b-4e52-eb41-4197b0b19be6",
        "colab": {
          "base_uri": "https://localhost:8080/"
        }
      },
      "execution_count": 356,
      "outputs": [
        {
          "output_type": "stream",
          "name": "stdout",
          "text": [
            "predict-electricity-consumption.zip: Skipping, found more recently modified local copy (use --force to force download)\n"
          ]
        }
      ]
    },
    {
      "cell_type": "code",
      "source": [
        "!unzip predict-electricity-consumption.zip"
      ],
      "metadata": {
        "id": "EiUP1vgYOjc1",
        "outputId": "975b8bac-4a4c-4f75-8bfa-bc49b01f8c2c",
        "colab": {
          "base_uri": "https://localhost:8080/"
        }
      },
      "execution_count": 357,
      "outputs": [
        {
          "output_type": "stream",
          "name": "stdout",
          "text": [
            "Archive:  predict-electricity-consumption.zip\n",
            "replace sample_submission.csv? [y]es, [n]o, [A]ll, [N]one, [r]ename: A\n",
            "  inflating: sample_submission.csv   \n",
            "  inflating: test.csv                \n",
            "  inflating: train.csv               \n"
          ]
        }
      ]
    },
    {
      "cell_type": "code",
      "source": [
        "def add_interest_rate(dataset):\n",
        "    ir_2021 = [0.2,0.6,1.1,1.9,3.6,3.8,5,5,6.6,7,8.8,12.2]\n",
        "    ir_2022 = [11.3,12.0,15.2,18.8,20.0,21.9,22.8,24.8,23.7,22.5,None,None]\n",
        "    inflation_rate = {2021:ir_2021, 2022:ir_2022}\n",
        "    dataset['inflation'] = dataset.apply(lambda row: inflation_rate[row['year']][row['month']-1], axis=1)\n",
        "    dataset['inflation'] = dataset['inflation'].astype(float)\n",
        "    return dataset"
      ],
      "metadata": {
        "id": "P6x2_qhoyF97"
      },
      "execution_count": 2,
      "outputs": []
    },
    {
      "cell_type": "code",
      "source": [
        "def add_history(dataset):\n",
        "  nr_ex_feat = 3\n",
        "  for i in range(1,nr_ex_feat+1):\n",
        "      # Hour step size\n",
        "      i*=1\n",
        "      dataset['el_price-'+str(i)] = dataset['el_price'].shift(i)\n",
        "      dataset['el_price-'+str(i)] = dataset['el_price-'+str(i)].fillna(dataset['el_price'].iloc[0])\n",
        "      "
      ],
      "metadata": {
        "id": "F3-wdjkE6zHr"
      },
      "execution_count": 3,
      "outputs": []
    },
    {
      "cell_type": "markdown",
      "metadata": {
        "collapsed": false,
        "id": "nVB_Fy3pG_zm"
      },
      "source": [
        "### Timestamp extraction\n",
        "\n",
        "Because crazy things happened in the past year,  we validated that, some specific dates had significantly higher electricity prices. Therefore we do weekday, month, and time extraction from the timestamp.  \n",
        "\n"
      ]
    },
    {
      "cell_type": "code",
      "source": [
        "def extract_time(dataset):\n",
        "    #https://www.pluralsight.com/guides/machine-learning-for-time-series-data-in-python\n",
        "    dataset.loc[:,'time'] = pd.to_datetime(dataset.loc[:,'time'], format=\"%Y-%m-%d %H:%M:%S\", utc=True)\n",
        "    dataset['date'] = dataset['time'].dt.date\n",
        "    dataset['hour'] = dataset['time'].dt.hour\n",
        "\n",
        "    dataset['year'] = pd.DatetimeIndex(dataset['date']).year\n",
        "    dataset['month'] = pd.DatetimeIndex(dataset['date']).month\n",
        "    dataset['day'] = pd.DatetimeIndex(dataset['date']).day\n",
        "    #dataset['dayofyear'] = pd.DatetimeIndex(dataset['date']).dayofyear\n",
        "    #dataset['weekofyear'] = pd.DatetimeIndex(dataset['date']).weekofyear\n",
        "    dataset['weekday'] = pd.DatetimeIndex(dataset['date']).weekday\n",
        "    dataset['quarter'] = pd.DatetimeIndex(dataset['date']).quarter\n",
        "    dataset['is_month_start'] = pd.DatetimeIndex(dataset['date']).is_month_start\n",
        "    dataset['is_month_end'] = pd.DatetimeIndex(dataset['date']).is_month_end"
      ],
      "metadata": {
        "id": "6vGVgVJo695h"
      },
      "execution_count": 4,
      "outputs": []
    },
    {
      "cell_type": "code",
      "source": [
        "def extract_holidays(dataset):\n",
        "    ee_holidays = holidays.Estonia()\n",
        "    dataset['holiday'] = dataset['date'].apply(lambda datex: 1 if datex in ee_holidays else 0)\n",
        "    dataset['holiday'] = dataset['holiday'].astype(bool)"
      ],
      "metadata": {
        "id": "Si9nNqNT7s8E"
      },
      "execution_count": 5,
      "outputs": []
    },
    {
      "cell_type": "code",
      "execution_count": 6,
      "metadata": {
        "id": "MJ63lOigG_zo"
      },
      "outputs": [],
      "source": [
        "def extract_features(dataset):\n",
        "    extract_time(dataset)\n",
        "    add_interest_rate(dataset)\n",
        "    extract_holidays(dataset)\n",
        "    add_history(dataset)\n"
      ]
    },
    {
      "cell_type": "markdown",
      "metadata": {
        "collapsed": false,
        "id": "hN7eX9_bG_zo"
      },
      "source": [
        "### Feature dropping\n",
        "\n",
        "In Estonia, there are approximately 500\\-800 millimeters of rain on average. Our dataset consisted of only about 140mm of rain, which is definitely not correct. Also, the amount of snow was inappropriate for the  \n",
        " same reason.\n"
      ]
    },
    {
      "cell_type": "code",
      "execution_count": 7,
      "metadata": {
        "id": "wjBqWsJsG_zo"
      },
      "outputs": [],
      "source": [
        "def drop_features(dataset):\n",
        "    dataset.drop(columns=['time','date','year'], inplace=True) #'prcp',\n"
      ]
    },
    {
      "cell_type": "code",
      "source": [
        "def replace_nan(dataset):\n",
        "    if 'snow' in dataset.columns:\n",
        "      dataset['snow'] = dataset['snow'].fillna(0)\n",
        "    #if 'coco' in dataset.columns:\n",
        "    #  dataset['coco'] = dataset['coco'].fillna(2)"
      ],
      "metadata": {
        "id": "E4QzEJf9Qun9"
      },
      "execution_count": 8,
      "outputs": []
    },
    {
      "cell_type": "code",
      "execution_count": 9,
      "metadata": {
        "id": "0xEwUxN-G_zp"
      },
      "outputs": [],
      "source": [
        "def drop_rows(dataset):\n",
        "    # Deal with NaN values\n",
        "    \n",
        "    replace_nan(dataset)\n",
        "\n",
        "    initial_len = len(dataset)\n",
        "    dataset.dropna(inplace=True)\n",
        "    new_len = len(dataset)\n",
        "    if False and (initial_len != new_len):\n",
        "        print(f'Dropped {initial_len - new_len} row')\n",
        "\n",
        "    # Deal with outliners\n",
        "    if 'el_price' in dataset.columns:\n",
        "      dataset.drop(dataset[dataset['el_price'] > 1].index , inplace=True)"
      ]
    },
    {
      "cell_type": "code",
      "execution_count": 10,
      "metadata": {
        "id": "9ZgyuDOzG_zp"
      },
      "outputs": [],
      "source": [
        "def preprocess(dataset,drop_nan=True):\n",
        "    extract_features(dataset)\n",
        "    drop_features(dataset)\n",
        "    if drop_nan:\n",
        "      drop_rows(dataset)\n"
      ]
    },
    {
      "cell_type": "markdown",
      "metadata": {
        "collapsed": false,
        "id": "5VCuq2_ZG_zp"
      },
      "source": [
        "### Import dataset\n",
        "\n",
        "Here we import dataset, do inital processing and split into train and validation."
      ]
    },
    {
      "cell_type": "code",
      "execution_count": 11,
      "metadata": {
        "id": "QrxVmltyG_zp"
      },
      "outputs": [],
      "source": [
        "def read_dataset(file_name) -> pd.DataFrame:\n",
        "    return pd.read_csv(file_name)"
      ]
    },
    {
      "cell_type": "code",
      "execution_count": 12,
      "metadata": {
        "id": "4M-OODkHG_zq"
      },
      "outputs": [],
      "source": [
        "def extract_labels(dataset) -> (pd.DataFrame, pd.Series):\n",
        "    X_train = dataset.loc[:, ~dataset.columns.isin(['consumption'])]\n",
        "    y_train = dataset['consumption']\n",
        "    return (X_train, y_train)"
      ]
    },
    {
      "cell_type": "code",
      "execution_count": 13,
      "metadata": {
        "id": "86ZWVt3pG_zq"
      },
      "outputs": [],
      "source": [
        "train_o_df = read_dataset('train.csv')"
      ]
    },
    {
      "cell_type": "code",
      "source": [
        "train_df = train_o_df.copy()\n",
        "preprocess(train_df)"
      ],
      "metadata": {
        "id": "GP12qNRKy_1y"
      },
      "execution_count": 14,
      "outputs": []
    },
    {
      "cell_type": "code",
      "source": [
        "def get_labels(labels, bits):\n",
        "  chosen_labels=[]\n",
        "  bits = bin(bits)[2:][::-1]\n",
        "  for i, b in enumerate(bits):\n",
        "    if b == '1':\n",
        "      chosen_labels.append(labels[i])\n",
        "\n",
        "  return chosen_labels"
      ],
      "metadata": {
        "id": "ez0uyxQZ9MoK"
      },
      "execution_count": 15,
      "outputs": []
    },
    {
      "cell_type": "code",
      "source": [
        "train_df.shape"
      ],
      "metadata": {
        "id": "d-z8cIdkIyuE",
        "outputId": "270f1f41-7032-4865-f067-718f82606a2e",
        "colab": {
          "base_uri": "https://localhost:8080/"
        }
      },
      "execution_count": 16,
      "outputs": [
        {
          "output_type": "execute_result",
          "data": {
            "text/plain": [
              "(1962, 24)"
            ]
          },
          "metadata": {},
          "execution_count": 16
        }
      ]
    },
    {
      "cell_type": "code",
      "source": [
        "xgbr = None\n",
        "from sklearn.model_selection import cross_validate\n",
        "seed = np.random.randint(0,1000000)\n",
        "print(f'seed: {seed}')\n",
        "labels_scores = []\n",
        "\n",
        "train_df = train_o_df.copy()\n",
        "preprocess(train_df,False)\n",
        "print(f\"nr columns: {len(train_df.columns)}\")\n",
        "visited = []\n",
        "print('_')\n",
        "\n",
        "for i in range(1000):\n",
        "  for _ in range(len(str(i-1))):\n",
        "    print('\\b',end='')\n",
        "  print(i,end='')\n",
        "  labels_chosen_b = np.random.randint(1,2**len(train_df.columns))\n",
        "  while labels_chosen_b in visited:\n",
        "    labels_chosen_b = np.random.randint(1,2**len(train_df.columns))\n",
        "  visited.append(labels_chosen_b)\n",
        "  i_labels = ['consumption'] + get_labels(train_df.columns,labels_chosen_b)\n",
        "\n",
        "  i_df=train_df.copy()[i_labels]\n",
        "  drop_rows(i_df)\n",
        "  X_train, y_train = extract_labels(i_df)\n",
        "\n",
        "  np.random.seed(seed) # random seed for consistency\n",
        "  X_train, X_val, y_train, y_val = train_test_split(X_train, y_train, test_size=0.2)\n",
        "\n",
        "\n",
        "  xgbr = xgb.XGBRegressor(verbosity=0)\n",
        "\n",
        "  scores = cross_validate(xgbr,X_train, y_train, cv=4,\n",
        "                          scoring=('r2', 'neg_mean_absolute_error'),\n",
        "                          return_train_score=True)\n",
        "  train_mae = scores['train_neg_mean_absolute_error'].mean()\n",
        "  test_mae = scores['test_neg_mean_absolute_error'].mean()\n",
        "  if np.isnan(train_mae) or np.isnan(test_mae):\n",
        "    continue\n",
        "  labels_scores.append((i_labels,train_mae,test_mae))\n",
        "  if False:\n",
        "      print(f\"train: {train_mae}\")\n",
        "      print(f\"test: {test_mae}\")\n",
        "      print()"
      ],
      "metadata": {
        "id": "6uxlI-CB9QKS",
        "outputId": "c651251d-9874-4b74-d333-42509e3bd274",
        "colab": {
          "base_uri": "https://localhost:8080/"
        }
      },
      "execution_count": 17,
      "outputs": [
        {
          "output_type": "stream",
          "name": "stdout",
          "text": [
            "seed: 259142\n",
            "nr columns: 24\n",
            "_\n",
            "\b\b0\b1\b2\b3\b4\b5\b6\b7\b8\b9\b10\b\b11\b\b12\b\b13\b\b14\b\b15\b\b16\b\b17\b\b18\b\b19\b\b20\b\b21\b\b22\b\b23\b\b24\b\b25\b\b26\b\b27\b\b28\b\b29\b\b30\b\b31\b\b32\b\b33\b\b34\b\b35\b\b36\b\b37\b\b38\b\b39\b\b40\b\b41\b\b42\b\b43\b\b44\b\b45\b\b46\b\b47\b\b48\b\b49\b\b50\b\b51\b\b52\b\b53\b\b54\b\b55\b\b56\b\b57\b\b58\b\b59\b\b60\b\b61\b\b62\b\b63\b\b64\b\b65\b\b66\b\b67\b\b68\b\b69\b\b70\b\b71\b\b72\b\b73\b\b74\b\b75\b\b76\b\b77\b\b78\b\b79\b\b80\b\b81\b\b82\b\b83\b\b84\b\b85\b\b86\b\b87\b\b88\b\b89\b\b90\b\b91\b\b92\b\b93\b\b94\b\b95\b\b96\b\b97\b\b98\b\b99\b\b100\b\b\b101\b\b\b102\b\b\b103\b\b\b104\b\b\b105\b\b\b106\b\b\b107\b\b\b108\b\b\b109\b\b\b110\b\b\b111\b\b\b112\b\b\b113\b\b\b114\b\b\b115\b\b\b116\b\b\b117\b\b\b118\b\b\b119\b\b\b120\b\b\b121\b\b\b122\b\b\b123\b\b\b124\b\b\b125\b\b\b126\b\b\b127\b\b\b128\b\b\b129\b\b\b130\b\b\b131\b\b\b132\b\b\b133\b\b\b134\b\b\b135\b\b\b136\b\b\b137\b\b\b138\b\b\b139\b\b\b140\b\b\b141\b\b\b142\b\b\b143\b\b\b144\b\b\b145\b\b\b146\b\b\b147\b\b\b148\b\b\b149\b\b\b150\b\b\b151\b\b\b152\b\b\b153\b\b\b154\b\b\b155\b\b\b156\b\b\b157\b\b\b158\b\b\b159\b\b\b160\b\b\b161\b\b\b162\b\b\b163\b\b\b164\b\b\b165\b\b\b166\b\b\b167\b\b\b168\b\b\b169\b\b\b170\b\b\b171\b\b\b172\b\b\b173\b\b\b174\b\b\b175\b\b\b176\b\b\b177\b\b\b178\b\b\b179\b\b\b180\b\b\b181\b\b\b182\b\b\b183\b\b\b184\b\b\b185\b\b\b186\b\b\b187\b\b\b188\b\b\b189\b\b\b190\b\b\b191\b\b\b192\b\b\b193\b\b\b194\b\b\b195\b\b\b196\b\b\b197\b\b\b198\b\b\b199\b\b\b200\b\b\b201\b\b\b202\b\b\b203\b\b\b204\b\b\b205\b\b\b206\b\b\b207\b\b\b208\b\b\b209\b\b\b210\b\b\b211\b\b\b212\b\b\b213\b\b\b214\b\b\b215\b\b\b216\b\b\b217\b\b\b218\b\b\b219\b\b\b220\b\b\b221\b\b\b222\b\b\b223\b\b\b224\b\b\b225\b\b\b226\b\b\b227\b\b\b228\b\b\b229\b\b\b230\b\b\b231\b\b\b232\b\b\b233\b\b\b234\b\b\b235\b\b\b236\b\b\b237\b\b\b238\b\b\b239\b\b\b240\b\b\b241\b\b\b242\b\b\b243\b\b\b244\b\b\b245\b\b\b246\b\b\b247\b\b\b248\b\b\b249\b\b\b250\b\b\b251\b\b\b252\b\b\b253\b\b\b254\b\b\b255\b\b\b256\b\b\b257\b\b\b258\b\b\b259\b\b\b260\b\b\b261\b\b\b262\b\b\b263\b\b\b264\b\b\b265\b\b\b266\b\b\b267\b\b\b268\b\b\b269\b\b\b270\b\b\b271\b\b\b272\b\b\b273\b\b\b274\b\b\b275\b\b\b276\b\b\b277\b\b\b278\b\b\b279\b\b\b280\b\b\b281\b\b\b282\b\b\b283\b\b\b284\b\b\b285\b\b\b286\b\b\b287\b\b\b288\b\b\b289\b\b\b290\b\b\b291\b\b\b292\b\b\b293\b\b\b294\b\b\b295\b\b\b296\b\b\b297\b\b\b298\b\b\b299\b\b\b300\b\b\b301\b\b\b302\b\b\b303\b\b\b304\b\b\b305\b\b\b306\b\b\b307\b\b\b308\b\b\b309\b\b\b310\b\b\b311\b\b\b312\b\b\b313\b\b\b314\b\b\b315\b\b\b316\b\b\b317\b\b\b318\b\b\b319\b\b\b320\b\b\b321\b\b\b322\b\b\b323\b\b\b324\b\b\b325\b\b\b326\b\b\b327\b\b\b328\b\b\b329\b\b\b330\b\b\b331\b\b\b332\b\b\b333\b\b\b334\b\b\b335\b\b\b336\b\b\b337\b\b\b338\b\b\b339\b\b\b340\b\b\b341\b\b\b342\b\b\b343\b\b\b344\b\b\b345\b\b\b346\b\b\b347\b\b\b348\b\b\b349\b\b\b350\b\b\b351\b\b\b352\b\b\b353\b\b\b354\b\b\b355\b\b\b356\b\b\b357\b\b\b358\b\b\b359\b\b\b360\b\b\b361\b\b\b362\b\b\b363\b\b\b364\b\b\b365\b\b\b366\b\b\b367\b\b\b368\b\b\b369\b\b\b370\b\b\b371\b\b\b372\b\b\b373\b\b\b374\b\b\b375\b\b\b376\b\b\b377\b\b\b378\b\b\b379\b\b\b380\b\b\b381\b\b\b382\b\b\b383\b\b\b384\b\b\b385\b\b\b386\b\b\b387\b\b\b388\b\b\b389\b\b\b390\b\b\b391\b\b\b392\b\b\b393\b\b\b394\b\b\b395\b\b\b396\b\b\b397\b\b\b398\b\b\b399\b\b\b400\b\b\b401\b\b\b402\b\b\b403\b\b\b404\b\b\b405\b\b\b406\b\b\b407\b\b\b408\b\b\b409\b\b\b410\b\b\b411\b\b\b412\b\b\b413\b\b\b414\b\b\b415\b\b\b416\b\b\b417\b\b\b418\b\b\b419\b\b\b420\b\b\b421\b\b\b422\b\b\b423\b\b\b424\b\b\b425\b\b\b426\b\b\b427\b\b\b428\b\b\b429\b\b\b430\b\b\b431\b\b\b432\b\b\b433\b\b\b434\b\b\b435\b\b\b436\b\b\b437\b\b\b438\b\b\b439\b\b\b440\b\b\b441\b\b\b442\b\b\b443\b\b\b444\b\b\b445\b\b\b446\b\b\b447\b\b\b448\b\b\b449\b\b\b450\b\b\b451\b\b\b452\b\b\b453\b\b\b454\b\b\b455\b\b\b456\b\b\b457\b\b\b458\b\b\b459\b\b\b460\b\b\b461\b\b\b462\b\b\b463\b\b\b464\b\b\b465\b\b\b466\b\b\b467\b\b\b468\b\b\b469\b\b\b470\b\b\b471\b\b\b472\b\b\b473\b\b\b474\b\b\b475\b\b\b476\b\b\b477\b\b\b478\b\b\b479\b\b\b480\b\b\b481\b\b\b482\b\b\b483\b\b\b484\b\b\b485\b\b\b486\b\b\b487\b\b\b488\b\b\b489\b\b\b490\b\b\b491\b\b\b492\b\b\b493\b\b\b494\b\b\b495\b\b\b496\b\b\b497\b\b\b498\b\b\b499\b\b\b500\b\b\b501\b\b\b502\b\b\b503\b\b\b504\b\b\b505\b\b\b506\b\b\b507\b\b\b508\b\b\b509\b\b\b510\b\b\b511\b\b\b512\b\b\b513\b\b\b514\b\b\b515\b\b\b516\b\b\b517\b\b\b518\b\b\b519\b\b\b520\b\b\b521\b\b\b522\b\b\b523\b\b\b524\b\b\b525\b\b\b526\b\b\b527\b\b\b528\b\b\b529\b\b\b530\b\b\b531\b\b\b532\b\b\b533\b\b\b534\b\b\b535\b\b\b536\b\b\b537\b\b\b538\b\b\b539\b\b\b540\b\b\b541\b\b\b542\b\b\b543\b\b\b544\b\b\b545\b\b\b546\b\b\b547\b\b\b548\b\b\b549\b\b\b550\b\b\b551\b\b\b552\b\b\b553\b\b\b554\b\b\b555\b\b\b556\b\b\b557\b\b\b558\b\b\b559\b\b\b560\b\b\b561\b\b\b562\b\b\b563\b\b\b564\b\b\b565\b\b\b566\b\b\b567\b\b\b568\b\b\b569\b\b\b570\b\b\b571\b\b\b572\b\b\b573\b\b\b574\b\b\b575\b\b\b576\b\b\b577\b\b\b578\b\b\b579\b\b\b580\b\b\b581\b\b\b582\b\b\b583\b\b\b584\b\b\b585\b\b\b586\b\b\b587\b\b\b588\b\b\b589\b\b\b590\b\b\b591\b\b\b592\b\b\b593\b\b\b594\b\b\b595\b\b\b596\b\b\b597\b\b\b598\b\b\b599\b\b\b600\b\b\b601\b\b\b602\b\b\b603\b\b\b604\b\b\b605\b\b\b606\b\b\b607\b\b\b608\b\b\b609\b\b\b610\b\b\b611\b\b\b612\b\b\b613\b\b\b614\b\b\b615\b\b\b616\b\b\b617\b\b\b618\b\b\b619\b\b\b620\b\b\b621\b\b\b622\b\b\b623\b\b\b624\b\b\b625\b\b\b626\b\b\b627\b\b\b628\b\b\b629\b\b\b630\b\b\b631\b\b\b632\b\b\b633\b\b\b634\b\b\b635\b\b\b636\b\b\b637\b\b\b638\b\b\b639\b\b\b640\b\b\b641\b\b\b642\b\b\b643\b\b\b644\b\b\b645\b\b\b646\b\b\b647\b\b\b648\b\b\b649\b\b\b650\b\b\b651\b\b\b652\b\b\b653\b\b\b654\b\b\b655\b\b\b656\b\b\b657\b\b\b658\b\b\b659\b\b\b660\b\b\b661\b\b\b662\b\b\b663\b\b\b664\b\b\b665\b\b\b666\b\b\b667\b\b\b668\b\b\b669\b\b\b670\b\b\b671\b\b\b672\b\b\b673\b\b\b674\b\b\b675\b\b\b676\b\b\b677\b\b\b678\b\b\b679\b\b\b680\b\b\b681\b\b\b682\b\b\b683\b\b\b684\b\b\b685\b\b\b686\b\b\b687\b\b\b688\b\b\b689\b\b\b690\b\b\b691\b\b\b692\b\b\b693\b\b\b694\b\b\b695\b\b\b696\b\b\b697\b\b\b698\b\b\b699\b\b\b700\b\b\b701\b\b\b702\b\b\b703\b\b\b704\b\b\b705\b\b\b706\b\b\b707\b\b\b708\b\b\b709\b\b\b710\b\b\b711\b\b\b712\b\b\b713\b\b\b714\b\b\b715\b\b\b716\b\b\b717\b\b\b718\b\b\b719\b\b\b720\b\b\b721\b\b\b722\b\b\b723\b\b\b724\b\b\b725\b\b\b726\b\b\b727\b\b\b728\b\b\b729\b\b\b730\b\b\b731\b\b\b732\b\b\b733\b\b\b734\b\b\b735\b\b\b736\b\b\b737\b\b\b738\b\b\b739\b\b\b740\b\b\b741\b\b\b742\b\b\b743\b\b\b744\b\b\b745\b\b\b746\b\b\b747\b\b\b748\b\b\b749\b\b\b750\b\b\b751\b\b\b752\b\b\b753\b\b\b754\b\b\b755\b\b\b756\b\b\b757\b\b\b758\b\b\b759\b\b\b760\b\b\b761\b\b\b762\b\b\b763\b\b\b764\b\b\b765\b\b\b766\b\b\b767\b\b\b768\b\b\b769\b\b\b770\b\b\b771\b\b\b772\b\b\b773\b\b\b774\b\b\b775\b\b\b776\b\b\b777\b\b\b778\b\b\b779\b\b\b780\b\b\b781\b\b\b782\b\b\b783\b\b\b784\b\b\b785\b\b\b786\b\b\b787\b\b\b788\b\b\b789\b\b\b790\b\b\b791\b\b\b792\b\b\b793\b\b\b794\b\b\b795\b\b\b796\b\b\b797\b\b\b798\b\b\b799\b\b\b800\b\b\b801\b\b\b802\b\b\b803\b\b\b804\b\b\b805\b\b\b806\b\b\b807\b\b\b808\b\b\b809\b\b\b810\b\b\b811\b\b\b812\b\b\b813\b\b\b814\b\b\b815\b\b\b816\b\b\b817\b\b\b818\b\b\b819\b\b\b820\b\b\b821\b\b\b822\b\b\b823\b\b\b824\b\b\b825\b\b\b826\b\b\b827\b\b\b828\b\b\b829\b\b\b830\b\b\b831\b\b\b832\b\b\b833\b\b\b834\b\b\b835\b\b\b836\b\b\b837\b\b\b838\b\b\b839\b\b\b840\b\b\b841\b\b\b842\b\b\b843\b\b\b844\b\b\b845\b\b\b846\b\b\b847\b\b\b848\b\b\b849\b\b\b850\b\b\b851\b\b\b852\b\b\b853\b\b\b854\b\b\b855\b\b\b856\b\b\b857\b\b\b858\b\b\b859\b\b\b860\b\b\b861\b\b\b862\b\b\b863\b\b\b864\b\b\b865\b\b\b866\b\b\b867\b\b\b868\b\b\b869\b\b\b870\b\b\b871\b\b\b872\b\b\b873\b\b\b874\b\b\b875\b\b\b876\b\b\b877\b\b\b878\b\b\b879\b\b\b880\b\b\b881\b\b\b882\b\b\b883\b\b\b884\b\b\b885\b\b\b886\b\b\b887\b\b\b888\b\b\b889\b\b\b890\b\b\b891\b\b\b892\b\b\b893\b\b\b894\b\b\b895\b\b\b896\b\b\b897\b\b\b898\b\b\b899\b\b\b900\b\b\b901\b\b\b902\b\b\b903\b\b\b904\b\b\b905\b\b\b906\b\b\b907\b\b\b908\b\b\b909\b\b\b910\b\b\b911\b\b\b912\b\b\b913\b\b\b914\b\b\b915\b\b\b916\b\b\b917\b\b\b918\b\b\b919\b\b\b920\b\b\b921\b\b\b922\b\b\b923\b\b\b924\b\b\b925\b\b\b926\b\b\b927\b\b\b928\b\b\b929\b\b\b930\b\b\b931\b\b\b932\b\b\b933\b\b\b934\b\b\b935\b\b\b936\b\b\b937\b\b\b938\b\b\b939\b\b\b940\b\b\b941\b\b\b942\b\b\b943\b\b\b944\b\b\b945\b\b\b946\b\b\b947\b\b\b948\b\b\b949\b\b\b950\b\b\b951\b\b\b952\b\b\b953\b\b\b954\b\b\b955\b\b\b956\b\b\b957\b\b\b958\b\b\b959\b\b\b960\b\b\b961\b\b\b962\b\b\b963\b\b\b964\b\b\b965\b\b\b966\b\b\b967\b\b\b968\b\b\b969\b\b\b970\b\b\b971\b\b\b972\b\b\b973\b\b\b974\b\b\b975\b\b\b976\b\b\b977\b\b\b978\b\b\b979\b\b\b980\b\b\b981\b\b\b982\b\b\b983\b\b\b984\b\b\b985\b\b\b986\b\b\b987\b\b\b988\b\b\b989\b\b\b990\b\b\b991\b\b\b992\b\b\b993\b\b\b994\b\b\b995\b\b\b996\b\b\b997\b\b\b998\b\b\b999"
          ]
        }
      ]
    },
    {
      "cell_type": "code",
      "source": [
        "labels_scores = sorted(labels_scores,key=lambda val: val[2],reverse=True)\n",
        "for labels,train_score,test_score in labels_scores[:3]:\n",
        "    print(labels)\n",
        "    print('\\t',train_score)\n",
        "    print('\\t',test_score)\n",
        "print()\n",
        "labels_scores = sorted(labels_scores,key=lambda val: val[1],reverse=True)\n",
        "for labels,train_score,test_score in labels_scores[:3]:\n",
        "    print(labels)\n",
        "    print('\\t',train_score)\n",
        "    print('\\t',test_score)"
      ],
      "metadata": {
        "id": "ptjdnD9ODzBF",
        "outputId": "ee76bc2f-1dc6-42b2-8c9a-ec63219ca03b",
        "colab": {
          "base_uri": "https://localhost:8080/"
        }
      },
      "execution_count": 18,
      "outputs": [
        {
          "output_type": "stream",
          "name": "stdout",
          "text": [
            "['consumption', 'dwpt', 'prcp', 'snow', 'el_price', 'hour', 'quarter', 'is_month_end', 'inflation', 'holiday']\n",
            "\t -0.3310735021869876\n",
            "\t -0.3772560956494724\n",
            "['consumption', 'temp', 'dwpt', 'rhum', 'prcp', 'pres', 'el_price', 'hour', 'month', 'weekday', 'is_month_end', 'inflation', 'holiday', 'el_price-1']\n",
            "\t -0.3166449833831073\n",
            "\t -0.38043465214217353\n",
            "['consumption', 'temp', 'dwpt', 'rhum', 'prcp', 'wspd', 'pres', 'hour', 'month', 'day', 'weekday', 'quarter', 'inflation', 'holiday']\n",
            "\t -0.322060229279985\n",
            "\t -0.38046292786337577\n",
            "\n",
            "['consumption', 'temp', 'dwpt', 'rhum', 'prcp', 'pres', 'el_price', 'hour', 'month', 'weekday', 'is_month_end', 'inflation', 'holiday', 'el_price-1']\n",
            "\t -0.3166449833831073\n",
            "\t -0.38043465214217353\n",
            "['consumption', 'temp', 'dwpt', 'rhum', 'prcp', 'snow', 'wdir', 'wpgt', 'el_price', 'hour', 'month', 'day', 'is_month_end', 'inflation', 'el_price-1', 'el_price-2', 'el_price-3']\n",
            "\t -0.3167718450095055\n",
            "\t -0.38692269703206916\n",
            "['consumption', 'temp', 'dwpt', 'rhum', 'prcp', 'wdir', 'wspd', 'wpgt', 'pres', 'el_price', 'hour', 'weekday', 'is_month_end', 'inflation', 'holiday', 'el_price-1']\n",
            "\t -0.31710806147804094\n",
            "\t -0.38765654451712034\n"
          ]
        }
      ]
    },
    {
      "cell_type": "code",
      "source": [
        "best_labels = sorted(labels_scores,key=lambda val: val[2],reverse=True)[1][0]\n",
        "best_labels"
      ],
      "metadata": {
        "id": "tLlvmyCbNtHV",
        "outputId": "18ec5d4a-9cec-4a32-855b-d064f5dad612",
        "colab": {
          "base_uri": "https://localhost:8080/"
        }
      },
      "execution_count": 19,
      "outputs": [
        {
          "output_type": "execute_result",
          "data": {
            "text/plain": [
              "['consumption',\n",
              " 'temp',\n",
              " 'dwpt',\n",
              " 'rhum',\n",
              " 'prcp',\n",
              " 'pres',\n",
              " 'el_price',\n",
              " 'hour',\n",
              " 'month',\n",
              " 'weekday',\n",
              " 'is_month_end',\n",
              " 'inflation',\n",
              " 'holiday',\n",
              " 'el_price-1']"
            ]
          },
          "metadata": {},
          "execution_count": 19
        }
      ]
    },
    {
      "cell_type": "code",
      "source": [
        "!pip install evolutionary_algorithm"
      ],
      "metadata": {
        "id": "FX3w7ya1hObW",
        "outputId": "50fef601-b9cc-4724-e961-f26ccd4488f2",
        "colab": {
          "base_uri": "https://localhost:8080/"
        }
      },
      "execution_count": 43,
      "outputs": [
        {
          "output_type": "stream",
          "name": "stdout",
          "text": [
            "Looking in indexes: https://pypi.org/simple, https://us-python.pkg.dev/colab-wheels/public/simple/\n",
            "Collecting evolutionary_algorithm\n",
            "  Downloading evolutionary_algorithm-0.0.2-py3-none-any.whl (7.2 kB)\n",
            "Requirement already satisfied: numpy in /usr/local/lib/python3.8/dist-packages (from evolutionary_algorithm) (1.21.6)\n",
            "Collecting func-timeout\n",
            "  Downloading func_timeout-4.3.5.tar.gz (44 kB)\n",
            "\u001b[K     |████████████████████████████████| 44 kB 2.1 MB/s \n",
            "\u001b[?25hBuilding wheels for collected packages: func-timeout\n",
            "  Building wheel for func-timeout (setup.py) ... \u001b[?25l\u001b[?25hdone\n",
            "  Created wheel for func-timeout: filename=func_timeout-4.3.5-py3-none-any.whl size=15096 sha256=1c20be2eb1765d326eee4efda04db1d1c0675a0f79d133913e1d60764112dc10\n",
            "  Stored in directory: /root/.cache/pip/wheels/a8/92/ca/5bbab358275e310af23b73fc32ebf37d6a7a08c87c8d2cdbc1\n",
            "Successfully built func-timeout\n",
            "Installing collected packages: func-timeout, evolutionary-algorithm\n",
            "Successfully installed evolutionary-algorithm-0.0.2 func-timeout-4.3.5\n"
          ]
        }
      ]
    },
    {
      "cell_type": "code",
      "source": [
        "from evolutionary_algorithm import EvolutionaryAlgorithm as ea\n",
        "seed = np.random.randint(0,1000000)\n",
        "print(f'seed: {seed}')\n",
        "\n",
        "# Declare objective function parameters and bounds\n",
        "objective_parameters = [\n",
        "    {'name' : 'labels_choise',\n",
        "     'bounds' : [1,2**len(train_df.columns)],\n",
        "     'type' : 'int'}\n",
        "]\n",
        "\n",
        "\n",
        "# Define the objective function (with embedded predictive model)\n",
        "def objective_function(args):\n",
        "    i_labels = ['consumption'] + get_labels(train_df.columns,args['labels_choise'])\n",
        "    \n",
        "    i_df=train_df.copy()[i_labels]\n",
        "    drop_rows(i_df)\n",
        "    X_train, y_train = extract_labels(i_df)\n",
        "    np.random.seed(seed) # random seed for consistency\n",
        "    X_train, X_val, y_train, y_val = train_test_split(X_train, y_train, test_size=0.2)\n",
        "    \n",
        "    xgbr = xgb.XGBRegressor(verbosity=0)\n",
        "\n",
        "    scores = cross_validate(xgbr,X_train, y_train, cv=4,\n",
        "                          scoring=('r2', 'neg_mean_absolute_error'),\n",
        "                          return_train_score=True)\n",
        "    train_mae = scores['train_neg_mean_absolute_error'].mean()\n",
        "    test_mae = scores['test_neg_mean_absolute_error'].mean()\n",
        "    if np.isnan(train_mae) or np.isnan(test_mae):\n",
        "      return np.inf\n",
        "    return test_mae * -1 # Expects a value to be minimized\n",
        "\n",
        "# Create instance of EA object\n",
        "evo_algo = ea(function=objective_function,parameters=objective_parameters,function_timeout=1200,\n",
        "              algorithm_parameters={'max_num_iteration': 10000,\n",
        "                                       'population_size': 100,\n",
        "                                       'mutation_probability': 0.1,\n",
        "                                       'elite_ratio': 0.05,\n",
        "                                       'crossover_probability': 0.5,\n",
        "                                       'parents_portion': 0.3,\n",
        "                                       'crossover_type': 'uniform',\n",
        "                                       'max_iteration_without_improv': 8000}\n",
        "              )\n",
        "\n",
        "# Run EA\n",
        "evo_algo.run()\n",
        "\n",
        "# Access best model parameters\n",
        "evo_algo.best_parameters"
      ],
      "metadata": {
        "id": "_d3Q2EUef7XX",
        "outputId": "d145749b-c0bb-45d1-cc25-3f381007fb2c",
        "colab": {
          "base_uri": "https://localhost:8080/"
        }
      },
      "execution_count": null,
      "outputs": [
        {
          "output_type": "stream",
          "name": "stdout",
          "text": [
            "seed: 273924\n"
          ]
        },
        {
          "output_type": "stream",
          "name": "stderr",
          "text": [
            "  4%|▍         | 428/10000 [10:03<3:42:35,  1.40s/it]"
          ]
        }
      ]
    },
    {
      "cell_type": "markdown",
      "source": [
        "seed: 307356\n",
        " 80%|████████  | 8001/10000 [1:26:37<21:38,  1.54it/s]Best parameters found: {'labels_choise': 1740}\n",
        "Best objective output = 0.38507842898660377\n",
        "Terminating algorithm: Exceeded maximum iterations without improvement.\n",
        "{'labels_choise': 1740}"
      ],
      "metadata": {
        "id": "xHiKdcQcEHJ6"
      }
    },
    {
      "cell_type": "code",
      "source": [
        "get_labels(train_df.columns,1740)"
      ],
      "metadata": {
        "id": "Ip2ePpKLjEef",
        "outputId": "f076bde2-6c16-4166-f35a-09f4891ec15c",
        "colab": {
          "base_uri": "https://localhost:8080/"
        }
      },
      "execution_count": 56,
      "outputs": [
        {
          "output_type": "execute_result",
          "data": {
            "text/plain": [
              "['dwpt', 'rhum', 'el_price', 'hour', 'weekday', 'is_month_end']"
            ]
          },
          "metadata": {},
          "execution_count": 56
        }
      ]
    },
    {
      "cell_type": "code",
      "source": [
        "best_labels = ['consumption']+['dwpt', 'rhum', 'el_price', 'hour', 'weekday', 'is_month_end']#1740"
      ],
      "metadata": {
        "id": "c2EGhHR9U0DM"
      },
      "execution_count": 60,
      "outputs": []
    },
    {
      "cell_type": "code",
      "source": [
        "train_df = train_o_df.copy()\n",
        "preprocess(train_df,False)\n",
        "train_df = train_df[best_labels]\n",
        "drop_rows(train_df)"
      ],
      "metadata": {
        "id": "Pd61TTwXOPeT"
      },
      "execution_count": 61,
      "outputs": []
    },
    {
      "cell_type": "code",
      "execution_count": 62,
      "metadata": {
        "colab": {
          "base_uri": "https://localhost:8080/"
        },
        "id": "uPrlZDSjG_zr",
        "outputId": "cec40574-84b6-45a4-9619-fbb093393982"
      },
      "outputs": [
        {
          "output_type": "execute_result",
          "data": {
            "text/plain": [
              "(1726, 13)"
            ]
          },
          "metadata": {},
          "execution_count": 62
        }
      ],
      "source": [
        "X_train.shape"
      ]
    },
    {
      "cell_type": "code",
      "execution_count": 63,
      "metadata": {
        "id": "ASksVPZVG_zr",
        "outputId": "abc84705-3e4f-4dba-cff2-408abf623d89",
        "colab": {
          "base_uri": "https://localhost:8080/"
        }
      },
      "outputs": [
        {
          "output_type": "stream",
          "name": "stdout",
          "text": [
            "seed: 198347\n"
          ]
        }
      ],
      "source": [
        "X_train, y_train = extract_labels(train_df)\n",
        "seed = np.random.randint(0,1000000)\n",
        "print(f'seed: {seed}')#438646 #349673 0.24,0.36\n",
        "np.random.seed(438646)#seed)\n",
        "X_train, X_val, y_train, y_val = train_test_split(X_train, y_train, test_size=0.2)"
      ]
    },
    {
      "cell_type": "code",
      "source": [
        "xgbr = xgb.XGBRegressor(verbosity=0)"
      ],
      "metadata": {
        "id": "_3kpgK8S7Bas"
      },
      "execution_count": 64,
      "outputs": []
    },
    {
      "cell_type": "code",
      "source": [
        "xgbr.fit(X_train, y_train)"
      ],
      "metadata": {
        "id": "XHlWKJmX8Ucf",
        "outputId": "a64d39d6-fa3d-4b26-ba1e-2b5fc80ef4c9",
        "colab": {
          "base_uri": "https://localhost:8080/"
        }
      },
      "execution_count": 65,
      "outputs": [
        {
          "output_type": "execute_result",
          "data": {
            "text/plain": [
              "XGBRegressor(verbosity=0)"
            ]
          },
          "metadata": {},
          "execution_count": 65
        }
      ]
    },
    {
      "cell_type": "code",
      "source": [
        "yvalpred = xgbr.predict(X_val)\n",
        "mse = mean_squared_error(y_val, yvalpred)\n",
        "mae = mean_absolute_error(y_val, yvalpred)\n",
        "print(\"MSE: %.2f\" % mse)\n",
        "print(\"MAE: %.2f\" % mae)"
      ],
      "metadata": {
        "id": "MYctyJLg8pyR",
        "outputId": "a0a81ff0-d54c-4859-cada-1bab9701ba6c",
        "colab": {
          "base_uri": "https://localhost:8080/"
        }
      },
      "execution_count": 66,
      "outputs": [
        {
          "output_type": "stream",
          "name": "stdout",
          "text": [
            "MSE: 0.83\n",
            "MAE: 0.53\n"
          ]
        }
      ]
    },
    {
      "cell_type": "code",
      "execution_count": 27,
      "metadata": {
        "colab": {
          "base_uri": "https://localhost:8080/"
        },
        "id": "ZJQrBk77G_zr",
        "outputId": "1d134c20-4183-4a40-fe04-e6edf3ed7146"
      },
      "outputs": [
        {
          "output_type": "stream",
          "name": "stdout",
          "text": [
            "(168, 13)\n"
          ]
        }
      ],
      "source": [
        "X_test = read_dataset('test.csv')\n",
        "preprocess(X_test,False)\n",
        "X_test = X_test[best_labels[1:]]\n",
        "drop_rows(X_test)\n",
        "print(X_test.shape)"
      ]
    },
    {
      "cell_type": "code",
      "source": [
        "prediction = xgbr.predict(X_test)"
      ],
      "metadata": {
        "id": "dptGtBsYHYVv"
      },
      "execution_count": 28,
      "outputs": []
    },
    {
      "cell_type": "code",
      "source": [
        "prediction"
      ],
      "metadata": {
        "colab": {
          "base_uri": "https://localhost:8080/"
        },
        "id": "S1wUYiZyJFSi",
        "outputId": "4686606a-ae95-4532-88f9-3baef37157c5"
      },
      "execution_count": 29,
      "outputs": [
        {
          "output_type": "execute_result",
          "data": {
            "text/plain": [
              "array([0.35923773, 0.30465046, 0.30465046, 0.23914728, 0.6610995 ,\n",
              "       0.33195764, 0.33195764, 0.34776127, 0.59482884, 0.5400699 ,\n",
              "       0.55899405, 0.6378248 , 0.565236  , 0.565236  , 0.65729904,\n",
              "       0.72005177, 0.74302876, 0.827031  , 0.79249966, 0.75065017,\n",
              "       0.74363124, 1.1658044 , 1.1481931 , 0.4142827 , 0.38296962,\n",
              "       0.3403178 , 0.23644212, 0.21651718, 0.70103234, 0.30168012,\n",
              "       0.41438717, 0.36060944, 0.62656206, 0.64225245, 0.7146446 ,\n",
              "       0.7206389 , 0.6989223 , 0.6989223 , 0.6504559 , 0.707194  ,\n",
              "       0.79869664, 0.9555151 , 0.83565354, 0.79380417, 0.88550884,\n",
              "       0.7632636 , 0.66953444, 0.3522637 , 0.30604792, 0.21669024,\n",
              "       0.3205077 , 0.18962827, 0.63180697, 0.40173152, 0.380971  ,\n",
              "       0.31204796, 0.573099  , 0.5819948 , 0.6550835 , 0.6520643 ,\n",
              "       0.8016983 , 0.7902645 , 0.8640501 , 0.82796043, 0.9507224 ,\n",
              "       1.1239326 , 1.1080414 , 1.1333292 , 1.0943861 , 0.8971059 ,\n",
              "       0.6921437 , 0.37811157, 0.3979941 , 0.3540746 , 0.32732564,\n",
              "       0.3712696 , 0.7700188 , 0.63837314, 0.7617446 , 0.66829515,\n",
              "       0.96743846, 1.0980464 , 0.97123516, 0.97516924, 1.1006551 ,\n",
              "       1.0070636 , 0.8633963 , 1.1468709 , 0.957186  , 0.92553234,\n",
              "       1.053343  , 1.079133  , 0.95370674, 0.9808472 , 0.7044918 ,\n",
              "       0.38662004, 0.44702822, 0.3093179 , 0.3600628 , 0.38500294,\n",
              "       0.80923223, 0.38877976, 0.4656251 , 0.3291526 , 0.60809094,\n",
              "       0.6947742 , 0.67495155, 0.67495155, 0.6591655 , 0.68568605,\n",
              "       0.64810216, 0.78367376, 0.74522877, 0.87276244, 0.87276244,\n",
              "       0.87276244, 0.8741617 , 0.6976938 , 0.65253067, 0.28707394,\n",
              "       0.38906488, 0.46176028, 0.36107874, 0.36963528, 0.88660836,\n",
              "       0.53478247, 0.30794534, 0.34172055, 0.695261  , 0.7526803 ,\n",
              "       0.6918946 , 0.6918946 , 0.6854593 , 0.6424633 , 0.6227924 ,\n",
              "       0.7725259 , 0.72081524, 1.3657929 , 1.3394566 , 1.1359308 ,\n",
              "       1.3800967 , 1.4658477 , 0.8368852 , 0.31900984, 0.3460946 ,\n",
              "       0.57883525, 0.7758248 , 0.66265255, 1.0765733 , 0.8080067 ,\n",
              "       0.63543653, 0.5454453 , 1.0273982 , 0.9117678 , 0.98571193,\n",
              "       1.0535846 , 0.7420508 , 0.96122414, 0.6683794 , 0.6398831 ,\n",
              "       0.75797987, 1.608017  , 1.6353999 , 1.7539545 , 1.6725566 ,\n",
              "       1.3126355 , 1.191994  , 0.9798895 ], dtype=float32)"
            ]
          },
          "metadata": {},
          "execution_count": 29
        }
      ]
    },
    {
      "cell_type": "code",
      "source": [
        "X_test = read_dataset('test.csv')"
      ],
      "metadata": {
        "id": "dNcUV4NELuj3"
      },
      "execution_count": 30,
      "outputs": []
    },
    {
      "cell_type": "code",
      "source": [
        "predictions_dict = {'time':X_test.time,'consumption':prediction}\n",
        "pred_df = pd.DataFrame(predictions_dict)"
      ],
      "metadata": {
        "id": "Wz4muD-L4-yl"
      },
      "execution_count": 31,
      "outputs": []
    },
    {
      "cell_type": "code",
      "source": [
        "i=5\n",
        "step = 168\n",
        "train_df.iloc[-step*i:-step*(i-1)].consumption.plot()"
      ],
      "metadata": {
        "id": "EfzPiFZaVTMh",
        "outputId": "b6170b97-83d4-465e-c410-b98ef9985285",
        "colab": {
          "base_uri": "https://localhost:8080/",
          "height": 282
        }
      },
      "execution_count": 41,
      "outputs": [
        {
          "output_type": "execute_result",
          "data": {
            "text/plain": [
              "<matplotlib.axes._subplots.AxesSubplot at 0x7fbe01524190>"
            ]
          },
          "metadata": {},
          "execution_count": 41
        },
        {
          "output_type": "display_data",
          "data": {
            "text/plain": [
              "<Figure size 432x288 with 1 Axes>"
            ],
            "image/png": "[encoded data removed]"
          },
          "metadata": {
            "needs_background": "light"
          }
        }
      ]
    },
    {
      "cell_type": "code",
      "source": [
        "pred_df.plot()"
      ],
      "metadata": {
        "id": "QDnMN5mn5Ds2",
        "outputId": "79ca0a20-a6e7-45d8-c8fd-55d6c9c4654e",
        "colab": {
          "base_uri": "https://localhost:8080/",
          "height": 282
        }
      },
      "execution_count": 32,
      "outputs": [
        {
          "output_type": "execute_result",
          "data": {
            "text/plain": [
              "<matplotlib.axes._subplots.AxesSubplot at 0x7fbe02b11be0>"
            ]
          },
          "metadata": {},
          "execution_count": 32
        },
        {
          "output_type": "display_data",
          "data": {
            "text/plain": [
              "<Figure size 432x288 with 1 Axes>"
            ],
            "image/png": "[encoded data removed]"
          },
          "metadata": {
            "needs_background": "light"
          }
        }
      ]
    },
    {
      "cell_type": "code",
      "source": [
        "pred_df.to_csv('submission_Xgboost_6_13_52.csv',index=False)"
      ],
      "metadata": {
        "id": "XKzfaUpNJtQE"
      },
      "execution_count": 923,
      "outputs": []
    },
    {
      "cell_type": "code",
      "source": [
        "!ls"
      ],
      "metadata": {
        "id": "NBGr-W7nP-jt",
        "outputId": "d0b89664-aa7f-41f3-efd4-b3b0eab8d996",
        "colab": {
          "base_uri": "https://localhost:8080/"
        }
      },
      "execution_count": 924,
      "outputs": [
        {
          "output_type": "stream",
          "name": "stdout",
          "text": [
            " est_mean_h_prcp.csv\t\t       submission_Xgboost_6_12_03.csv\n",
            "'kaggle (1).json'\t\t       submission_Xgboost_6_13_52.csv\n",
            " kaggle.json\t\t\t       submission_Xgboost_v4.csv\n",
            " predict-electricity-consumption.zip   submission_Xgboost_v9.csv\n",
            " sample_data\t\t\t       test.csv\n",
            " sample_submission.csv\t\t       train.csv\n",
            " submission_Xgboost_6_11_40.csv\n"
          ]
        }
      ]
    },
    {
      "cell_type": "code",
      "source": [
        "!kaggle competitions submit predict-electricity-consumption -f 'submission_Xgboost_6_13_52.csv' -m \"random tuning\""
      ],
      "metadata": {
        "id": "w18fV7NrPFK9",
        "outputId": "fdc08dbc-bae9-4971-cd56-994de5502878",
        "colab": {
          "base_uri": "https://localhost:8080/"
        }
      },
      "execution_count": 925,
      "outputs": [
        {
          "output_type": "stream",
          "name": "stdout",
          "text": [
            "100% 5.99k/5.99k [00:03<00:00, 1.61kB/s]\n",
            "Successfully submitted to Journey to zero - Predict electricity consumption"
          ]
        }
      ]
    },
    {
      "cell_type": "code",
      "source": [],
      "metadata": {
        "id": "GsOI3JeXLokg"
      },
      "execution_count": null,
      "outputs": []
    }
  ],
  "metadata": {
    "kernelspec": {
      "display_name": "Python 3 (system-wide)",
      "language": "python",
      "metadata": {
        "cocalc": {
          "description": "Python 3 programming language",
          "priority": 100,
          "url": "https://www.python.org/"
        }
      },
      "name": "python3",
      "resource_dir": "/ext/jupyter/kernels/python3"
    },
    "language_info": {
      "codemirror_mode": {
        "name": "ipython",
        "version": 3
      },
      "file_extension": ".py",
      "mimetype": "text/x-python",
      "name": "python",
      "nbconvert_exporter": "python",
      "pygments_lexer": "ipython3",
      "version": "3.8.10"
    },
    "colab": {
      "provenance": []
    }
  },
  "nbformat": 4,
  "nbformat_minor": 0
}