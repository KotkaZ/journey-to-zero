{
  "cells": [
    {
      "cell_type": "markdown",
      "metadata": {
        "collapsed": false,
        "id": "xQmC7g0vG_zk"
      },
      "source": [
        "## Dataset preprocessing\n",
        "\n"
      ]
    },
    {
      "cell_type": "code",
      "execution_count": 2,
      "metadata": {
        "id": "z383-kW0G_zl"
      },
      "outputs": [],
      "source": [
        "import numpy as nb\n",
        "import pandas as pd\n",
        "\n",
        "from sklearn import preprocessing\n",
        "from sklearn import decomposition\n",
        "from sklearn.preprocessing import MinMaxScaler\n",
        "\n",
        "from matplotlib import pyplot as plt\n",
        "\n",
        "%matplotlib inline\n",
        "\n",
        "import datetime"
      ]
    },
    {
      "cell_type": "markdown",
      "metadata": {
        "collapsed": false,
        "id": "nVB_Fy3pG_zm"
      },
      "source": [
        "### Timestamp extraction\n",
        "\n",
        "Because crazy things happened in the past year,  we validated that, some specific dates had significantly higher electricity prices. Therefore we do weekday, month, and time extraction from the timestamp.  \n",
        "\n"
      ]
    },
    {
      "cell_type": "code",
      "execution_count": 3,
      "metadata": {
        "id": "y3NmRhvzG_zm"
      },
      "outputs": [],
      "source": [
        "def extract_weekday(dataset):\n",
        "    splits = dataset['date'].astype(str).str.split('-')\n",
        "    dataset['weekday'] = [datetime.date(int(year), int(month), int(day)).weekday() for (year, month, day) in splits]"
      ]
    },
    {
      "cell_type": "code",
      "execution_count": 4,
      "metadata": {
        "id": "0orwSVNLG_zn"
      },
      "outputs": [],
      "source": [
        "def extract_month(dataset):\n",
        "    dataset['month'] = [month for (_, month, _) in dataset['date'].astype(str).str.split('-')]"
      ]
    },
    {
      "cell_type": "code",
      "execution_count": 5,
      "metadata": {
        "id": "DrOWkTuHG_zn"
      },
      "outputs": [],
      "source": [
        "def extract_datetime(dataset):\n",
        "    dataset.loc[:,'time'] = pd.to_datetime(dataset.loc[:,'time'], format=\"%Y-%m-%d %H:%M:%S\", utc=True)\n",
        "    dataset['date'] = dataset['time'].dt.date\n",
        "    dataset['hour'] = dataset['time'].dt.hour"
      ]
    },
    {
      "cell_type": "code",
      "execution_count": 6,
      "metadata": {
        "id": "dfyY0rZaG_zn"
      },
      "outputs": [],
      "source": [
        "def one_hot_encode(dataset, columns, encoder = None) -> preprocessing.OneHotEncoder:\n",
        "    if encoder:\n",
        "        transformed = encoder.transform(dataset[columns])\n",
        "    else:\n",
        "        encoder = preprocessing.OneHotEncoder(sparse= False)\n",
        "        transformed = encoder.fit_transform(dataset[columns])\n",
        "\n",
        "    new_columns = []\n",
        "    for i, column in enumerate(encoder.feature_names_in_):\n",
        "        new_columns.extend([column + str(cat) for cat in encoder.categories_[i]])\n",
        "\n",
        "    encoder_df = pd.DataFrame(transformed, index=dataset.index)\n",
        "    dataset[new_columns] = encoder_df\n",
        "    dataset.drop(columns=columns, inplace=True)\n",
        "    return encoder"
      ]
    },
    {
      "cell_type": "code",
      "execution_count": 7,
      "metadata": {
        "id": "MJ63lOigG_zo"
      },
      "outputs": [],
      "source": [
        "def extract_features(dataset):\n",
        "    extract_datetime(dataset)\n",
        "    extract_month(dataset)\n",
        "    extract_weekday(dataset)\n"
      ]
    },
    {
      "cell_type": "markdown",
      "metadata": {
        "collapsed": false,
        "id": "hN7eX9_bG_zo"
      },
      "source": [
        "### Feature dropping\n",
        "\n",
        "In Estonia, there are approximately 500\\-800 millimeters of rain on average. Our dataset consisted of only about 140mm of rain, which is definitely not correct. Also, the amount of snow was inappropriate for the  \n",
        " same reason.\n"
      ]
    },
    {
      "cell_type": "code",
      "execution_count": 8,
      "metadata": {
        "id": "wjBqWsJsG_zo"
      },
      "outputs": [],
      "source": [
        "def drop_features(dataset):\n",
        "    dataset.drop(columns=['snow','prcp','time','date'], inplace=True)\n"
      ]
    },
    {
      "cell_type": "code",
      "execution_count": 9,
      "metadata": {
        "id": "0xEwUxN-G_zp"
      },
      "outputs": [],
      "source": [
        "def drop_rows(dataset):\n",
        "    # Deal with NaN values\n",
        "    initial_len = len(dataset)\n",
        "    dataset.dropna(inplace=True)\n",
        "    new_len = len(dataset)\n",
        "    if (initial_len != new_len):\n",
        "        print(f'Dropped {initial_len - new_len} row')\n",
        "\n",
        "    # Deal with outliners\n",
        "    dataset.drop(dataset[dataset['el_price'] > 1].index , inplace=True)"
      ]
    },
    {
      "cell_type": "code",
      "execution_count": 10,
      "metadata": {
        "id": "ywEAPeAXG_zp"
      },
      "outputs": [],
      "source": [
        "def normalize(dataset, scaler = None) -> (pd.DataFrame, preprocessing.MinMaxScaler):\n",
        "    if scaler:\n",
        "        dataset_scaled = scaler.transform(dataset)\n",
        "        return (dataset_scaled, scaler)\n",
        "    scaler = preprocessing.MinMaxScaler()\n",
        "    dataset_scaled = scaler.fit_transform(dataset)\n",
        "    return (dataset_scaled, scaler)"
      ]
    },
    {
      "cell_type": "code",
      "execution_count": 11,
      "metadata": {
        "id": "w5mvJMC5G_zp"
      },
      "outputs": [],
      "source": [
        "def reduce_dimensions(dataset, pca = None) -> (pd.DataFrame, decomposition.PCA):\n",
        "    if pca:\n",
        "        dataset_reduced = pca.transform(dataset)\n",
        "        return (dataset_reduced, pca)\n",
        "    pca = decomposition.PCA(n_components=0.9)\n",
        "    dataset_reduced = pca.fit_transform(dataset)\n",
        "    return (dataset_reduced, pca)"
      ]
    },
    {
      "cell_type": "code",
      "execution_count": 12,
      "metadata": {
        "id": "9ZgyuDOzG_zp"
      },
      "outputs": [],
      "source": [
        "def preprocess(dataset, encoder=None) -> preprocessing.OneHotEncoder:\n",
        "    extract_features(dataset)\n",
        "    drop_features(dataset)\n",
        "    encoder = one_hot_encode(dataset, ['coco', 'weekday'], encoder)\n",
        "    drop_rows(dataset)\n",
        "    return encoder\n"
      ]
    },
    {
      "cell_type": "markdown",
      "metadata": {
        "collapsed": false,
        "id": "5VCuq2_ZG_zp"
      },
      "source": [
        "### Import dataset\n",
        "\n",
        "Here we import dataset, do inital processing and split into train and validation."
      ]
    },
    {
      "cell_type": "code",
      "execution_count": 13,
      "metadata": {
        "id": "QrxVmltyG_zp"
      },
      "outputs": [],
      "source": [
        "def read_dataset(file_name) -> pd.DataFrame:\n",
        "    return pd.read_csv(file_name)"
      ]
    },
    {
      "cell_type": "code",
      "execution_count": 14,
      "metadata": {
        "id": "4M-OODkHG_zq"
      },
      "outputs": [],
      "source": [
        "def extract_labels(dataset) -> (pd.DataFrame, pd.Series):\n",
        "    X_train = dataset.loc[:, ~dataset.columns.isin(['consumption'])]\n",
        "    y_train = dataset['consumption']\n",
        "    return (X_train, y_train)"
      ]
    },
    {
      "cell_type": "code",
      "execution_count": 15,
      "metadata": {
        "colab": {
          "base_uri": "https://localhost:8080/"
        },
        "id": "86ZWVt3pG_zq",
        "outputId": "8ce075d9-10f2-41a4-f19b-2e418eff8c8b"
      },
      "outputs": [
        {
          "output_type": "stream",
          "name": "stdout",
          "text": [
            "Dropped 2 row\n"
          ]
        }
      ],
      "source": [
        "train_df = read_dataset('train.csv')\n",
        "encoder = preprocess(train_df)\n",
        "\n",
        "\n",
        "X_train, y_train = extract_labels(train_df)\n",
        "\n",
        "X_train_norm, scaler = normalize(X_train)\n",
        "X_train_reduced, pca = reduce_dimensions(X_train_norm)\n"
      ]
    },
    {
      "cell_type": "code",
      "execution_count": 16,
      "metadata": {
        "colab": {
          "base_uri": "https://localhost:8080/"
        },
        "id": "mtaKcoPHG_zq",
        "outputId": "fab8a265-b874-45b4-f0b9-4867a7420232"
      },
      "outputs": [
        {
          "output_type": "execute_result",
          "data": {
            "text/plain": [
              "(8588, 41)"
            ]
          },
          "metadata": {},
          "execution_count": 16
        }
      ],
      "source": [
        "X_train_norm.shape"
      ]
    },
    {
      "cell_type": "code",
      "execution_count": 17,
      "metadata": {
        "colab": {
          "base_uri": "https://localhost:8080/"
        },
        "id": "ZJQrBk77G_zr",
        "outputId": "895b0c95-d8ee-45f1-cdb1-a9225eb9c773"
      },
      "outputs": [
        {
          "output_type": "stream",
          "name": "stdout",
          "text": [
            "(168, 41)\n"
          ]
        }
      ],
      "source": [
        "X_test = read_dataset('test.csv')\n",
        "preprocess(X_test, encoder)\n",
        "\n",
        "X_test_norm, _ = normalize(X_test, scaler)\n",
        "print(X_test_norm.shape)\n",
        "X_test_reduced, _ = reduce_dimensions(X_test_norm, pca)"
      ]
    },
    {
      "cell_type": "code",
      "execution_count": 18,
      "metadata": {
        "id": "ASksVPZVG_zr"
      },
      "outputs": [],
      "source": [
        "from sklearn.model_selection import train_test_split\n",
        "\n",
        "X_train, X_val, y_train, y_val = train_test_split(X_train_reduced, y_train, test_size=0.2)"
      ]
    },
    {
      "cell_type": "code",
      "execution_count": 19,
      "metadata": {
        "colab": {
          "base_uri": "https://localhost:8080/"
        },
        "id": "uPrlZDSjG_zr",
        "outputId": "9f0532da-cc8a-490d-a423-3b086ebe7ef6"
      },
      "outputs": [
        {
          "output_type": "execute_result",
          "data": {
            "text/plain": [
              "(6870, 16)"
            ]
          },
          "metadata": {},
          "execution_count": 19
        }
      ],
      "source": [
        "X_train.shape"
      ]
    },
    {
      "cell_type": "code",
      "execution_count": 25,
      "metadata": {
        "id": "-EZWjw3iG_zr"
      },
      "outputs": [],
      "source": [
        "import itertools\n",
        "\n",
        "# Numpy\n",
        "import numpy as np\n",
        "\n",
        "# Keras\n",
        "from keras.layers import Dense, Input, BatchNormalization\n",
        "from keras.models import Sequential\n",
        "from tensorflow.keras.optimizers import SGD\n",
        "\n",
        "# Pandas\n",
        "import pandas as pd\n",
        "\n",
        "# Sklearn\n",
        "import sklearn.preprocessing\n",
        "import sklearn.utils\n",
        "\n",
        "# Visualiseerimine\n",
        "import matplotlib.pyplot as plt\n",
        "%matplotlib inline"
      ]
    },
    {
      "cell_type": "code",
      "execution_count": 48,
      "metadata": {
        "id": "icZedCGnG_zr"
      },
      "outputs": [],
      "source": [
        "from tensorflow.keras.layers import Input, Conv2D, Activation, Flatten, Dense, MaxPooling2D, BatchNormalization, Dropout\n",
        "\n",
        "mdl = Sequential()\n",
        "\n",
        "mdl.add(Dense(2056, activation=\"relu\", input_shape=(X_train.shape[1],)))\n",
        "mdl.add(BatchNormalization())\n",
        "mdl.add(Dropout(0.2))\n",
        "mdl.add(Dense(1028, activation=\"relu\"))\n",
        "mdl.add(Dropout(0.2))\n",
        "mdl.add(BatchNormalization())\n",
        "mdl.add(Dense(512, activation=\"relu\"))\n",
        "mdl.add(Dropout(0.2))\n",
        "mdl.add(BatchNormalization())\n",
        "mdl.add(Dense(64, activation=\"relu\"))\n",
        "mdl.add(BatchNormalization())\n",
        "mdl.add(Dense(32, activation=\"relu\"))\n",
        "mdl.add(Dropout(0.2))\n",
        "mdl.add(Dense(1, activation=\"relu\"))\n",
        "\n",
        "mdl.compile(loss='mean_squared_error', optimizer=\"adam\")"
      ]
    },
    {
      "cell_type": "code",
      "source": [
        "print(X_train.shape)\n",
        "print(y_train.shape)\n",
        "print(X_val.shape)\n",
        "print(y_val.shape)\n",
        "print(X_test_reduced.shape)"
      ],
      "metadata": {
        "colab": {
          "base_uri": "https://localhost:8080/"
        },
        "id": "K0cOrg38Hfbq",
        "outputId": "f0784950-3324-49a0-8f91-c53f0334337e"
      },
      "execution_count": 49,
      "outputs": [
        {
          "output_type": "stream",
          "name": "stdout",
          "text": [
            "(6870, 16)\n",
            "(6870,)\n",
            "(1718, 16)\n",
            "(1718,)\n",
            "(168, 16)\n"
          ]
        }
      ]
    },
    {
      "cell_type": "code",
      "execution_count": 50,
      "metadata": {
        "colab": {
          "base_uri": "https://localhost:8080/"
        },
        "id": "5XJrpFfxG_zs",
        "outputId": "d1f51250-01f0-4239-da70-91ff4b458e53"
      },
      "outputs": [
        {
          "output_type": "stream",
          "name": "stdout",
          "text": [
            "Epoch 1/20\n",
            "215/215 [==============================] - 5s 20ms/step - loss: 1.6208 - val_loss: 1.1426\n",
            "Epoch 2/20\n",
            "215/215 [==============================] - 4s 19ms/step - loss: 1.3435 - val_loss: 1.1319\n",
            "Epoch 3/20\n",
            "215/215 [==============================] - 4s 19ms/step - loss: 1.2125 - val_loss: 1.0909\n",
            "Epoch 4/20\n",
            "215/215 [==============================] - 4s 19ms/step - loss: 1.1499 - val_loss: 1.0394\n",
            "Epoch 5/20\n",
            "215/215 [==============================] - 4s 19ms/step - loss: 1.1070 - val_loss: 1.0718\n",
            "Epoch 6/20\n",
            "215/215 [==============================] - 4s 19ms/step - loss: 1.0884 - val_loss: 1.0211\n",
            "Epoch 7/20\n",
            "215/215 [==============================] - 4s 19ms/step - loss: 1.0595 - val_loss: 1.0284\n",
            "Epoch 8/20\n",
            "215/215 [==============================] - 4s 20ms/step - loss: 1.0341 - val_loss: 1.0216\n",
            "Epoch 9/20\n",
            "215/215 [==============================] - 4s 19ms/step - loss: 1.0274 - val_loss: 1.0133\n",
            "Epoch 10/20\n",
            "215/215 [==============================] - 4s 20ms/step - loss: 1.0012 - val_loss: 1.0008\n",
            "Epoch 11/20\n",
            "215/215 [==============================] - 4s 20ms/step - loss: 1.0138 - val_loss: 1.0097\n",
            "Epoch 12/20\n",
            "215/215 [==============================] - 4s 19ms/step - loss: 0.9687 - val_loss: 1.0380\n",
            "Epoch 13/20\n",
            "215/215 [==============================] - 4s 19ms/step - loss: 0.9770 - val_loss: 0.9535\n",
            "Epoch 14/20\n",
            "215/215 [==============================] - 4s 19ms/step - loss: 0.9467 - val_loss: 0.9897\n",
            "Epoch 15/20\n",
            "215/215 [==============================] - 4s 19ms/step - loss: 0.9378 - val_loss: 0.9599\n",
            "Epoch 16/20\n",
            "215/215 [==============================] - 4s 19ms/step - loss: 0.9342 - val_loss: 0.9762\n",
            "Epoch 17/20\n",
            "215/215 [==============================] - 4s 20ms/step - loss: 0.9055 - val_loss: 0.9419\n",
            "Epoch 18/20\n",
            "215/215 [==============================] - 4s 20ms/step - loss: 0.8785 - val_loss: 0.9675\n",
            "Epoch 19/20\n",
            "215/215 [==============================] - 4s 19ms/step - loss: 0.8986 - val_loss: 0.9835\n",
            "Epoch 20/20\n",
            "215/215 [==============================] - 4s 19ms/step - loss: 0.8893 - val_loss: 1.1383\n"
          ]
        }
      ],
      "source": [
        "history = mdl.fit(X_train, y_train, validation_data=(X_val,y_val), epochs=20, batch_size=32, verbose=True)"
      ]
    },
    {
      "cell_type": "code",
      "source": [
        "plt.figure(figsize=(16, 6))\n",
        "\n",
        "plt.subplot(1, 2, 1)\n",
        "plt.plot(history.history['loss'])\n",
        "plt.plot(history.history['val_loss'])\n",
        "plt.xlabel('Epoch')\n",
        "plt.ylabel('Loss')\n",
        "plt.legend(['Training', 'Validation'])\n",
        "plt.title('Loss')\n",
        "\n",
        "#plt.subplot(1, 2, 2)\n",
        "#plt.plot(history.history['accuracy'])\n",
        "#plt.plot(history.history['val_accuracy'])\n",
        "#plt.xlabel('Epoch')\n",
        "#plt.ylabel('Accuracy')\n",
        "#plt.legend(['Training', 'Validation'])\n",
        "#plt.title('Accuracy')"
      ],
      "metadata": {
        "colab": {
          "base_uri": "https://localhost:8080/",
          "height": 421
        },
        "id": "vhI854PEHXNE",
        "outputId": "43f815fd-3051-41d0-a01e-09f7c7ed606b"
      },
      "execution_count": 47,
      "outputs": [
        {
          "output_type": "execute_result",
          "data": {
            "text/plain": [
              "Text(0.5, 1.0, 'Loss')"
            ]
          },
          "metadata": {},
          "execution_count": 47
        },
        {
          "output_type": "display_data",
          "data": {
            "text/plain": [
              "<Figure size 1152x432 with 1 Axes>"
            ],
            "image/png": "[encoded data removed]"
          },
          "metadata": {
            "needs_background": "light"
          }
        }
      ]
    },
    {
      "cell_type": "code",
      "source": [
        "prediction = mdl.predict(X_test_reduced)"
      ],
      "metadata": {
        "colab": {
          "base_uri": "https://localhost:8080/"
        },
        "id": "dptGtBsYHYVv",
        "outputId": "2869f795-abb5-4981-d1cc-b69f4f8e7b43"
      },
      "execution_count": null,
      "outputs": [
        {
          "output_type": "stream",
          "name": "stdout",
          "text": [
            "6/6 [==============================] - 0s 4ms/step\n"
          ]
        }
      ]
    },
    {
      "cell_type": "code",
      "source": [
        "prediction"
      ],
      "metadata": {
        "colab": {
          "base_uri": "https://localhost:8080/"
        },
        "id": "S1wUYiZyJFSi",
        "outputId": "180327a6-bbc1-4a37-af34-1d1dd8ee8a24"
      },
      "execution_count": null,
      "outputs": [
        {
          "output_type": "execute_result",
          "data": {
            "text/plain": [
              "array([[ 0.55791247],\n",
              "       [ 0.98776937],\n",
              "       [ 0.55447257],\n",
              "       [ 0.37025332],\n",
              "       [ 0.35828894],\n",
              "       [ 0.47090366],\n",
              "       [ 0.3281689 ],\n",
              "       [ 0.31068227],\n",
              "       [ 0.2926287 ],\n",
              "       [ 0.37350696],\n",
              "       [ 0.6460501 ],\n",
              "       [ 0.30070207],\n",
              "       [ 0.23358694],\n",
              "       [-0.0598436 ],\n",
              "       [ 0.03840408],\n",
              "       [ 0.19357336],\n",
              "       [ 0.4687493 ],\n",
              "       [ 0.6466615 ],\n",
              "       [ 1.1371083 ],\n",
              "       [ 1.2468561 ],\n",
              "       [ 1.0559766 ],\n",
              "       [ 1.0507045 ],\n",
              "       [ 0.739915  ],\n",
              "       [ 0.65002286],\n",
              "       [ 0.89643455],\n",
              "       [ 0.7540313 ],\n",
              "       [ 0.7900305 ],\n",
              "       [ 0.8366499 ],\n",
              "       [ 0.52184796],\n",
              "       [ 0.47625214],\n",
              "       [ 0.5043218 ],\n",
              "       [ 0.28834414],\n",
              "       [ 0.25789073],\n",
              "       [ 0.2238633 ],\n",
              "       [ 0.6610346 ],\n",
              "       [ 0.6948978 ],\n",
              "       [ 0.72665846],\n",
              "       [ 0.2740826 ],\n",
              "       [ 0.8250036 ],\n",
              "       [ 0.8235475 ],\n",
              "       [ 0.97629917],\n",
              "       [ 1.0396886 ],\n",
              "       [ 1.0073481 ],\n",
              "       [ 0.95737386],\n",
              "       [ 0.80611336],\n",
              "       [ 0.68559587],\n",
              "       [ 0.6247107 ],\n",
              "       [ 0.6180433 ],\n",
              "       [ 0.5892688 ],\n",
              "       [ 0.5423919 ],\n",
              "       [ 0.47496328],\n",
              "       [ 0.64892983],\n",
              "       [ 0.3175295 ],\n",
              "       [ 0.404959  ],\n",
              "       [ 0.39208335],\n",
              "       [ 0.38785014],\n",
              "       [ 0.43290105],\n",
              "       [ 0.63484514],\n",
              "       [ 0.41106197],\n",
              "       [ 0.78394115],\n",
              "       [ 0.87631154],\n",
              "       [ 0.90879   ],\n",
              "       [ 1.060253  ],\n",
              "       [ 1.257861  ],\n",
              "       [ 0.73056364],\n",
              "       [ 0.62447536],\n",
              "       [ 0.5820217 ],\n",
              "       [ 1.1384201 ],\n",
              "       [ 1.0224133 ],\n",
              "       [ 0.88568866],\n",
              "       [ 0.6078967 ],\n",
              "       [ 0.11624548],\n",
              "       [ 0.07674125],\n",
              "       [-0.03802451],\n",
              "       [ 0.22982766],\n",
              "       [ 0.3569418 ],\n",
              "       [ 0.08320306],\n",
              "       [-0.00760058],\n",
              "       [ 0.15066475],\n",
              "       [ 0.43027878],\n",
              "       [ 0.65772533],\n",
              "       [ 0.6394831 ],\n",
              "       [ 0.8185146 ],\n",
              "       [ 0.6782192 ],\n",
              "       [ 0.6253428 ],\n",
              "       [ 0.77465534],\n",
              "       [ 0.90161467],\n",
              "       [ 1.0671107 ],\n",
              "       [ 1.0275496 ],\n",
              "       [ 1.0297945 ],\n",
              "       [ 1.0433882 ],\n",
              "       [ 0.9936719 ],\n",
              "       [ 0.9422673 ],\n",
              "       [ 0.96494937],\n",
              "       [ 0.6229981 ],\n",
              "       [ 0.5911114 ],\n",
              "       [ 0.44494554],\n",
              "       [ 0.3339385 ],\n",
              "       [ 0.33544987],\n",
              "       [ 0.52861285],\n",
              "       [ 0.55445266],\n",
              "       [ 0.54022485],\n",
              "       [ 0.49194935],\n",
              "       [ 0.5168271 ],\n",
              "       [ 0.3746494 ],\n",
              "       [ 0.5477238 ],\n",
              "       [ 0.64895654],\n",
              "       [ 0.6246351 ],\n",
              "       [ 0.78327477],\n",
              "       [ 0.4259721 ],\n",
              "       [ 0.38859314],\n",
              "       [ 0.65336883],\n",
              "       [ 0.61376023],\n",
              "       [ 0.6202655 ],\n",
              "       [ 0.7222785 ],\n",
              "       [ 0.82531905],\n",
              "       [ 0.9307964 ],\n",
              "       [ 0.5742549 ],\n",
              "       [ 0.40491518],\n",
              "       [ 0.7861748 ],\n",
              "       [ 0.7917453 ],\n",
              "       [ 0.66870415],\n",
              "       [ 0.9317504 ],\n",
              "       [ 0.7137754 ],\n",
              "       [ 0.41030002],\n",
              "       [ 0.861261  ],\n",
              "       [ 0.82303405],\n",
              "       [ 0.9155272 ],\n",
              "       [ 0.92626786],\n",
              "       [ 0.8020569 ],\n",
              "       [ 0.8027464 ],\n",
              "       [ 0.73159134],\n",
              "       [ 0.7373977 ],\n",
              "       [ 0.1175025 ],\n",
              "       [ 0.43872008],\n",
              "       [ 0.49186388],\n",
              "       [ 0.7500206 ],\n",
              "       [ 0.7612276 ],\n",
              "       [ 1.2165911 ],\n",
              "       [ 0.75849545],\n",
              "       [ 0.7334703 ],\n",
              "       [ 1.0096788 ],\n",
              "       [ 0.7950628 ],\n",
              "       [ 0.8202175 ],\n",
              "       [ 1.4067628 ],\n",
              "       [ 1.521998  ],\n",
              "       [ 1.5246713 ],\n",
              "       [ 0.5204457 ],\n",
              "       [ 0.5276133 ],\n",
              "       [ 0.53575855],\n",
              "       [ 0.57013226],\n",
              "       [ 0.4000028 ],\n",
              "       [ 0.4308146 ],\n",
              "       [ 0.3563726 ],\n",
              "       [ 0.4891668 ],\n",
              "       [ 0.66343355],\n",
              "       [ 0.662727  ],\n",
              "       [ 0.32059547],\n",
              "       [ 0.6190498 ],\n",
              "       [ 0.6910813 ],\n",
              "       [ 0.91810143],\n",
              "       [ 1.0634019 ],\n",
              "       [ 1.118968  ],\n",
              "       [ 1.2963777 ],\n",
              "       [ 1.3433326 ],\n",
              "       [ 0.834152  ],\n",
              "       [ 1.5995752 ],\n",
              "       [ 1.6498153 ]], dtype=float32)"
            ]
          },
          "metadata": {},
          "execution_count": 26
        }
      ]
    },
    {
      "cell_type": "code",
      "source": [
        "X_test = read_dataset('test.csv')"
      ],
      "metadata": {
        "id": "dNcUV4NELuj3"
      },
      "execution_count": null,
      "outputs": []
    },
    {
      "cell_type": "code",
      "source": [
        "predictions_dict = {'time':X_test.time,'consumption':[el[0]for el in prediction]}\n",
        "pred_df = pd.DataFrame(predictions_dict)\n",
        "pred_df.to_csv('submission_291022_v1.csv',index=False)"
      ],
      "metadata": {
        "id": "XKzfaUpNJtQE"
      },
      "execution_count": null,
      "outputs": []
    },
    {
      "cell_type": "code",
      "source": [],
      "metadata": {
        "id": "GsOI3JeXLokg"
      },
      "execution_count": null,
      "outputs": []
    }
  ],
  "metadata": {
    "kernelspec": {
      "display_name": "Python 3 (system-wide)",
      "language": "python",
      "metadata": {
        "cocalc": {
          "description": "Python 3 programming language",
          "priority": 100,
          "url": "https://www.python.org/"
        }
      },
      "name": "python3",
      "resource_dir": "/ext/jupyter/kernels/python3"
    },
    "language_info": {
      "codemirror_mode": {
        "name": "ipython",
        "version": 3
      },
      "file_extension": ".py",
      "mimetype": "text/x-python",
      "name": "python",
      "nbconvert_exporter": "python",
      "pygments_lexer": "ipython3",
      "version": "3.8.10"
    },
    "colab": {
      "provenance": []
    }
  },
  "nbformat": 4,
  "nbformat_minor": 0
}