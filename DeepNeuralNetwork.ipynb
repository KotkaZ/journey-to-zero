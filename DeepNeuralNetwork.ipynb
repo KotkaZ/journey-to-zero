{
  "cells": [
    {
      "cell_type": "markdown",
      "metadata": {
        "id": "view-in-github",
        "colab_type": "text"
      },
      "source": [
        "<a href=\"https://colab.research.google.com/github/KotkaZ/journey-to-zero/blob/master/DeepNeuralNetwork.ipynb\" target=\"_parent\"><img src=\"https://colab.research.google.com/assets/colab-badge.svg\" alt=\"Open In Colab\"/></a>"
      ]
    },
    {
      "cell_type": "markdown",
      "metadata": {
        "collapsed": false,
        "id": "xQmC7g0vG_zk"
      },
      "source": [
        "# Deep Neural Network Notebook\n",
        "This notebook contains data processing and Neural Network model. The input data is a JourneyToZero Kaggle competition.\n",
        "\n",
        "https://www.kaggle.com/competitions/predict-electricity-consumption\n"
      ]
    },
    {
      "cell_type": "code",
      "execution_count": 1,
      "metadata": {
        "id": "z383-kW0G_zl"
      },
      "outputs": [],
      "source": [
        "# Here we use Numpy arrays and Pandas dataframes to pass and modify data.\n",
        "import numpy as nb\n",
        "import pandas as pd\n",
        "\n",
        "# We use OneHotEncoder from preprocessing sklearn module.\n",
        "from sklearn import preprocessing\n",
        "\n",
        "# We use PCA from decomposition sklearn module.\n",
        "from sklearn import decomposition\n",
        "\n",
        "from keras.models import Sequential\n",
        "from keras.layers import Dense, BatchNormalization, Dropout\n",
        "\n",
        "\n",
        "from matplotlib import pyplot as plt\n",
        "%matplotlib inline\n",
        "\n",
        "import datetime"
      ]
    },
    {
      "cell_type": "markdown",
      "metadata": {
        "collapsed": false,
        "id": "nVB_Fy3pG_zm"
      },
      "source": [
        "### Timestamp extraction\n",
        "\n",
        "Because crazy things happened in the past year, we validated that, some specific dates had significantly higher electricity prices. Therefore we do weekday, month, and time extraction from the timestamp.\n",
        "\n",
        "We only extract timestap features.\n",
        "\n"
      ]
    },
    {
      "cell_type": "code",
      "execution_count": 2,
      "metadata": {
        "id": "y3NmRhvzG_zm"
      },
      "outputs": [],
      "source": [
        "def extract_weekday(dataset):\n",
        "    splits = dataset['date'].astype(str).str.split('-')\n",
        "    dataset['weekday'] = [datetime.date(int(year), int(month), int(day)).weekday() for (year, month, day) in splits]"
      ]
    },
    {
      "cell_type": "code",
      "execution_count": 3,
      "metadata": {
        "id": "0orwSVNLG_zn"
      },
      "outputs": [],
      "source": [
        "def extract_month(dataset):\n",
        "    dataset['month'] = [month for (_, month, _) in dataset['date'].astype(str).str.split('-')]"
      ]
    },
    {
      "cell_type": "code",
      "execution_count": 4,
      "metadata": {
        "id": "DrOWkTuHG_zn"
      },
      "outputs": [],
      "source": [
        "def extract_datetime(dataset):\n",
        "    dataset.loc[:,'time'] = pd.to_datetime(dataset.loc[:,'time'], format=\"%Y-%m-%d %H:%M:%S\", utc=True)\n",
        "    dataset['date'] = dataset['time'].dt.date\n",
        "    dataset['hour'] = dataset['time'].dt.hour"
      ]
    },
    {
      "cell_type": "code",
      "execution_count": 5,
      "metadata": {
        "id": "MJ63lOigG_zo"
      },
      "outputs": [],
      "source": [
        "def extract_features(dataset):\n",
        "    extract_datetime(dataset)\n",
        "    extract_month(dataset)\n",
        "    extract_weekday(dataset)\n"
      ]
    },
    {
      "cell_type": "markdown",
      "source": [
        "### One Hot Encoder\n",
        "\n",
        "As Neural Networks prefer numerical inputs we encode categorical data."
      ],
      "metadata": {
        "id": "PPstdHs8ycDe"
      }
    },
    {
      "cell_type": "code",
      "execution_count": 6,
      "metadata": {
        "id": "dfyY0rZaG_zn"
      },
      "outputs": [],
      "source": [
        "def one_hot_encode(dataset, columns, encoder = None) -> preprocessing.OneHotEncoder:\n",
        "    if encoder:\n",
        "        transformed = encoder.transform(dataset[columns])\n",
        "    else:\n",
        "        encoder = preprocessing.OneHotEncoder(sparse= False)\n",
        "        transformed = encoder.fit_transform(dataset[columns])\n",
        "\n",
        "    new_columns = []\n",
        "    for i, column in enumerate(encoder.feature_names_in_):\n",
        "        new_columns.extend([column + str(cat) for cat in encoder.categories_[i]])\n",
        "\n",
        "    encoder_df = pd.DataFrame(transformed, index=dataset.index)\n",
        "    dataset[new_columns] = encoder_df\n",
        "    dataset.drop(columns=columns, inplace=True)\n",
        "    return encoder"
      ]
    },
    {
      "cell_type": "markdown",
      "metadata": {
        "collapsed": false,
        "id": "hN7eX9_bG_zo"
      },
      "source": [
        "### Feature dropping\n",
        "\n",
        "In Estonia, there are approximately 500-800 millimeters of rain on average. Our dataset consisted of only about 140mm of rain, which is definitely not correct. Also, the amount of snow was inappropriate for the same reason. We could integrate a new wether dataset or leave it as it is. The simpliest approch is to delete the whole columns, which we decided to do.\n",
        "\n",
        "Some of the rows contained null values, which we also dropped. There was a case, when electricy prices hit market limit, which caused some outliners. It was wise to drop them.\n"
      ]
    },
    {
      "cell_type": "code",
      "execution_count": 7,
      "metadata": {
        "id": "wjBqWsJsG_zo"
      },
      "outputs": [],
      "source": [
        "def drop_features(dataset):\n",
        "    dataset.drop(columns=['snow','prcp','time','date'], inplace=True)\n"
      ]
    },
    {
      "cell_type": "code",
      "execution_count": 8,
      "metadata": {
        "id": "0xEwUxN-G_zp"
      },
      "outputs": [],
      "source": [
        "def drop_rows(dataset):\n",
        "    # Deal with NaN values\n",
        "    initial_len = len(dataset)\n",
        "    dataset.dropna(inplace=True)\n",
        "    new_len = len(dataset)\n",
        "    if (initial_len != new_len):\n",
        "        print(f'Dropped {initial_len - new_len} row')\n",
        "\n",
        "    # Deal with outliners\n",
        "    dataset.drop(dataset[dataset['el_price'] > 1].index , inplace=True)"
      ]
    },
    {
      "cell_type": "markdown",
      "source": [
        "### Normalize\n",
        "\n",
        "Here we scale numeric values between 0 to 1 with MinMaxScaler"
      ],
      "metadata": {
        "id": "de-uzC11y8bA"
      }
    },
    {
      "cell_type": "code",
      "execution_count": 9,
      "metadata": {
        "id": "ywEAPeAXG_zp"
      },
      "outputs": [],
      "source": [
        "def normalize(dataset, scaler = None) -> (pd.DataFrame, preprocessing.MinMaxScaler):\n",
        "    if scaler:\n",
        "        dataset_scaled = scaler.transform(dataset)\n",
        "        return (dataset_scaled, scaler)\n",
        "    scaler = preprocessing.MinMaxScaler()\n",
        "    dataset_scaled = scaler.fit_transform(dataset)\n",
        "    return (dataset_scaled, scaler)"
      ]
    },
    {
      "cell_type": "markdown",
      "source": [
        "### PCA\n",
        "\n",
        "As OneHotEncoder introduced a lot of new features, we decided to do PCA with leaving 90% of importance value."
      ],
      "metadata": {
        "id": "eOX_B7SzzAPA"
      }
    },
    {
      "cell_type": "code",
      "execution_count": 10,
      "metadata": {
        "id": "w5mvJMC5G_zp"
      },
      "outputs": [],
      "source": [
        "def reduce_dimensions(dataset, pca = None) -> (pd.DataFrame, decomposition.PCA):\n",
        "    if pca:\n",
        "        dataset_reduced = pca.transform(dataset)\n",
        "        return (dataset_reduced, pca)\n",
        "    pca = decomposition.PCA(n_components=0.9)\n",
        "    dataset_reduced = pca.fit_transform(dataset)\n",
        "    return (dataset_reduced, pca)"
      ]
    },
    {
      "cell_type": "markdown",
      "source": [
        "### Preprocess\n",
        "\n",
        "Here we combine all the previous methods into one. As trained encoder must be used on test set, we return it from the method.\n"
      ],
      "metadata": {
        "id": "QrMxNuCbzC8I"
      }
    },
    {
      "cell_type": "code",
      "execution_count": 11,
      "metadata": {
        "id": "9ZgyuDOzG_zp"
      },
      "outputs": [],
      "source": [
        "def preprocess(dataset, encoder=None) -> preprocessing.OneHotEncoder:\n",
        "    extract_features(dataset)\n",
        "    drop_features(dataset)\n",
        "    encoder = one_hot_encode(dataset, ['coco', 'weekday'], encoder)\n",
        "    drop_rows(dataset)\n",
        "    return encoder\n"
      ]
    },
    {
      "cell_type": "markdown",
      "metadata": {
        "collapsed": false,
        "id": "5VCuq2_ZG_zp"
      },
      "source": [
        "### Import dataset\n",
        "\n",
        "Here we import dataset, do inital processing and split into train and validation. As we predict consumption, we extract this column to separate numpy array."
      ]
    },
    {
      "cell_type": "code",
      "execution_count": 12,
      "metadata": {
        "id": "QrxVmltyG_zp"
      },
      "outputs": [],
      "source": [
        "def read_dataset(file_name) -> pd.DataFrame:\n",
        "    return pd.read_csv(file_name)"
      ]
    },
    {
      "cell_type": "code",
      "execution_count": 13,
      "metadata": {
        "id": "4M-OODkHG_zq"
      },
      "outputs": [],
      "source": [
        "def extract_labels(dataset) -> (pd.DataFrame, pd.Series):\n",
        "    X_train = dataset.loc[:, ~dataset.columns.isin(['consumption'])]\n",
        "    y_train = dataset['consumption']\n",
        "    return (X_train, y_train)"
      ]
    },
    {
      "cell_type": "code",
      "execution_count": 14,
      "metadata": {
        "colab": {
          "base_uri": "https://localhost:8080/"
        },
        "id": "86ZWVt3pG_zq",
        "outputId": "7d91a834-9e4c-481a-c0aa-b8e55f0da68e"
      },
      "outputs": [
        {
          "output_type": "stream",
          "name": "stdout",
          "text": [
            "Dropped 2 row\n"
          ]
        }
      ],
      "source": [
        "train_df = read_dataset('train.csv')\n",
        "encoder = preprocess(train_df)\n",
        "\n",
        "\n",
        "X_train, y_train = extract_labels(train_df)\n",
        "\n",
        "X_train_norm, scaler = normalize(X_train)\n",
        "X_train_reduced, pca = reduce_dimensions(X_train_norm)\n"
      ]
    },
    {
      "cell_type": "code",
      "execution_count": 15,
      "metadata": {
        "colab": {
          "base_uri": "https://localhost:8080/"
        },
        "id": "mtaKcoPHG_zq",
        "outputId": "556de628-ff0e-49fd-d3f4-96c0043728a9"
      },
      "outputs": [
        {
          "output_type": "execute_result",
          "data": {
            "text/plain": [
              "(8588, 41)"
            ]
          },
          "metadata": {},
          "execution_count": 15
        }
      ],
      "source": [
        "X_train_norm.shape"
      ]
    },
    {
      "cell_type": "code",
      "execution_count": 16,
      "metadata": {
        "colab": {
          "base_uri": "https://localhost:8080/"
        },
        "id": "ZJQrBk77G_zr",
        "outputId": "519bbf84-b602-46b1-b361-49654fd6162f"
      },
      "outputs": [
        {
          "output_type": "stream",
          "name": "stdout",
          "text": [
            "(168, 41)\n"
          ]
        }
      ],
      "source": [
        "X_test = read_dataset('test.csv')\n",
        "preprocess(X_test, encoder)\n",
        "\n",
        "X_test_norm, _ = normalize(X_test, scaler)\n",
        "print(X_test_norm.shape)\n",
        "X_test_reduced, _ = reduce_dimensions(X_test_norm, pca)"
      ]
    },
    {
      "cell_type": "code",
      "execution_count": 17,
      "metadata": {
        "id": "ASksVPZVG_zr"
      },
      "outputs": [],
      "source": [
        "from sklearn.model_selection import train_test_split\n",
        "\n",
        "X_train, X_val, y_train, y_val = train_test_split(X_train_reduced, y_train, test_size=0.2)"
      ]
    },
    {
      "cell_type": "code",
      "execution_count": 18,
      "metadata": {
        "colab": {
          "base_uri": "https://localhost:8080/"
        },
        "id": "uPrlZDSjG_zr",
        "outputId": "3f3190aa-0139-4e11-9460-3b82cfd29760"
      },
      "outputs": [
        {
          "output_type": "execute_result",
          "data": {
            "text/plain": [
              "(6870, 16)"
            ]
          },
          "metadata": {},
          "execution_count": 18
        }
      ],
      "source": [
        "X_train.shape"
      ]
    },
    {
      "cell_type": "markdown",
      "source": [
        "### Deep Neural Network\n",
        "\n",
        "We train a quite random Nerual Network too see the possible potential of this model. We validate the output on validation set.\n",
        "\n"
      ],
      "metadata": {
        "id": "NVwdXhg3zTwu"
      }
    },
    {
      "cell_type": "code",
      "execution_count": 19,
      "metadata": {
        "id": "icZedCGnG_zr"
      },
      "outputs": [],
      "source": [
        "mdl = Sequential()\n",
        "\n",
        "mdl.add(Dense(2056, activation=\"relu\", input_shape=(X_train.shape[1],)))\n",
        "mdl.add(BatchNormalization())\n",
        "mdl.add(Dropout(0.2))\n",
        "mdl.add(Dense(1028, activation=\"relu\"))\n",
        "mdl.add(Dropout(0.2))\n",
        "mdl.add(BatchNormalization())\n",
        "mdl.add(Dense(512, activation=\"relu\"))\n",
        "mdl.add(Dropout(0.2))\n",
        "mdl.add(BatchNormalization())\n",
        "mdl.add(Dense(64, activation=\"relu\"))\n",
        "mdl.add(BatchNormalization())\n",
        "mdl.add(Dense(32, activation=\"relu\"))\n",
        "mdl.add(Dropout(0.2))\n",
        "mdl.add(Dense(1, activation=\"relu\"))\n",
        "\n",
        "mdl.compile(loss='mae', optimizer=\"adam\")"
      ]
    },
    {
      "cell_type": "code",
      "source": [
        "print(X_train.shape)\n",
        "print(y_train.shape)\n",
        "print(X_val.shape)\n",
        "print(y_val.shape)\n",
        "print(X_test_reduced.shape)"
      ],
      "metadata": {
        "colab": {
          "base_uri": "https://localhost:8080/"
        },
        "id": "K0cOrg38Hfbq",
        "outputId": "8b9b6c15-0776-41f4-bbfe-f07b164b1d94"
      },
      "execution_count": 20,
      "outputs": [
        {
          "output_type": "stream",
          "name": "stdout",
          "text": [
            "(6870, 16)\n",
            "(6870,)\n",
            "(1718, 16)\n",
            "(1718,)\n",
            "(168, 16)\n"
          ]
        }
      ]
    },
    {
      "cell_type": "code",
      "execution_count": 21,
      "metadata": {
        "colab": {
          "base_uri": "https://localhost:8080/"
        },
        "id": "5XJrpFfxG_zs",
        "outputId": "8d99128b-b40c-4bbe-92ef-e4e81d2f1871"
      },
      "outputs": [
        {
          "output_type": "stream",
          "name": "stdout",
          "text": [
            "Epoch 1/20\n",
            "215/215 [==============================] - 11s 41ms/step - loss: 0.8244 - val_loss: 0.6368\n",
            "Epoch 2/20\n",
            "215/215 [==============================] - 7s 33ms/step - loss: 0.6791 - val_loss: 0.6425\n",
            "Epoch 3/20\n",
            "215/215 [==============================] - 5s 22ms/step - loss: 0.6340 - val_loss: 0.5979\n",
            "Epoch 4/20\n",
            "215/215 [==============================] - 5s 22ms/step - loss: 0.6038 - val_loss: 0.5895\n",
            "Epoch 5/20\n",
            "215/215 [==============================] - 5s 22ms/step - loss: 0.5858 - val_loss: 0.5650\n",
            "Epoch 6/20\n",
            "215/215 [==============================] - 5s 21ms/step - loss: 0.5725 - val_loss: 0.5808\n",
            "Epoch 7/20\n",
            "215/215 [==============================] - 5s 22ms/step - loss: 0.5670 - val_loss: 0.5498\n",
            "Epoch 8/20\n",
            "215/215 [==============================] - 5s 21ms/step - loss: 0.5396 - val_loss: 0.5423\n",
            "Epoch 9/20\n",
            "215/215 [==============================] - 5s 22ms/step - loss: 0.5375 - val_loss: 0.5388\n",
            "Epoch 10/20\n",
            "215/215 [==============================] - 5s 21ms/step - loss: 0.5288 - val_loss: 0.5459\n",
            "Epoch 11/20\n",
            "215/215 [==============================] - 5s 22ms/step - loss: 0.5287 - val_loss: 0.5273\n",
            "Epoch 12/20\n",
            "215/215 [==============================] - 5s 21ms/step - loss: 0.5260 - val_loss: 0.5350\n",
            "Epoch 13/20\n",
            "215/215 [==============================] - 5s 22ms/step - loss: 0.5186 - val_loss: 0.5278\n",
            "Epoch 14/20\n",
            "215/215 [==============================] - 5s 21ms/step - loss: 0.5161 - val_loss: 0.5398\n",
            "Epoch 15/20\n",
            "215/215 [==============================] - 5s 21ms/step - loss: 0.5165 - val_loss: 0.5295\n",
            "Epoch 16/20\n",
            "215/215 [==============================] - 5s 21ms/step - loss: 0.5142 - val_loss: 0.5413\n",
            "Epoch 17/20\n",
            "215/215 [==============================] - 5s 22ms/step - loss: 0.5112 - val_loss: 0.5364\n",
            "Epoch 18/20\n",
            "215/215 [==============================] - 5s 22ms/step - loss: 0.5115 - val_loss: 0.5281\n",
            "Epoch 19/20\n",
            "215/215 [==============================] - 5s 21ms/step - loss: 0.5078 - val_loss: 0.5327\n",
            "Epoch 20/20\n",
            "215/215 [==============================] - 5s 21ms/step - loss: 0.5039 - val_loss: 0.5186\n"
          ]
        }
      ],
      "source": [
        "history = mdl.fit(X_train, y_train, validation_data=(X_val,y_val), epochs=20, batch_size=32, verbose=True)"
      ]
    },
    {
      "cell_type": "code",
      "source": [
        "plt.figure(figsize=(16, 6))\n",
        "\n",
        "plt.subplot(1, 2, 1)\n",
        "plt.plot(history.history['loss'])\n",
        "plt.plot(history.history['val_loss'])\n",
        "plt.xlabel('Epoch')\n",
        "plt.ylabel('Loss')\n",
        "plt.legend(['Training', 'Validation'])\n",
        "plt.title('Loss')\n"
      ],
      "metadata": {
        "colab": {
          "base_uri": "https://localhost:8080/",
          "height": 421
        },
        "id": "vhI854PEHXNE",
        "outputId": "ae997309-58b3-4aa3-cbe8-9b5f2e1eb568"
      },
      "execution_count": 22,
      "outputs": [
        {
          "output_type": "execute_result",
          "data": {
            "text/plain": [
              "Text(0.5, 1.0, 'Loss')"
            ]
          },
          "metadata": {},
          "execution_count": 22
        },
        {
          "output_type": "display_data",
          "data": {
            "text/plain": [
              "<Figure size 1152x432 with 1 Axes>"
            ],
            "image/png": "[encoded data removed]"
          },
          "metadata": {
            "needs_background": "light"
          }
        }
      ]
    },
    {
      "cell_type": "markdown",
      "source": [
        "### Prediction\n",
        "We predict on the test dataset and write the output to csv file.\n",
        "\n"
      ],
      "metadata": {
        "id": "jrpZC7Qb00cf"
      }
    },
    {
      "cell_type": "code",
      "source": [
        "prediction = mdl.predict(X_test_reduced)\n",
        "prediction"
      ],
      "metadata": {
        "colab": {
          "base_uri": "https://localhost:8080/"
        },
        "id": "S1wUYiZyJFSi",
        "outputId": "7286882c-4fba-4e7e-c66b-f7bfd4c4d2e7"
      },
      "execution_count": 23,
      "outputs": [
        {
          "output_type": "stream",
          "name": "stdout",
          "text": [
            "6/6 [==============================] - 0s 6ms/step\n"
          ]
        },
        {
          "output_type": "execute_result",
          "data": {
            "text/plain": [
              "array([[0.33029175],\n",
              "       [0.29407609],\n",
              "       [0.18818377],\n",
              "       [0.14235905],\n",
              "       [0.16753966],\n",
              "       [0.2193278 ],\n",
              "       [0.29369366],\n",
              "       [0.3816925 ],\n",
              "       [0.4060542 ],\n",
              "       [0.5076452 ],\n",
              "       [0.53012526],\n",
              "       [0.4640003 ],\n",
              "       [0.4736016 ],\n",
              "       [0.47693273],\n",
              "       [0.49287188],\n",
              "       [0.5061378 ],\n",
              "       [0.5751084 ],\n",
              "       [0.59844714],\n",
              "       [0.7681807 ],\n",
              "       [0.6937176 ],\n",
              "       [0.62664974],\n",
              "       [0.59832513],\n",
              "       [0.31309396],\n",
              "       [0.29152292],\n",
              "       [0.2880332 ],\n",
              "       [0.23371422],\n",
              "       [0.22092439],\n",
              "       [0.15449843],\n",
              "       [0.18515241],\n",
              "       [0.2180231 ],\n",
              "       [0.28819323],\n",
              "       [0.3912422 ],\n",
              "       [0.4808802 ],\n",
              "       [0.5174941 ],\n",
              "       [0.42951664],\n",
              "       [0.46734196],\n",
              "       [0.4845786 ],\n",
              "       [0.59894836],\n",
              "       [0.50607306],\n",
              "       [0.63695467],\n",
              "       [0.56380713],\n",
              "       [0.5891514 ],\n",
              "       [0.5924567 ],\n",
              "       [0.57882094],\n",
              "       [0.44456992],\n",
              "       [0.41200387],\n",
              "       [0.31537566],\n",
              "       [0.27423722],\n",
              "       [0.22960621],\n",
              "       [0.20489207],\n",
              "       [0.34231347],\n",
              "       [0.16083246],\n",
              "       [0.18992198],\n",
              "       [0.22839293],\n",
              "       [0.2735345 ],\n",
              "       [0.3082167 ],\n",
              "       [0.33551076],\n",
              "       [0.45042914],\n",
              "       [0.3790205 ],\n",
              "       [0.56886286],\n",
              "       [0.703725  ],\n",
              "       [0.7043905 ],\n",
              "       [0.7102951 ],\n",
              "       [0.78971255],\n",
              "       [0.45505905],\n",
              "       [0.47508568],\n",
              "       [0.46565586],\n",
              "       [0.6661398 ],\n",
              "       [0.48066592],\n",
              "       [0.5198741 ],\n",
              "       [0.30783623],\n",
              "       [0.26572824],\n",
              "       [0.23200735],\n",
              "       [0.18285125],\n",
              "       [0.15128812],\n",
              "       [0.22687127],\n",
              "       [0.15428099],\n",
              "       [0.19210519],\n",
              "       [0.30677146],\n",
              "       [0.40261355],\n",
              "       [0.58190894],\n",
              "       [0.67611665],\n",
              "       [0.76526177],\n",
              "       [0.78948647],\n",
              "       [0.8258183 ],\n",
              "       [0.6725255 ],\n",
              "       [0.7186843 ],\n",
              "       [0.9395876 ],\n",
              "       [0.7964196 ],\n",
              "       [0.78678024],\n",
              "       [0.7790164 ],\n",
              "       [0.7019582 ],\n",
              "       [0.57678056],\n",
              "       [0.5879538 ],\n",
              "       [0.40485275],\n",
              "       [0.38248995],\n",
              "       [0.3013028 ],\n",
              "       [0.24014279],\n",
              "       [0.41166234],\n",
              "       [0.28447723],\n",
              "       [0.40354115],\n",
              "       [0.55654335],\n",
              "       [0.4003874 ],\n",
              "       [0.38471067],\n",
              "       [0.3757986 ],\n",
              "       [0.44182017],\n",
              "       [0.57067364],\n",
              "       [0.58755857],\n",
              "       [0.7250032 ],\n",
              "       [0.6392367 ],\n",
              "       [0.58993644],\n",
              "       [0.6482787 ],\n",
              "       [0.7257062 ],\n",
              "       [0.7088345 ],\n",
              "       [0.59435594],\n",
              "       [0.6264947 ],\n",
              "       [0.7923931 ],\n",
              "       [0.64928895],\n",
              "       [0.6618097 ],\n",
              "       [0.53736824],\n",
              "       [0.48235926],\n",
              "       [0.70587146],\n",
              "       [0.78439236],\n",
              "       [0.46418083],\n",
              "       [0.23785213],\n",
              "       [0.45117855],\n",
              "       [0.51002866],\n",
              "       [0.7502911 ],\n",
              "       [0.6154015 ],\n",
              "       [0.5696118 ],\n",
              "       [0.46866918],\n",
              "       [0.45108265],\n",
              "       [0.43811762],\n",
              "       [0.48424375],\n",
              "       [0.5474239 ],\n",
              "       [0.5199123 ],\n",
              "       [0.61911   ],\n",
              "       [0.48697323],\n",
              "       [0.9367547 ],\n",
              "       [0.6260947 ],\n",
              "       [0.61832875],\n",
              "       [0.4543513 ],\n",
              "       [0.38490456],\n",
              "       [0.37099612],\n",
              "       [0.42342186],\n",
              "       [0.6423656 ],\n",
              "       [0.7421425 ],\n",
              "       [0.6173553 ],\n",
              "       [0.5357599 ],\n",
              "       [0.73638344],\n",
              "       [0.67382705],\n",
              "       [0.40862894],\n",
              "       [0.39844835],\n",
              "       [0.4076154 ],\n",
              "       [0.40388224],\n",
              "       [0.3966528 ],\n",
              "       [0.4018297 ],\n",
              "       [0.36312637],\n",
              "       [0.41337964],\n",
              "       [0.40054858],\n",
              "       [0.52769864],\n",
              "       [0.6492151 ],\n",
              "       [0.8588748 ],\n",
              "       [0.8227775 ],\n",
              "       [0.774045  ],\n",
              "       [0.5201753 ],\n",
              "       [0.8957205 ],\n",
              "       [0.9357481 ]], dtype=float32)"
            ]
          },
          "metadata": {},
          "execution_count": 23
        }
      ]
    },
    {
      "cell_type": "code",
      "source": [
        "# We must reload the test dataframe, as we droped the time column.\n",
        "X_test = read_dataset('test.csv')\n",
        "\n",
        "predictions_dict = {'time':X_test.time,'consumption':[el[0]for el in prediction]}\n",
        "pred_df = pd.DataFrame(predictions_dict)\n",
        "pred_df.to_csv('submission_291022_v1.csv',index=False)"
      ],
      "metadata": {
        "id": "XKzfaUpNJtQE"
      },
      "execution_count": 24,
      "outputs": []
    }
  ],
  "metadata": {
    "kernelspec": {
      "display_name": "Python 3 (system-wide)",
      "language": "python",
      "metadata": {
        "cocalc": {
          "description": "Python 3 programming language",
          "priority": 100,
          "url": "https://www.python.org/"
        }
      },
      "name": "python3",
      "resource_dir": "/ext/jupyter/kernels/python3"
    },
    "language_info": {
      "codemirror_mode": {
        "name": "ipython",
        "version": 3
      },
      "file_extension": ".py",
      "mimetype": "text/x-python",
      "name": "python",
      "nbconvert_exporter": "python",
      "pygments_lexer": "ipython3",
      "version": "3.8.10"
    },
    "colab": {
      "provenance": [],
      "include_colab_link": true
    }
  },
  "nbformat": 4,
  "nbformat_minor": 0
}