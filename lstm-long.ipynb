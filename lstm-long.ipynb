{
  "cells": [
    {
      "cell_type": "markdown",
      "metadata": {
        "id": "view-in-github",
        "colab_type": "text"
      },
      "source": [
        "<a href=\"https://colab.research.google.com/github/KotkaZ/journey-to-zero/blob/master/lstm-long.ipynb\" target=\"_parent\"><img src=\"https://colab.research.google.com/assets/colab-badge.svg\" alt=\"Open In Colab\"/></a>"
      ]
    },
    {
      "cell_type": "markdown",
      "metadata": {
        "collapsed": false,
        "id": "xQmC7g0vG_zk"
      },
      "source": [
        "## Dataset preprocessing\n",
        "\n"
      ]
    },
    {
      "cell_type": "code",
      "execution_count": 1,
      "metadata": {
        "id": "z383-kW0G_zl"
      },
      "outputs": [],
      "source": [
        "import numpy as nb\n",
        "import pandas as pd\n",
        "\n",
        "from sklearn import preprocessing\n",
        "from sklearn import decomposition\n",
        "from sklearn.preprocessing import MinMaxScaler\n",
        "\n",
        "from matplotlib import pyplot as plt\n",
        "\n",
        "%matplotlib inline\n",
        "\n",
        "import datetime"
      ]
    },
    {
      "cell_type": "markdown",
      "metadata": {
        "collapsed": false,
        "id": "nVB_Fy3pG_zm"
      },
      "source": [
        "### Timestamp extraction\n",
        "\n",
        "Because crazy things happened in the past year,  we validated that, some specific dates had significantly higher electricity prices. Therefore we do weekday, month, and time extraction from the timestamp.  \n",
        "\n"
      ]
    },
    {
      "cell_type": "code",
      "execution_count": 1,
      "metadata": {
        "id": "dfyY0rZaG_zn"
      },
      "outputs": [],
      "source": []
    },
    {
      "cell_type": "markdown",
      "metadata": {
        "collapsed": false,
        "id": "hN7eX9_bG_zo"
      },
      "source": [
        "### Feature dropping\n",
        "\n",
        "In Estonia, there are approximately 500\\-800 millimeters of rain on average. Our dataset consisted of only about 140mm of rain, which is definitely not correct. Also, the amount of snow was inappropriate for the  \n",
        " same reason.\n"
      ]
    },
    {
      "cell_type": "code",
      "execution_count": 2,
      "metadata": {
        "id": "wjBqWsJsG_zo"
      },
      "outputs": [],
      "source": [
        "def drop_features(dataset):\n",
        "    dataset.drop(columns=['snow','prcp'], inplace=True)\n"
      ]
    },
    {
      "cell_type": "code",
      "execution_count": 3,
      "metadata": {
        "id": "0xEwUxN-G_zp"
      },
      "outputs": [],
      "source": [
        "def drop_rows(dataset):\n",
        "    # Deal with NaN values\n",
        "    initial_len = len(dataset)\n",
        "    display(dataset.head())\n",
        "    dataset.dropna(inplace=True)\n",
        "    new_len = len(dataset)\n",
        "    if (initial_len != new_len):\n",
        "        print(f'Dropped {initial_len - new_len} row')\n",
        "\n",
        "    # Deal with outliners\n",
        "    dataset.drop(dataset[dataset['el_price'] > 1].index , inplace=True)"
      ]
    },
    {
      "cell_type": "code",
      "execution_count": 4,
      "metadata": {
        "id": "ywEAPeAXG_zp"
      },
      "outputs": [],
      "source": [
        "def normalize(dataset, scaler = None) -> (pd.DataFrame, preprocessing.MinMaxScaler):\n",
        "    if scaler:\n",
        "        dataset_scaled = scaler.transform(dataset)\n",
        "        return (dataset_scaled, scaler)\n",
        "    scaler = preprocessing.MinMaxScaler()\n",
        "    dataset_scaled = scaler.fit_transform(dataset)\n",
        "    return (dataset_scaled, scaler)"
      ]
    },
    {
      "cell_type": "code",
      "execution_count": 5,
      "metadata": {
        "id": "w5mvJMC5G_zp"
      },
      "outputs": [],
      "source": [
        "def reduce_dimensions(dataset, pca = None) -> (pd.DataFrame, decomposition.PCA):\n",
        "    if pca:\n",
        "        dataset_reduced = pca.transform(dataset)\n",
        "        return (dataset_reduced, pca)\n",
        "    pca = decomposition.PCA(n_components=0.9)\n",
        "    dataset_reduced = pca.fit_transform(dataset)\n",
        "    return (dataset_reduced, pca)"
      ]
    },
    {
      "cell_type": "code",
      "execution_count": 6,
      "metadata": {
        "id": "9ZgyuDOzG_zp"
      },
      "outputs": [],
      "source": [
        "def preprocess(dataset, encoder=None):\n",
        "    drop_features(dataset)\n",
        "    drop_rows(dataset)\n"
      ]
    },
    {
      "cell_type": "markdown",
      "metadata": {
        "collapsed": false,
        "id": "5VCuq2_ZG_zp"
      },
      "source": [
        "### Import dataset\n",
        "\n",
        "Here we import dataset, do inital processing and split into train and validation."
      ]
    },
    {
      "cell_type": "code",
      "execution_count": 7,
      "metadata": {
        "id": "QrxVmltyG_zp"
      },
      "outputs": [],
      "source": [
        "def read_dataset(file_name) -> pd.DataFrame:\n",
        "    return pd.read_csv(file_name).set_index('time').sort_index()"
      ]
    },
    {
      "cell_type": "code",
      "execution_count": 8,
      "metadata": {
        "id": "4M-OODkHG_zq"
      },
      "outputs": [],
      "source": [
        "def extract_labels(dataset) -> (pd.DataFrame, pd.Series):\n",
        "    X_train = dataset.loc[:, ~dataset.columns.isin(['consumption'])]\n",
        "    y_train = dataset['consumption']\n",
        "    return (X_train, y_train)"
      ]
    },
    {
      "cell_type": "code",
      "execution_count": 9,
      "metadata": {
        "colab": {
          "base_uri": "https://localhost:8080/",
          "height": 255
        },
        "id": "86ZWVt3pG_zq",
        "outputId": "9455d209-1fd4-4364-c1d3-ad570c0590f7"
      },
      "outputs": [
        {
          "output_type": "display_data",
          "data": {
            "text/plain": [
              "                           temp  dwpt  rhum   wdir  wspd  wpgt    pres  coco  \\\n",
              "time                                                                           \n",
              "2021-09-01 00:00:00+03:00  11.2  10.3  94.0  320.0   7.2  16.7  1012.6   2.0   \n",
              "2021-09-01 01:00:00+03:00  10.7   9.6  93.0  320.0   7.2  13.0  1012.6   2.0   \n",
              "2021-09-01 02:00:00+03:00   9.9   9.0  94.0  320.0   7.2  13.0  1012.2   2.0   \n",
              "2021-09-01 03:00:00+03:00  10.0   8.4  90.0  330.0   7.2  13.0  1011.9   1.0   \n",
              "2021-09-01 04:00:00+03:00   9.0   8.1  94.0  300.0   3.6  13.0  1011.4   2.0   \n",
              "\n",
              "                           el_price  consumption  \n",
              "time                                              \n",
              "2021-09-01 00:00:00+03:00   0.09016        0.577  \n",
              "2021-09-01 01:00:00+03:00   0.09251        0.594  \n",
              "2021-09-01 02:00:00+03:00   0.08890        0.685  \n",
              "2021-09-01 03:00:00+03:00   0.08735        1.016  \n",
              "2021-09-01 04:00:00+03:00   0.08688        0.677  "
            ],
            "text/html": [
              "\n",
              "  <div id=\"df-d60578f8-c547-4c52-b68a-001097cf824c\">\n",
              "    <div class=\"colab-df-container\">\n",
              "      <div>\n",
              "<style scoped>\n",
              "    .dataframe tbody tr th:only-of-type {\n",
              "        vertical-align: middle;\n",
              "    }\n",
              "\n",
              "    .dataframe tbody tr th {\n",
              "        vertical-align: top;\n",
              "    }\n",
              "\n",
              "    .dataframe thead th {\n",
              "        text-align: right;\n",
              "    }\n",
              "</style>\n",
              "<table border=\"1\" class=\"dataframe\">\n",
              "  <thead>\n",
              "    <tr style=\"text-align: right;\">\n",
              "      <th></th>\n",
              "      <th>temp</th>\n",
              "      <th>dwpt</th>\n",
              "      <th>rhum</th>\n",
              "      <th>wdir</th>\n",
              "      <th>wspd</th>\n",
              "      <th>wpgt</th>\n",
              "      <th>pres</th>\n",
              "      <th>coco</th>\n",
              "      <th>el_price</th>\n",
              "      <th>consumption</th>\n",
              "    </tr>\n",
              "    <tr>\n",
              "      <th>time</th>\n",
              "      <th></th>\n",
              "      <th></th>\n",
              "      <th></th>\n",
              "      <th></th>\n",
              "      <th></th>\n",
              "      <th></th>\n",
              "      <th></th>\n",
              "      <th></th>\n",
              "      <th></th>\n",
              "      <th></th>\n",
              "    </tr>\n",
              "  </thead>\n",
              "  <tbody>\n",
              "    <tr>\n",
              "      <th>2021-09-01 00:00:00+03:00</th>\n",
              "      <td>11.2</td>\n",
              "      <td>10.3</td>\n",
              "      <td>94.0</td>\n",
              "      <td>320.0</td>\n",
              "      <td>7.2</td>\n",
              "      <td>16.7</td>\n",
              "      <td>1012.6</td>\n",
              "      <td>2.0</td>\n",
              "      <td>0.09016</td>\n",
              "      <td>0.577</td>\n",
              "    </tr>\n",
              "    <tr>\n",
              "      <th>2021-09-01 01:00:00+03:00</th>\n",
              "      <td>10.7</td>\n",
              "      <td>9.6</td>\n",
              "      <td>93.0</td>\n",
              "      <td>320.0</td>\n",
              "      <td>7.2</td>\n",
              "      <td>13.0</td>\n",
              "      <td>1012.6</td>\n",
              "      <td>2.0</td>\n",
              "      <td>0.09251</td>\n",
              "      <td>0.594</td>\n",
              "    </tr>\n",
              "    <tr>\n",
              "      <th>2021-09-01 02:00:00+03:00</th>\n",
              "      <td>9.9</td>\n",
              "      <td>9.0</td>\n",
              "      <td>94.0</td>\n",
              "      <td>320.0</td>\n",
              "      <td>7.2</td>\n",
              "      <td>13.0</td>\n",
              "      <td>1012.2</td>\n",
              "      <td>2.0</td>\n",
              "      <td>0.08890</td>\n",
              "      <td>0.685</td>\n",
              "    </tr>\n",
              "    <tr>\n",
              "      <th>2021-09-01 03:00:00+03:00</th>\n",
              "      <td>10.0</td>\n",
              "      <td>8.4</td>\n",
              "      <td>90.0</td>\n",
              "      <td>330.0</td>\n",
              "      <td>7.2</td>\n",
              "      <td>13.0</td>\n",
              "      <td>1011.9</td>\n",
              "      <td>1.0</td>\n",
              "      <td>0.08735</td>\n",
              "      <td>1.016</td>\n",
              "    </tr>\n",
              "    <tr>\n",
              "      <th>2021-09-01 04:00:00+03:00</th>\n",
              "      <td>9.0</td>\n",
              "      <td>8.1</td>\n",
              "      <td>94.0</td>\n",
              "      <td>300.0</td>\n",
              "      <td>3.6</td>\n",
              "      <td>13.0</td>\n",
              "      <td>1011.4</td>\n",
              "      <td>2.0</td>\n",
              "      <td>0.08688</td>\n",
              "      <td>0.677</td>\n",
              "    </tr>\n",
              "  </tbody>\n",
              "</table>\n",
              "</div>\n",
              "      <button class=\"colab-df-convert\" onclick=\"convertToInteractive('df-d60578f8-c547-4c52-b68a-001097cf824c')\"\n",
              "              title=\"Convert this dataframe to an interactive table.\"\n",
              "              style=\"display:none;\">\n",
              "        \n",
              "  <svg xmlns=\"http://www.w3.org/2000/svg\" height=\"24px\"viewBox=\"0 0 24 24\"\n",
              "       width=\"24px\">\n",
              "    <path d=\"M0 0h24v24H0V0z\" fill=\"none\"/>\n",
              "    <path d=\"M18.56 5.44l.94 2.06.94-2.06 2.06-.94-2.06-.94-.94-2.06-.94 2.06-2.06.94zm-11 1L8.5 8.5l.94-2.06 2.06-.94-2.06-.94L8.5 2.5l-.94 2.06-2.06.94zm10 10l.94 2.06.94-2.06 2.06-.94-2.06-.94-.94-2.06-.94 2.06-2.06.94z\"/><path d=\"M17.41 7.96l-1.37-1.37c-.4-.4-.92-.59-1.43-.59-.52 0-1.04.2-1.43.59L10.3 9.45l-7.72 7.72c-.78.78-.78 2.05 0 2.83L4 21.41c.39.39.9.59 1.41.59.51 0 1.02-.2 1.41-.59l7.78-7.78 2.81-2.81c.8-.78.8-2.07 0-2.86zM5.41 20L4 18.59l7.72-7.72 1.47 1.35L5.41 20z\"/>\n",
              "  </svg>\n",
              "      </button>\n",
              "      \n",
              "  <style>\n",
              "    .colab-df-container {\n",
              "      display:flex;\n",
              "      flex-wrap:wrap;\n",
              "      gap: 12px;\n",
              "    }\n",
              "\n",
              "    .colab-df-convert {\n",
              "      background-color: #E8F0FE;\n",
              "      border: none;\n",
              "      border-radius: 50%;\n",
              "      cursor: pointer;\n",
              "      display: none;\n",
              "      fill: #1967D2;\n",
              "      height: 32px;\n",
              "      padding: 0 0 0 0;\n",
              "      width: 32px;\n",
              "    }\n",
              "\n",
              "    .colab-df-convert:hover {\n",
              "      background-color: #E2EBFA;\n",
              "      box-shadow: 0px 1px 2px rgba(60, 64, 67, 0.3), 0px 1px 3px 1px rgba(60, 64, 67, 0.15);\n",
              "      fill: #174EA6;\n",
              "    }\n",
              "\n",
              "    [theme=dark] .colab-df-convert {\n",
              "      background-color: #3B4455;\n",
              "      fill: #D2E3FC;\n",
              "    }\n",
              "\n",
              "    [theme=dark] .colab-df-convert:hover {\n",
              "      background-color: #434B5C;\n",
              "      box-shadow: 0px 1px 3px 1px rgba(0, 0, 0, 0.15);\n",
              "      filter: drop-shadow(0px 1px 2px rgba(0, 0, 0, 0.3));\n",
              "      fill: #FFFFFF;\n",
              "    }\n",
              "  </style>\n",
              "\n",
              "      <script>\n",
              "        const buttonEl =\n",
              "          document.querySelector('#df-d60578f8-c547-4c52-b68a-001097cf824c button.colab-df-convert');\n",
              "        buttonEl.style.display =\n",
              "          google.colab.kernel.accessAllowed ? 'block' : 'none';\n",
              "\n",
              "        async function convertToInteractive(key) {\n",
              "          const element = document.querySelector('#df-d60578f8-c547-4c52-b68a-001097cf824c');\n",
              "          const dataTable =\n",
              "            await google.colab.kernel.invokeFunction('convertToInteractive',\n",
              "                                                     [key], {});\n",
              "          if (!dataTable) return;\n",
              "\n",
              "          const docLinkHtml = 'Like what you see? Visit the ' +\n",
              "            '<a target=\"_blank\" href=https://colab.research.google.com/notebooks/data_table.ipynb>data table notebook</a>'\n",
              "            + ' to learn more about interactive tables.';\n",
              "          element.innerHTML = '';\n",
              "          dataTable['output_type'] = 'display_data';\n",
              "          await google.colab.output.renderOutput(dataTable, element);\n",
              "          const docLink = document.createElement('div');\n",
              "          docLink.innerHTML = docLinkHtml;\n",
              "          element.appendChild(docLink);\n",
              "        }\n",
              "      </script>\n",
              "    </div>\n",
              "  </div>\n",
              "  "
            ]
          },
          "metadata": {}
        },
        {
          "output_type": "stream",
          "name": "stdout",
          "text": [
            "Dropped 198 row\n"
          ]
        }
      ],
      "source": [
        "train_df = read_dataset('train.csv')\n",
        "preprocess(train_df)\n",
        "\n",
        "X_train, y_train = extract_labels(train_df)\n",
        "\n",
        "X_train_norm, scaler_data = normalize(X_train)\n"
      ]
    },
    {
      "cell_type": "code",
      "execution_count": 10,
      "metadata": {
        "colab": {
          "base_uri": "https://localhost:8080/",
          "height": 238
        },
        "id": "ZJQrBk77G_zr",
        "outputId": "528c9ca4-bc99-4415-ba8a-4adb91d00268"
      },
      "outputs": [
        {
          "output_type": "display_data",
          "data": {
            "text/plain": [
              "                           temp  dwpt  rhum   wdir  wspd  wpgt    pres  coco  \\\n",
              "time                                                                           \n",
              "2022-08-25 00:00:00+03:00  21.1  15.2  69.0  340.0   9.0   9.3  1022.0   2.0   \n",
              "2022-08-25 01:00:00+03:00  20.1  15.1  73.0   30.0   6.0  14.8  1022.0   2.0   \n",
              "2022-08-25 02:00:00+03:00  20.1  15.1  73.0  320.0   7.0  13.0  1022.0   2.0   \n",
              "2022-08-25 03:00:00+03:00  18.7  17.0  90.0    0.0   4.0  11.1  1022.4   4.0   \n",
              "2022-08-25 04:00:00+03:00  18.1  17.1  94.0  280.0   7.0  11.1  1022.0   3.0   \n",
              "\n",
              "                           el_price  \n",
              "time                                 \n",
              "2022-08-25 00:00:00+03:00   0.25533  \n",
              "2022-08-25 01:00:00+03:00   0.19492  \n",
              "2022-08-25 02:00:00+03:00   0.18853  \n",
              "2022-08-25 03:00:00+03:00   0.19947  \n",
              "2022-08-25 04:00:00+03:00   0.21192  "
            ],
            "text/html": [
              "\n",
              "  <div id=\"df-e13eff0e-6561-4f20-9959-d4cd5cd3042a\">\n",
              "    <div class=\"colab-df-container\">\n",
              "      <div>\n",
              "<style scoped>\n",
              "    .dataframe tbody tr th:only-of-type {\n",
              "        vertical-align: middle;\n",
              "    }\n",
              "\n",
              "    .dataframe tbody tr th {\n",
              "        vertical-align: top;\n",
              "    }\n",
              "\n",
              "    .dataframe thead th {\n",
              "        text-align: right;\n",
              "    }\n",
              "</style>\n",
              "<table border=\"1\" class=\"dataframe\">\n",
              "  <thead>\n",
              "    <tr style=\"text-align: right;\">\n",
              "      <th></th>\n",
              "      <th>temp</th>\n",
              "      <th>dwpt</th>\n",
              "      <th>rhum</th>\n",
              "      <th>wdir</th>\n",
              "      <th>wspd</th>\n",
              "      <th>wpgt</th>\n",
              "      <th>pres</th>\n",
              "      <th>coco</th>\n",
              "      <th>el_price</th>\n",
              "    </tr>\n",
              "    <tr>\n",
              "      <th>time</th>\n",
              "      <th></th>\n",
              "      <th></th>\n",
              "      <th></th>\n",
              "      <th></th>\n",
              "      <th></th>\n",
              "      <th></th>\n",
              "      <th></th>\n",
              "      <th></th>\n",
              "      <th></th>\n",
              "    </tr>\n",
              "  </thead>\n",
              "  <tbody>\n",
              "    <tr>\n",
              "      <th>2022-08-25 00:00:00+03:00</th>\n",
              "      <td>21.1</td>\n",
              "      <td>15.2</td>\n",
              "      <td>69.0</td>\n",
              "      <td>340.0</td>\n",
              "      <td>9.0</td>\n",
              "      <td>9.3</td>\n",
              "      <td>1022.0</td>\n",
              "      <td>2.0</td>\n",
              "      <td>0.25533</td>\n",
              "    </tr>\n",
              "    <tr>\n",
              "      <th>2022-08-25 01:00:00+03:00</th>\n",
              "      <td>20.1</td>\n",
              "      <td>15.1</td>\n",
              "      <td>73.0</td>\n",
              "      <td>30.0</td>\n",
              "      <td>6.0</td>\n",
              "      <td>14.8</td>\n",
              "      <td>1022.0</td>\n",
              "      <td>2.0</td>\n",
              "      <td>0.19492</td>\n",
              "    </tr>\n",
              "    <tr>\n",
              "      <th>2022-08-25 02:00:00+03:00</th>\n",
              "      <td>20.1</td>\n",
              "      <td>15.1</td>\n",
              "      <td>73.0</td>\n",
              "      <td>320.0</td>\n",
              "      <td>7.0</td>\n",
              "      <td>13.0</td>\n",
              "      <td>1022.0</td>\n",
              "      <td>2.0</td>\n",
              "      <td>0.18853</td>\n",
              "    </tr>\n",
              "    <tr>\n",
              "      <th>2022-08-25 03:00:00+03:00</th>\n",
              "      <td>18.7</td>\n",
              "      <td>17.0</td>\n",
              "      <td>90.0</td>\n",
              "      <td>0.0</td>\n",
              "      <td>4.0</td>\n",
              "      <td>11.1</td>\n",
              "      <td>1022.4</td>\n",
              "      <td>4.0</td>\n",
              "      <td>0.19947</td>\n",
              "    </tr>\n",
              "    <tr>\n",
              "      <th>2022-08-25 04:00:00+03:00</th>\n",
              "      <td>18.1</td>\n",
              "      <td>17.1</td>\n",
              "      <td>94.0</td>\n",
              "      <td>280.0</td>\n",
              "      <td>7.0</td>\n",
              "      <td>11.1</td>\n",
              "      <td>1022.0</td>\n",
              "      <td>3.0</td>\n",
              "      <td>0.21192</td>\n",
              "    </tr>\n",
              "  </tbody>\n",
              "</table>\n",
              "</div>\n",
              "      <button class=\"colab-df-convert\" onclick=\"convertToInteractive('df-e13eff0e-6561-4f20-9959-d4cd5cd3042a')\"\n",
              "              title=\"Convert this dataframe to an interactive table.\"\n",
              "              style=\"display:none;\">\n",
              "        \n",
              "  <svg xmlns=\"http://www.w3.org/2000/svg\" height=\"24px\"viewBox=\"0 0 24 24\"\n",
              "       width=\"24px\">\n",
              "    <path d=\"M0 0h24v24H0V0z\" fill=\"none\"/>\n",
              "    <path d=\"M18.56 5.44l.94 2.06.94-2.06 2.06-.94-2.06-.94-.94-2.06-.94 2.06-2.06.94zm-11 1L8.5 8.5l.94-2.06 2.06-.94-2.06-.94L8.5 2.5l-.94 2.06-2.06.94zm10 10l.94 2.06.94-2.06 2.06-.94-2.06-.94-.94-2.06-.94 2.06-2.06.94z\"/><path d=\"M17.41 7.96l-1.37-1.37c-.4-.4-.92-.59-1.43-.59-.52 0-1.04.2-1.43.59L10.3 9.45l-7.72 7.72c-.78.78-.78 2.05 0 2.83L4 21.41c.39.39.9.59 1.41.59.51 0 1.02-.2 1.41-.59l7.78-7.78 2.81-2.81c.8-.78.8-2.07 0-2.86zM5.41 20L4 18.59l7.72-7.72 1.47 1.35L5.41 20z\"/>\n",
              "  </svg>\n",
              "      </button>\n",
              "      \n",
              "  <style>\n",
              "    .colab-df-container {\n",
              "      display:flex;\n",
              "      flex-wrap:wrap;\n",
              "      gap: 12px;\n",
              "    }\n",
              "\n",
              "    .colab-df-convert {\n",
              "      background-color: #E8F0FE;\n",
              "      border: none;\n",
              "      border-radius: 50%;\n",
              "      cursor: pointer;\n",
              "      display: none;\n",
              "      fill: #1967D2;\n",
              "      height: 32px;\n",
              "      padding: 0 0 0 0;\n",
              "      width: 32px;\n",
              "    }\n",
              "\n",
              "    .colab-df-convert:hover {\n",
              "      background-color: #E2EBFA;\n",
              "      box-shadow: 0px 1px 2px rgba(60, 64, 67, 0.3), 0px 1px 3px 1px rgba(60, 64, 67, 0.15);\n",
              "      fill: #174EA6;\n",
              "    }\n",
              "\n",
              "    [theme=dark] .colab-df-convert {\n",
              "      background-color: #3B4455;\n",
              "      fill: #D2E3FC;\n",
              "    }\n",
              "\n",
              "    [theme=dark] .colab-df-convert:hover {\n",
              "      background-color: #434B5C;\n",
              "      box-shadow: 0px 1px 3px 1px rgba(0, 0, 0, 0.15);\n",
              "      filter: drop-shadow(0px 1px 2px rgba(0, 0, 0, 0.3));\n",
              "      fill: #FFFFFF;\n",
              "    }\n",
              "  </style>\n",
              "\n",
              "      <script>\n",
              "        const buttonEl =\n",
              "          document.querySelector('#df-e13eff0e-6561-4f20-9959-d4cd5cd3042a button.colab-df-convert');\n",
              "        buttonEl.style.display =\n",
              "          google.colab.kernel.accessAllowed ? 'block' : 'none';\n",
              "\n",
              "        async function convertToInteractive(key) {\n",
              "          const element = document.querySelector('#df-e13eff0e-6561-4f20-9959-d4cd5cd3042a');\n",
              "          const dataTable =\n",
              "            await google.colab.kernel.invokeFunction('convertToInteractive',\n",
              "                                                     [key], {});\n",
              "          if (!dataTable) return;\n",
              "\n",
              "          const docLinkHtml = 'Like what you see? Visit the ' +\n",
              "            '<a target=\"_blank\" href=https://colab.research.google.com/notebooks/data_table.ipynb>data table notebook</a>'\n",
              "            + ' to learn more about interactive tables.';\n",
              "          element.innerHTML = '';\n",
              "          dataTable['output_type'] = 'display_data';\n",
              "          await google.colab.output.renderOutput(dataTable, element);\n",
              "          const docLink = document.createElement('div');\n",
              "          docLink.innerHTML = docLinkHtml;\n",
              "          element.appendChild(docLink);\n",
              "        }\n",
              "      </script>\n",
              "    </div>\n",
              "  </div>\n",
              "  "
            ]
          },
          "metadata": {}
        }
      ],
      "source": [
        "X_test = read_dataset('test.csv')\n",
        "preprocess(X_test)\n",
        "\n",
        "X_test_norm, _ = normalize(X_test, scaler_data)"
      ]
    },
    {
      "cell_type": "code",
      "execution_count": 12,
      "metadata": {
        "id": "ASksVPZVG_zr"
      },
      "outputs": [],
      "source": [
        "from sklearn.model_selection import train_test_split\n",
        "\n",
        "#X_train = X_train_norm\n",
        "#y_train = y_train\n",
        "X_train, X_val,  y_train, y_val = train_test_split(X_train_norm, y_train, test_size=0.05)"
      ]
    },
    {
      "cell_type": "code",
      "execution_count": 13,
      "metadata": {
        "colab": {
          "base_uri": "https://localhost:8080/"
        },
        "id": "uPrlZDSjG_zr",
        "outputId": "4381e627-eee5-4b0f-b819-af15ed8d4b98"
      },
      "outputs": [
        {
          "output_type": "execute_result",
          "data": {
            "text/plain": [
              "array([0.87826087, 0.85282258, 0.3875    , 0.52777778, 0.22712934,\n",
              "       0.41430948, 0.51590106, 0.04166667, 0.36850887])"
            ]
          },
          "metadata": {},
          "execution_count": 13
        }
      ],
      "source": [
        "X_train[0]"
      ]
    },
    {
      "cell_type": "code",
      "execution_count": 14,
      "metadata": {
        "id": "-EZWjw3iG_zr"
      },
      "outputs": [],
      "source": [
        "import itertools\n",
        "\n",
        "# Numpy\n",
        "import numpy as np\n",
        "\n",
        "# Keras\n",
        "from keras.layers import Dense, Input, BatchNormalization\n",
        "from keras.models import Sequential\n",
        "from tensorflow.keras.optimizers import SGD\n",
        "\n",
        "# Pandas\n",
        "import pandas as pd\n",
        "\n",
        "# Sklearn\n",
        "import sklearn.preprocessing\n",
        "import sklearn.utils\n",
        "\n",
        "# Visualiseerimine\n",
        "import matplotlib.pyplot as plt\n",
        "%matplotlib inline"
      ]
    },
    {
      "cell_type": "code",
      "source": [
        "X_train.shape[1]"
      ],
      "metadata": {
        "colab": {
          "base_uri": "https://localhost:8080/"
        },
        "id": "_lZ2Iwh8RLG5",
        "outputId": "e149a1f9-63ff-4286-a55c-d1497977a6f2"
      },
      "execution_count": 15,
      "outputs": [
        {
          "output_type": "execute_result",
          "data": {
            "text/plain": [
              "9"
            ]
          },
          "metadata": {},
          "execution_count": 15
        }
      ]
    },
    {
      "cell_type": "code",
      "source": [
        "X_train = np.expand_dims(X_train, axis=-1)\n",
        "#X_val = np.expand_dims(X_val, axis=-1)\n",
        "\n",
        "X_train.shape"
      ],
      "metadata": {
        "colab": {
          "base_uri": "https://localhost:8080/"
        },
        "id": "tFvA4uOwceyO",
        "outputId": "9958ccbc-e88d-4fa6-dae9-95cd0a181c85"
      },
      "execution_count": 16,
      "outputs": [
        {
          "output_type": "execute_result",
          "data": {
            "text/plain": [
              "(6713, 9, 1)"
            ]
          },
          "metadata": {},
          "execution_count": 16
        }
      ]
    },
    {
      "cell_type": "code",
      "execution_count": 19,
      "metadata": {
        "id": "icZedCGnG_zr"
      },
      "outputs": [],
      "source": [
        "from tensorflow.keras.layers import Input, Conv2D, Activation, Flatten, Dense, MaxPooling2D, BatchNormalization, Dropout, LSTM, SimpleRNN, Embedding, GRU\n",
        "\n",
        "mdl = Sequential()\n",
        "\n",
        "mdl.add(LSTM(4,  input_shape=(X_train.shape[1], X_train.shape[2])))\n",
        "mdl.add(Dense(1))\n",
        "\n",
        "mdl.compile(loss='mae', optimizer=\"adam\")\n"
      ]
    },
    {
      "cell_type": "code",
      "source": [],
      "metadata": {
        "id": "K0cOrg38Hfbq"
      },
      "execution_count": 19,
      "outputs": []
    },
    {
      "cell_type": "code",
      "execution_count": 20,
      "metadata": {
        "colab": {
          "base_uri": "https://localhost:8080/"
        },
        "id": "5XJrpFfxG_zs",
        "outputId": "c0c38416-f8e8-449e-b928-aab07761fabe"
      },
      "outputs": [
        {
          "output_type": "stream",
          "name": "stdout",
          "text": [
            "Epoch 1/100\n",
            "6713/6713 [==============================] - 28s 4ms/step - loss: 0.6469 - val_loss: 0.6457\n",
            "Epoch 2/100\n",
            "6713/6713 [==============================] - 24s 4ms/step - loss: 0.6402 - val_loss: 0.6473\n",
            "Epoch 3/100\n",
            "6713/6713 [==============================] - 23s 3ms/step - loss: 0.6350 - val_loss: 0.6354\n",
            "Epoch 4/100\n",
            "6713/6713 [==============================] - 26s 4ms/step - loss: 0.6254 - val_loss: 0.6191\n",
            "Epoch 5/100\n",
            "6713/6713 [==============================] - 25s 4ms/step - loss: 0.6141 - val_loss: 0.6112\n",
            "Epoch 6/100\n",
            "6713/6713 [==============================] - 26s 4ms/step - loss: 0.6021 - val_loss: 0.6052\n",
            "Epoch 7/100\n",
            "6713/6713 [==============================] - 23s 3ms/step - loss: 0.5950 - val_loss: 0.6112\n",
            "Epoch 8/100\n",
            "6713/6713 [==============================] - 26s 4ms/step - loss: 0.5896 - val_loss: 0.6005\n",
            "Epoch 9/100\n",
            "6713/6713 [==============================] - 24s 4ms/step - loss: 0.5861 - val_loss: 0.5945\n",
            "Epoch 10/100\n",
            "6713/6713 [==============================] - 23s 3ms/step - loss: 0.5842 - val_loss: 0.5939\n",
            "Epoch 11/100\n",
            "6713/6713 [==============================] - 24s 4ms/step - loss: 0.5803 - val_loss: 0.6212\n",
            "Epoch 12/100\n",
            "6713/6713 [==============================] - 23s 3ms/step - loss: 0.5780 - val_loss: 0.5878\n",
            "Epoch 13/100\n",
            "6713/6713 [==============================] - 25s 4ms/step - loss: 0.5748 - val_loss: 0.5881\n",
            "Epoch 14/100\n",
            "6713/6713 [==============================] - 23s 3ms/step - loss: 0.5708 - val_loss: 0.5897\n",
            "Epoch 15/100\n",
            "6713/6713 [==============================] - 23s 3ms/step - loss: 0.5691 - val_loss: 0.5894\n",
            "Epoch 16/100\n",
            "6713/6713 [==============================] - 23s 3ms/step - loss: 0.5673 - val_loss: 0.5828\n",
            "Epoch 17/100\n",
            "6713/6713 [==============================] - 23s 3ms/step - loss: 0.5655 - val_loss: 0.5945\n",
            "Epoch 18/100\n",
            "6713/6713 [==============================] - 25s 4ms/step - loss: 0.5638 - val_loss: 0.5793\n",
            "Epoch 19/100\n",
            "6713/6713 [==============================] - 26s 4ms/step - loss: 0.5616 - val_loss: 0.5802\n",
            "Epoch 20/100\n",
            "6713/6713 [==============================] - 23s 3ms/step - loss: 0.5603 - val_loss: 0.5957\n",
            "Epoch 21/100\n",
            "6713/6713 [==============================] - 23s 3ms/step - loss: 0.5589 - val_loss: 0.5746\n",
            "Epoch 22/100\n",
            "6713/6713 [==============================] - 24s 4ms/step - loss: 0.5565 - val_loss: 0.5754\n",
            "Epoch 23/100\n",
            "6713/6713 [==============================] - 23s 3ms/step - loss: 0.5550 - val_loss: 0.5735\n",
            "Epoch 24/100\n",
            "6713/6713 [==============================] - 23s 3ms/step - loss: 0.5529 - val_loss: 0.5689\n",
            "Epoch 25/100\n",
            "6713/6713 [==============================] - 23s 3ms/step - loss: 0.5506 - val_loss: 0.5686\n",
            "Epoch 26/100\n",
            "6713/6713 [==============================] - 26s 4ms/step - loss: 0.5494 - val_loss: 0.5671\n",
            "Epoch 27/100\n",
            "6713/6713 [==============================] - 23s 3ms/step - loss: 0.5477 - val_loss: 0.5635\n",
            "Epoch 28/100\n",
            "6713/6713 [==============================] - 26s 4ms/step - loss: 0.5471 - val_loss: 0.5710\n",
            "Epoch 29/100\n",
            "6713/6713 [==============================] - 25s 4ms/step - loss: 0.5439 - val_loss: 0.5650\n",
            "Epoch 30/100\n",
            "6713/6713 [==============================] - 23s 3ms/step - loss: 0.5428 - val_loss: 0.5654\n",
            "Epoch 31/100\n",
            "6713/6713 [==============================] - 25s 4ms/step - loss: 0.5419 - val_loss: 0.5583\n",
            "Epoch 32/100\n",
            "6713/6713 [==============================] - 23s 3ms/step - loss: 0.5404 - val_loss: 0.5570\n",
            "Epoch 33/100\n",
            "6713/6713 [==============================] - 23s 3ms/step - loss: 0.5395 - val_loss: 0.5585\n",
            "Epoch 34/100\n",
            "6713/6713 [==============================] - 23s 3ms/step - loss: 0.5384 - val_loss: 0.5551\n",
            "Epoch 35/100\n",
            "6713/6713 [==============================] - 26s 4ms/step - loss: 0.5376 - val_loss: 0.5590\n",
            "Epoch 36/100\n",
            "6713/6713 [==============================] - 23s 3ms/step - loss: 0.5367 - val_loss: 0.5539\n",
            "Epoch 37/100\n",
            "6713/6713 [==============================] - 26s 4ms/step - loss: 0.5368 - val_loss: 0.5518\n",
            "Epoch 38/100\n",
            "6713/6713 [==============================] - 25s 4ms/step - loss: 0.5356 - val_loss: 0.5524\n",
            "Epoch 39/100\n",
            "6713/6713 [==============================] - 23s 3ms/step - loss: 0.5339 - val_loss: 0.5545\n",
            "Epoch 40/100\n",
            "6713/6713 [==============================] - 25s 4ms/step - loss: 0.5351 - val_loss: 0.5574\n",
            "Epoch 41/100\n",
            "6713/6713 [==============================] - 23s 3ms/step - loss: 0.5338 - val_loss: 0.5531\n",
            "Epoch 42/100\n",
            "6713/6713 [==============================] - 23s 3ms/step - loss: 0.5335 - val_loss: 0.5507\n",
            "Epoch 43/100\n",
            "6713/6713 [==============================] - 23s 3ms/step - loss: 0.5333 - val_loss: 0.5573\n",
            "Epoch 44/100\n",
            "6713/6713 [==============================] - 26s 4ms/step - loss: 0.5329 - val_loss: 0.5592\n",
            "Epoch 45/100\n",
            "6713/6713 [==============================] - 23s 3ms/step - loss: 0.5329 - val_loss: 0.5511\n",
            "Epoch 46/100\n",
            "6713/6713 [==============================] - 23s 3ms/step - loss: 0.5327 - val_loss: 0.5489\n",
            "Epoch 47/100\n",
            "6713/6713 [==============================] - 25s 4ms/step - loss: 0.5326 - val_loss: 0.5490\n",
            "Epoch 48/100\n",
            "6713/6713 [==============================] - 25s 4ms/step - loss: 0.5315 - val_loss: 0.5495\n",
            "Epoch 49/100\n",
            "6713/6713 [==============================] - 26s 4ms/step - loss: 0.5312 - val_loss: 0.5477\n",
            "Epoch 50/100\n",
            "6713/6713 [==============================] - 23s 3ms/step - loss: 0.5305 - val_loss: 0.5524\n",
            "Epoch 51/100\n",
            "6713/6713 [==============================] - 23s 3ms/step - loss: 0.5313 - val_loss: 0.5470\n",
            "Epoch 52/100\n",
            "6713/6713 [==============================] - 22s 3ms/step - loss: 0.5311 - val_loss: 0.5480\n",
            "Epoch 53/100\n",
            "6713/6713 [==============================] - 26s 4ms/step - loss: 0.5295 - val_loss: 0.5644\n",
            "Epoch 54/100\n",
            "6713/6713 [==============================] - 23s 3ms/step - loss: 0.5300 - val_loss: 0.5525\n",
            "Epoch 55/100\n",
            "6713/6713 [==============================] - 23s 3ms/step - loss: 0.5299 - val_loss: 0.5477\n",
            "Epoch 56/100\n",
            "6713/6713 [==============================] - 23s 3ms/step - loss: 0.5297 - val_loss: 0.5522\n",
            "Epoch 57/100\n",
            "6713/6713 [==============================] - 30s 5ms/step - loss: 0.5296 - val_loss: 0.5504\n",
            "Epoch 58/100\n",
            "6713/6713 [==============================] - 24s 4ms/step - loss: 0.5298 - val_loss: 0.5465\n",
            "Epoch 59/100\n",
            "6713/6713 [==============================] - 25s 4ms/step - loss: 0.5292 - val_loss: 0.5472\n",
            "Epoch 60/100\n",
            "6713/6713 [==============================] - 24s 4ms/step - loss: 0.5291 - val_loss: 0.5516\n",
            "Epoch 61/100\n",
            "6713/6713 [==============================] - 25s 4ms/step - loss: 0.5286 - val_loss: 0.5452\n",
            "Epoch 62/100\n",
            "6713/6713 [==============================] - 23s 3ms/step - loss: 0.5285 - val_loss: 0.5464\n",
            "Epoch 63/100\n",
            "6713/6713 [==============================] - 23s 3ms/step - loss: 0.5294 - val_loss: 0.5540\n",
            "Epoch 64/100\n",
            "6713/6713 [==============================] - 25s 4ms/step - loss: 0.5281 - val_loss: 0.5464\n",
            "Epoch 65/100\n",
            "6713/6713 [==============================] - 26s 4ms/step - loss: 0.5278 - val_loss: 0.5474\n",
            "Epoch 66/100\n",
            "6713/6713 [==============================] - 23s 3ms/step - loss: 0.5279 - val_loss: 0.5556\n",
            "Epoch 67/100\n",
            "6713/6713 [==============================] - 26s 4ms/step - loss: 0.5279 - val_loss: 0.5446\n",
            "Epoch 68/100\n",
            "6713/6713 [==============================] - 24s 4ms/step - loss: 0.5278 - val_loss: 0.5445\n",
            "Epoch 69/100\n",
            "6713/6713 [==============================] - 25s 4ms/step - loss: 0.5278 - val_loss: 0.5453\n",
            "Epoch 70/100\n",
            "6713/6713 [==============================] - 26s 4ms/step - loss: 0.5273 - val_loss: 0.5480\n",
            "Epoch 71/100\n",
            "6713/6713 [==============================] - 23s 3ms/step - loss: 0.5276 - val_loss: 0.5492\n",
            "Epoch 72/100\n",
            "6713/6713 [==============================] - 23s 3ms/step - loss: 0.5276 - val_loss: 0.5629\n",
            "Epoch 73/100\n",
            "6713/6713 [==============================] - 26s 4ms/step - loss: 0.5276 - val_loss: 0.5438\n",
            "Epoch 74/100\n",
            "6713/6713 [==============================] - 25s 4ms/step - loss: 0.5277 - val_loss: 0.5455\n",
            "Epoch 75/100\n",
            "6713/6713 [==============================] - 26s 4ms/step - loss: 0.5272 - val_loss: 0.5498\n",
            "Epoch 76/100\n",
            "6713/6713 [==============================] - 23s 3ms/step - loss: 0.5268 - val_loss: 0.5437\n",
            "Epoch 77/100\n",
            "6713/6713 [==============================] - 26s 4ms/step - loss: 0.5273 - val_loss: 0.5440\n",
            "Epoch 78/100\n",
            "6713/6713 [==============================] - 23s 3ms/step - loss: 0.5265 - val_loss: 0.5460\n",
            "Epoch 79/100\n",
            "6713/6713 [==============================] - 26s 4ms/step - loss: 0.5263 - val_loss: 0.5532\n",
            "Epoch 80/100\n",
            "6713/6713 [==============================] - 26s 4ms/step - loss: 0.5261 - val_loss: 0.5436\n",
            "Epoch 81/100\n",
            "6713/6713 [==============================] - 25s 4ms/step - loss: 0.5257 - val_loss: 0.5476\n",
            "Epoch 82/100\n",
            "6713/6713 [==============================] - 26s 4ms/step - loss: 0.5260 - val_loss: 0.5473\n",
            "Epoch 83/100\n",
            "6713/6713 [==============================] - 23s 3ms/step - loss: 0.5263 - val_loss: 0.5433\n",
            "Epoch 84/100\n",
            "6713/6713 [==============================] - 23s 3ms/step - loss: 0.5262 - val_loss: 0.5464\n",
            "Epoch 85/100\n",
            "6713/6713 [==============================] - 23s 3ms/step - loss: 0.5267 - val_loss: 0.5440\n",
            "Epoch 86/100\n",
            "6713/6713 [==============================] - 26s 4ms/step - loss: 0.5258 - val_loss: 0.5433\n",
            "Epoch 87/100\n",
            "6713/6713 [==============================] - 24s 4ms/step - loss: 0.5261 - val_loss: 0.5426\n",
            "Epoch 88/100\n",
            "6713/6713 [==============================] - 25s 4ms/step - loss: 0.5246 - val_loss: 0.5443\n",
            "Epoch 89/100\n",
            "6713/6713 [==============================] - 23s 3ms/step - loss: 0.5251 - val_loss: 0.5442\n",
            "Epoch 90/100\n",
            "6713/6713 [==============================] - 26s 4ms/step - loss: 0.5256 - val_loss: 0.5429\n",
            "Epoch 91/100\n",
            "6713/6713 [==============================] - 25s 4ms/step - loss: 0.5254 - val_loss: 0.5446\n",
            "Epoch 92/100\n",
            "6713/6713 [==============================] - 24s 4ms/step - loss: 0.5252 - val_loss: 0.5439\n",
            "Epoch 93/100\n",
            "6713/6713 [==============================] - 25s 4ms/step - loss: 0.5254 - val_loss: 0.5481\n",
            "Epoch 94/100\n",
            "6713/6713 [==============================] - 25s 4ms/step - loss: 0.5250 - val_loss: 0.5510\n",
            "Epoch 95/100\n",
            "6713/6713 [==============================] - 26s 4ms/step - loss: 0.5252 - val_loss: 0.5466\n",
            "Epoch 96/100\n",
            "6713/6713 [==============================] - 23s 3ms/step - loss: 0.5237 - val_loss: 0.5444\n",
            "Epoch 97/100\n",
            "6713/6713 [==============================] - 24s 4ms/step - loss: 0.5239 - val_loss: 0.5441\n",
            "Epoch 98/100\n",
            "6713/6713 [==============================] - 23s 3ms/step - loss: 0.5252 - val_loss: 0.5422\n",
            "Epoch 99/100\n",
            "6713/6713 [==============================] - 26s 4ms/step - loss: 0.5237 - val_loss: 0.5440\n",
            "Epoch 100/100\n",
            "6713/6713 [==============================] - 25s 4ms/step - loss: 0.5238 - val_loss: 0.5435\n"
          ]
        }
      ],
      "source": [
        "history = mdl.fit(X_train, y_train, validation_data=(X_val,y_val), epochs=100, batch_size=1, verbose=True)\n",
        "#history = mdl.fit(X_train, y_train, epochs=15, batch_size=32, verbose=True)"
      ]
    },
    {
      "cell_type": "code",
      "source": [
        "plt.figure(figsize=(16, 6))\n",
        "\n",
        "plt.subplot(1, 2, 1)\n",
        "plt.plot(history.history['loss'])\n",
        "plt.plot(history.history['val_loss'])\n",
        "plt.xlabel('Epoch')\n",
        "plt.ylabel('Loss')\n",
        "plt.legend(['Training', 'Validation'])\n",
        "plt.title('Loss')\n",
        "\n",
        "#plt.subplot(1, 2, 2)\n",
        "#plt.plot(history.history['accuracy'])\n",
        "#plt.plot(history.history['val_accuracy'])\n",
        "#plt.xlabel('Epoch')\n",
        "#plt.ylabel('Accuracy')\n",
        "#plt.legend(['Training', 'Validation'])\n",
        "#plt.title('Accuracy')"
      ],
      "metadata": {
        "id": "vhI854PEHXNE",
        "colab": {
          "base_uri": "https://localhost:8080/",
          "height": 421
        },
        "outputId": "be05ed6f-b510-400e-f2d8-7f94e7331c8a"
      },
      "execution_count": 21,
      "outputs": [
        {
          "output_type": "execute_result",
          "data": {
            "text/plain": [
              "Text(0.5, 1.0, 'Loss')"
            ]
          },
          "metadata": {},
          "execution_count": 21
        },
        {
          "output_type": "display_data",
          "data": {
            "text/plain": [
              "<Figure size 1152x432 with 1 Axes>"
            ],
            "image/png": "[encoded data removed]"
          },
          "metadata": {
            "needs_background": "light"
          }
        }
      ]
    },
    {
      "cell_type": "code",
      "source": [
        "prediction = mdl.predict(X_test_norm, batch_size=1)"
      ],
      "metadata": {
        "id": "dptGtBsYHYVv",
        "colab": {
          "base_uri": "https://localhost:8080/"
        },
        "outputId": "17f1a29f-a150-4ac0-ba4f-0c01d59b2214"
      },
      "execution_count": 22,
      "outputs": [
        {
          "output_type": "stream",
          "name": "stdout",
          "text": [
            "168/168 [==============================] - 1s 2ms/step\n"
          ]
        }
      ]
    },
    {
      "cell_type": "code",
      "source": [
        "prediction"
      ],
      "metadata": {
        "id": "S1wUYiZyJFSi",
        "colab": {
          "base_uri": "https://localhost:8080/"
        },
        "outputId": "e83b8927-927e-45bc-d8be-a6ee34f8a254"
      },
      "execution_count": 23,
      "outputs": [
        {
          "output_type": "execute_result",
          "data": {
            "text/plain": [
              "array([[0.5385392 ],\n",
              "       [0.4231603 ],\n",
              "       [0.4673668 ],\n",
              "       [0.37928045],\n",
              "       [0.37270612],\n",
              "       [0.37154847],\n",
              "       [0.37035322],\n",
              "       [0.5565208 ],\n",
              "       [0.6515976 ],\n",
              "       [0.5275879 ],\n",
              "       [0.5447475 ],\n",
              "       [0.56960154],\n",
              "       [0.5703037 ],\n",
              "       [0.5802058 ],\n",
              "       [0.61777496],\n",
              "       [0.59440315],\n",
              "       [0.6132308 ],\n",
              "       [0.6699966 ],\n",
              "       [0.61072147],\n",
              "       [0.5584949 ],\n",
              "       [0.5321113 ],\n",
              "       [0.5445453 ],\n",
              "       [0.3770535 ],\n",
              "       [0.33886093],\n",
              "       [0.28669298],\n",
              "       [0.2815115 ],\n",
              "       [0.27803785],\n",
              "       [0.29282224],\n",
              "       [0.325247  ],\n",
              "       [0.33194256],\n",
              "       [0.32904595],\n",
              "       [0.3632689 ],\n",
              "       [0.41077447],\n",
              "       [0.4699067 ],\n",
              "       [0.4917612 ],\n",
              "       [0.55313766],\n",
              "       [0.58753633],\n",
              "       [0.58138144],\n",
              "       [0.5931817 ],\n",
              "       [0.5981771 ],\n",
              "       [0.63340676],\n",
              "       [0.61803675],\n",
              "       [0.63242257],\n",
              "       [0.6192658 ],\n",
              "       [0.49752915],\n",
              "       [0.5080148 ],\n",
              "       [0.34614915],\n",
              "       [0.29704022],\n",
              "       [0.3130375 ],\n",
              "       [0.3054297 ],\n",
              "       [0.38554525],\n",
              "       [0.34710747],\n",
              "       [0.39837062],\n",
              "       [0.3775906 ],\n",
              "       [0.36885107],\n",
              "       [0.33646291],\n",
              "       [0.3399381 ],\n",
              "       [0.42161787],\n",
              "       [0.43688154],\n",
              "       [0.56715333],\n",
              "       [0.66485023],\n",
              "       [0.6558026 ],\n",
              "       [0.67216086],\n",
              "       [0.672614  ],\n",
              "       [0.65999067],\n",
              "       [0.6818305 ],\n",
              "       [0.6810535 ],\n",
              "       [0.70614445],\n",
              "       [0.60413504],\n",
              "       [0.603035  ],\n",
              "       [0.53235626],\n",
              "       [0.45065153],\n",
              "       [0.44414353],\n",
              "       [0.44215798],\n",
              "       [0.3300578 ],\n",
              "       [0.33455324],\n",
              "       [0.35628492],\n",
              "       [0.37048304],\n",
              "       [0.38490283],\n",
              "       [0.3673092 ],\n",
              "       [0.39554417],\n",
              "       [0.5547726 ],\n",
              "       [0.57318485],\n",
              "       [0.66074014],\n",
              "       [0.64007103],\n",
              "       [0.60754323],\n",
              "       [0.59105504],\n",
              "       [0.5956975 ],\n",
              "       [0.6130556 ],\n",
              "       [0.63578784],\n",
              "       [0.6544124 ],\n",
              "       [0.6309781 ],\n",
              "       [0.5336709 ],\n",
              "       [0.5441992 ],\n",
              "       [0.488958  ],\n",
              "       [0.45236516],\n",
              "       [0.33229917],\n",
              "       [0.31672412],\n",
              "       [0.4509443 ],\n",
              "       [0.51987064],\n",
              "       [0.49529636],\n",
              "       [0.6912941 ],\n",
              "       [0.45210767],\n",
              "       [0.3483215 ],\n",
              "       [0.36910474],\n",
              "       [0.60674965],\n",
              "       [0.7124603 ],\n",
              "       [0.7135924 ],\n",
              "       [0.7693113 ],\n",
              "       [0.74376667],\n",
              "       [0.7461692 ],\n",
              "       [0.72762215],\n",
              "       [0.66924775],\n",
              "       [0.60313666],\n",
              "       [0.6318586 ],\n",
              "       [0.64273345],\n",
              "       [0.59077024],\n",
              "       [0.43833518],\n",
              "       [0.41280603],\n",
              "       [0.34141946],\n",
              "       [0.32897377],\n",
              "       [0.32721454],\n",
              "       [0.4251871 ],\n",
              "       [0.4600197 ],\n",
              "       [0.49096668],\n",
              "       [0.47235775],\n",
              "       [0.4731208 ],\n",
              "       [0.490039  ],\n",
              "       [0.5873438 ],\n",
              "       [0.6005398 ],\n",
              "       [0.6198921 ],\n",
              "       [0.5121994 ],\n",
              "       [0.48318863],\n",
              "       [0.5846832 ],\n",
              "       [0.5771384 ],\n",
              "       [0.5719968 ],\n",
              "       [0.5681031 ],\n",
              "       [0.47075212],\n",
              "       [0.47814584],\n",
              "       [0.61130476],\n",
              "       [0.62157726],\n",
              "       [0.40838277],\n",
              "       [0.38768506],\n",
              "       [0.3598379 ],\n",
              "       [0.39013827],\n",
              "       [0.83010733],\n",
              "       [0.9040172 ],\n",
              "       [0.89184153],\n",
              "       [0.9015876 ],\n",
              "       [0.9763081 ],\n",
              "       [0.60969746],\n",
              "       [0.2949828 ],\n",
              "       [0.2701879 ],\n",
              "       [0.32240802],\n",
              "       [0.32195926],\n",
              "       [0.34405863],\n",
              "       [0.36901718],\n",
              "       [0.3480993 ],\n",
              "       [0.3708648 ],\n",
              "       [0.3735276 ],\n",
              "       [0.3280596 ],\n",
              "       [0.3086502 ],\n",
              "       [0.2947997 ],\n",
              "       [0.29321223],\n",
              "       [0.29072416],\n",
              "       [0.32790452],\n",
              "       [0.29898763],\n",
              "       [0.44047177]], dtype=float32)"
            ]
          },
          "metadata": {},
          "execution_count": 23
        }
      ]
    },
    {
      "cell_type": "code",
      "source": [
        "X_test = read_dataset('test.csv')"
      ],
      "metadata": {
        "id": "dNcUV4NELuj3"
      },
      "execution_count": 24,
      "outputs": []
    },
    {
      "cell_type": "code",
      "source": [
        "predictions_dict = {'time':X_test.index,'consumption':[el[0]for el in prediction]}\n",
        "pred_df = pd.DataFrame(predictions_dict)\n",
        "pred_df.to_csv('submission_081222_v4.csv',index=False)"
      ],
      "metadata": {
        "id": "XKzfaUpNJtQE"
      },
      "execution_count": 25,
      "outputs": []
    },
    {
      "cell_type": "code",
      "source": [],
      "metadata": {
        "id": "GsOI3JeXLokg"
      },
      "execution_count": null,
      "outputs": []
    }
  ],
  "metadata": {
    "kernelspec": {
      "display_name": "Python 3 (system-wide)",
      "language": "python",
      "metadata": {
        "cocalc": {
          "description": "Python 3 programming language",
          "priority": 100,
          "url": "https://www.python.org/"
        }
      },
      "name": "python3",
      "resource_dir": "/ext/jupyter/kernels/python3"
    },
    "language_info": {
      "codemirror_mode": {
        "name": "ipython",
        "version": 3
      },
      "file_extension": ".py",
      "mimetype": "text/x-python",
      "name": "python",
      "nbconvert_exporter": "python",
      "pygments_lexer": "ipython3",
      "version": "3.8.10"
    },
    "colab": {
      "provenance": [],
      "include_colab_link": true
    },
    "accelerator": "GPU",
    "gpuClass": "standard"
  },
  "nbformat": 4,
  "nbformat_minor": 0
}