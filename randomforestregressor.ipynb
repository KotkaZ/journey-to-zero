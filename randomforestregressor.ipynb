{
  "cells": [
    {
      "cell_type": "markdown",
      "metadata": {
        "id": "view-in-github",
        "colab_type": "text"
      },
      "source": [
        "<a href=\"https://colab.research.google.com/github/KotkaZ/journey-to-zero/blob/master/randomforestregressor.ipynb\" target=\"_parent\"><img src=\"https://colab.research.google.com/assets/colab-badge.svg\" alt=\"Open In Colab\"/></a>"
      ]
    },
    {
      "cell_type": "markdown",
      "metadata": {
        "collapsed": false,
        "id": "xQmC7g0vG_zk"
      },
      "source": [
        "## Dataset preprocessing\n",
        "\n"
      ]
    },
    {
      "cell_type": "code",
      "execution_count": 3,
      "metadata": {
        "id": "z383-kW0G_zl"
      },
      "outputs": [],
      "source": [
        "import numpy as nb\n",
        "import pandas as pd\n",
        "\n",
        "from sklearn import preprocessing\n",
        "from sklearn import decomposition\n",
        "from sklearn.preprocessing import MinMaxScaler\n",
        "\n",
        "from matplotlib import pyplot as plt\n",
        "\n",
        "%matplotlib inline\n",
        "\n",
        "import datetime"
      ]
    },
    {
      "cell_type": "markdown",
      "metadata": {
        "collapsed": false,
        "id": "nVB_Fy3pG_zm"
      },
      "source": [
        "### Timestamp extraction\n",
        "\n",
        "Because crazy things happened in the past year,  we validated that, some specific dates had significantly higher electricity prices. Therefore we do weekday, month, and time extraction from the timestamp.  \n",
        "\n"
      ]
    },
    {
      "cell_type": "code",
      "execution_count": 4,
      "metadata": {
        "id": "y3NmRhvzG_zm"
      },
      "outputs": [],
      "source": [
        "def extract_weekday(dataset):\n",
        "    splits = dataset['date'].astype(str).str.split('-')\n",
        "    dataset['weekday'] = [datetime.date(int(year), int(month), int(day)).weekday() for (year, month, day) in splits]"
      ]
    },
    {
      "cell_type": "code",
      "execution_count": 5,
      "metadata": {
        "id": "0orwSVNLG_zn"
      },
      "outputs": [],
      "source": [
        "def extract_month(dataset):\n",
        "    dataset['month'] = [month for (_, month, _) in dataset['date'].astype(str).str.split('-')]"
      ]
    },
    {
      "cell_type": "code",
      "execution_count": 6,
      "metadata": {
        "id": "DrOWkTuHG_zn"
      },
      "outputs": [],
      "source": [
        "def extract_datetime(dataset):\n",
        "    dataset.loc[:,'time'] = pd.to_datetime(dataset.loc[:,'time'], format=\"%Y-%m-%d %H:%M:%S\", utc=True)\n",
        "    dataset['date'] = dataset['time'].dt.date\n",
        "    dataset['hour'] = dataset['time'].dt.hour"
      ]
    },
    {
      "cell_type": "code",
      "execution_count": 7,
      "metadata": {
        "id": "dfyY0rZaG_zn"
      },
      "outputs": [],
      "source": [
        "def one_hot_encode(dataset, columns, encoder = None) -> preprocessing.OneHotEncoder:\n",
        "    if encoder:\n",
        "        transformed = encoder.transform(dataset[columns])\n",
        "    else:\n",
        "        encoder = preprocessing.OneHotEncoder(sparse= False)\n",
        "        transformed = encoder.fit_transform(dataset[columns])\n",
        "\n",
        "    new_columns = []\n",
        "    for i, column in enumerate(encoder.feature_names_in_):\n",
        "        new_columns.extend([column + str(cat) for cat in encoder.categories_[i]])\n",
        "\n",
        "    encoder_df = pd.DataFrame(transformed, index=dataset.index)\n",
        "    dataset[new_columns] = encoder_df\n",
        "    dataset.drop(columns=columns, inplace=True)\n",
        "    return encoder"
      ]
    },
    {
      "cell_type": "code",
      "execution_count": 8,
      "metadata": {
        "id": "MJ63lOigG_zo"
      },
      "outputs": [],
      "source": [
        "def extract_features(dataset):\n",
        "    extract_datetime(dataset)\n",
        "    extract_month(dataset)\n",
        "    extract_weekday(dataset)\n"
      ]
    },
    {
      "cell_type": "markdown",
      "metadata": {
        "collapsed": false,
        "id": "hN7eX9_bG_zo"
      },
      "source": [
        "### Feature dropping\n",
        "\n",
        "In Estonia, there are approximately 500\\-800 millimeters of rain on average. Our dataset consisted of only about 140mm of rain, which is definitely not correct. Also, the amount of snow was inappropriate for the  \n",
        " same reason.\n"
      ]
    },
    {
      "cell_type": "code",
      "execution_count": 9,
      "metadata": {
        "id": "wjBqWsJsG_zo"
      },
      "outputs": [],
      "source": [
        "def drop_features(dataset):\n",
        "    dataset.drop(columns=['snow','prcp','time','date'], inplace=True)\n"
      ]
    },
    {
      "cell_type": "code",
      "execution_count": 10,
      "metadata": {
        "id": "0xEwUxN-G_zp"
      },
      "outputs": [],
      "source": [
        "def drop_rows(dataset):\n",
        "    # Deal with NaN values\n",
        "    initial_len = len(dataset)\n",
        "    dataset.dropna(inplace=True)\n",
        "    new_len = len(dataset)\n",
        "    if (initial_len != new_len):\n",
        "        print(f'Dropped {initial_len - new_len} row')\n",
        "\n",
        "    # Deal with outliners\n",
        "    dataset.drop(dataset[dataset['el_price'] > 1].index , inplace=True)"
      ]
    },
    {
      "cell_type": "code",
      "execution_count": 11,
      "metadata": {
        "id": "ywEAPeAXG_zp"
      },
      "outputs": [],
      "source": [
        "def normalize(dataset, scaler = None) -> (pd.DataFrame, preprocessing.MinMaxScaler):\n",
        "    if scaler:\n",
        "        dataset_scaled = scaler.transform(dataset)\n",
        "        return (dataset_scaled, scaler)\n",
        "    scaler = preprocessing.MinMaxScaler()\n",
        "    dataset_scaled = scaler.fit_transform(dataset)\n",
        "    return (dataset_scaled, scaler)"
      ]
    },
    {
      "cell_type": "code",
      "execution_count": 12,
      "metadata": {
        "id": "w5mvJMC5G_zp"
      },
      "outputs": [],
      "source": [
        "def reduce_dimensions(dataset, pca = None) -> (pd.DataFrame, decomposition.PCA):\n",
        "    if pca:\n",
        "        dataset_reduced = pca.transform(dataset)\n",
        "        return (dataset_reduced, pca)\n",
        "    pca = decomposition.PCA(n_components=0.9)\n",
        "    dataset_reduced = pca.fit_transform(dataset)\n",
        "    return (dataset_reduced, pca)"
      ]
    },
    {
      "cell_type": "code",
      "execution_count": 13,
      "metadata": {
        "id": "9ZgyuDOzG_zp"
      },
      "outputs": [],
      "source": [
        "def preprocess(dataset, encoder=None) -> preprocessing.OneHotEncoder:\n",
        "    extract_features(dataset)\n",
        "    drop_features(dataset)\n",
        "    encoder = one_hot_encode(dataset, ['coco', 'weekday'], encoder)\n",
        "    drop_rows(dataset)\n",
        "    return encoder\n"
      ]
    },
    {
      "cell_type": "markdown",
      "metadata": {
        "collapsed": false,
        "id": "5VCuq2_ZG_zp"
      },
      "source": [
        "### Import dataset\n",
        "\n",
        "Here we import dataset, do inital processing and split into train and validation."
      ]
    },
    {
      "cell_type": "code",
      "execution_count": 14,
      "metadata": {
        "id": "QrxVmltyG_zp"
      },
      "outputs": [],
      "source": [
        "def read_dataset(file_name) -> pd.DataFrame:\n",
        "    return pd.read_csv(file_name)"
      ]
    },
    {
      "cell_type": "code",
      "execution_count": 15,
      "metadata": {
        "id": "4M-OODkHG_zq"
      },
      "outputs": [],
      "source": [
        "def extract_labels(dataset) -> (pd.DataFrame, pd.Series):\n",
        "    X_train = dataset.loc[:, ~dataset.columns.isin(['consumption'])]\n",
        "    y_train = dataset['consumption']\n",
        "    return (X_train, y_train)"
      ]
    },
    {
      "cell_type": "code",
      "execution_count": 16,
      "metadata": {
        "colab": {
          "base_uri": "https://localhost:8080/"
        },
        "id": "86ZWVt3pG_zq",
        "outputId": "8a4cf2dc-6a71-47f6-870d-419739a0c28b"
      },
      "outputs": [
        {
          "output_type": "stream",
          "name": "stdout",
          "text": [
            "Dropped 2 row\n"
          ]
        }
      ],
      "source": [
        "train_df = read_dataset('train.csv')\n",
        "encoder = preprocess(train_df)\n",
        "\n",
        "\n",
        "X_train, y_train = extract_labels(train_df)\n",
        "\n",
        "X_train_norm, scaler = normalize(X_train)\n",
        "X_train_reduced, pca = reduce_dimensions(X_train_norm)\n"
      ]
    },
    {
      "cell_type": "code",
      "execution_count": 17,
      "metadata": {
        "colab": {
          "base_uri": "https://localhost:8080/"
        },
        "id": "mtaKcoPHG_zq",
        "outputId": "edcd4847-07f5-4262-c071-94066db5a321"
      },
      "outputs": [
        {
          "output_type": "execute_result",
          "data": {
            "text/plain": [
              "(8588, 41)"
            ]
          },
          "metadata": {},
          "execution_count": 17
        }
      ],
      "source": [
        "X_train_norm.shape"
      ]
    },
    {
      "cell_type": "code",
      "execution_count": 18,
      "metadata": {
        "colab": {
          "base_uri": "https://localhost:8080/"
        },
        "id": "ZJQrBk77G_zr",
        "outputId": "1fbd4091-1c8c-4788-fdda-99523859a99c"
      },
      "outputs": [
        {
          "output_type": "stream",
          "name": "stdout",
          "text": [
            "(168, 41)\n"
          ]
        }
      ],
      "source": [
        "X_test = read_dataset('test.csv')\n",
        "preprocess(X_test, encoder)\n",
        "\n",
        "X_test_norm, _ = normalize(X_test, scaler)\n",
        "print(X_test_norm.shape)\n",
        "X_test_reduced, _ = reduce_dimensions(X_test_norm, pca)"
      ]
    },
    {
      "cell_type": "code",
      "execution_count": 19,
      "metadata": {
        "id": "ASksVPZVG_zr"
      },
      "outputs": [],
      "source": [
        "from sklearn.model_selection import train_test_split\n",
        "\n",
        "X_train, X_val, y_train, y_val = train_test_split(X_train_reduced, y_train, test_size=0.2)"
      ]
    },
    {
      "cell_type": "code",
      "execution_count": 20,
      "metadata": {
        "colab": {
          "base_uri": "https://localhost:8080/"
        },
        "id": "uPrlZDSjG_zr",
        "outputId": "74313952-39b6-4576-bb92-ea0da132b78d"
      },
      "outputs": [
        {
          "output_type": "execute_result",
          "data": {
            "text/plain": [
              "(6870, 16)"
            ]
          },
          "metadata": {},
          "execution_count": 20
        }
      ],
      "source": [
        "X_train.shape"
      ]
    },
    {
      "cell_type": "code",
      "execution_count": 21,
      "metadata": {
        "id": "-EZWjw3iG_zr"
      },
      "outputs": [],
      "source": [
        "from sklearn.ensemble import RandomForestRegressor\n",
        "\n",
        "rfr = RandomForestRegressor()\n",
        "\n"
      ]
    },
    {
      "cell_type": "code",
      "execution_count": 23,
      "metadata": {
        "id": "icZedCGnG_zr",
        "outputId": "b3e7d5cb-1f27-4643-9620-edce6ca5ab5f",
        "colab": {
          "base_uri": "https://localhost:8080/"
        }
      },
      "outputs": [
        {
          "output_type": "execute_result",
          "data": {
            "text/plain": [
              "RandomForestRegressor()"
            ]
          },
          "metadata": {},
          "execution_count": 23
        }
      ],
      "source": [
        "rfr.fit(X_train, y_train)"
      ]
    },
    {
      "cell_type": "code",
      "source": [
        "prediction = rfr.predict(X_test_reduced)"
      ],
      "metadata": {
        "id": "dptGtBsYHYVv"
      },
      "execution_count": 25,
      "outputs": []
    },
    {
      "cell_type": "code",
      "source": [
        "prediction"
      ],
      "metadata": {
        "colab": {
          "base_uri": "https://localhost:8080/"
        },
        "id": "S1wUYiZyJFSi",
        "outputId": "255d13ee-7e45-48c4-e587-e79733d322b8"
      },
      "execution_count": 26,
      "outputs": [
        {
          "output_type": "execute_result",
          "data": {
            "text/plain": [
              "array([0.50771, 0.65339, 0.41893, 0.48978, 0.41294, 0.45628, 0.39691,\n",
              "       0.61722, 0.68831, 1.03386, 1.01606, 0.66181, 0.65744, 0.69063,\n",
              "       0.65877, 0.71961, 0.73964, 0.88473, 1.49832, 1.09794, 1.05706,\n",
              "       0.7959 , 1.72993, 1.59743, 0.62846, 0.52486, 0.53621, 0.62224,\n",
              "       0.53097, 0.58486, 0.41625, 0.86283, 0.81902, 0.80769, 0.7154 ,\n",
              "       0.82138, 0.79087, 1.16947, 0.83794, 1.76661, 0.88198, 0.9021 ,\n",
              "       0.89835, 0.99173, 0.70756, 0.58517, 0.61365, 0.93202, 0.62879,\n",
              "       0.42571, 0.30987, 0.86371, 0.85447, 0.65408, 0.64987, 0.69793,\n",
              "       0.68   , 0.78106, 1.14364, 1.43276, 0.74339, 0.62557, 0.58766,\n",
              "       0.76269, 0.72075, 0.59827, 0.70668, 0.7154 , 0.71394, 0.67391,\n",
              "       0.91928, 0.41302, 0.5728 , 0.35619, 0.35187, 0.57156, 0.66649,\n",
              "       0.59836, 0.42034, 0.52875, 0.65579, 0.54565, 0.56462, 0.58423,\n",
              "       0.56795, 0.76645, 0.82933, 1.27408, 0.75102, 0.61025, 0.50069,\n",
              "       0.55077, 0.54626, 0.49972, 0.37988, 0.4189 , 0.40167, 0.43898,\n",
              "       0.37935, 0.55485, 0.5961 , 0.60283, 0.62539, 0.54843, 0.60006,\n",
              "       0.68143, 0.73241, 0.80827, 1.44757, 0.75727, 0.81482, 0.96983,\n",
              "       0.74703, 0.87728, 0.68115, 1.12895, 0.69037, 1.19239, 0.39383,\n",
              "       0.64618, 0.54403, 1.13163, 0.67818, 0.60242, 0.70619, 0.60547,\n",
              "       0.57486, 0.69799, 0.72579, 0.76893, 0.77926, 0.68679, 0.7777 ,\n",
              "       0.77563, 0.84168, 0.7528 , 0.70749, 0.63406, 1.10872, 0.97388,\n",
              "       0.89201, 0.93652, 1.28728, 0.96665, 1.07846, 1.0498 , 1.06222,\n",
              "       0.78205, 0.63677, 0.72859, 0.713  , 0.61363, 0.56241, 0.65794,\n",
              "       0.58394, 1.16955, 1.19494, 0.68033, 1.30781, 0.97437, 1.56101,\n",
              "       1.92128, 1.81306, 1.68349, 1.82084, 0.7119 , 1.71782, 1.75798])"
            ]
          },
          "metadata": {},
          "execution_count": 26
        }
      ]
    },
    {
      "cell_type": "code",
      "source": [
        "X_test = read_dataset('test.csv')"
      ],
      "metadata": {
        "id": "dNcUV4NELuj3"
      },
      "execution_count": 27,
      "outputs": []
    },
    {
      "cell_type": "code",
      "source": [
        "predictions_dict = {'time':X_test.time,'consumption':prediction}\n",
        "pred_df = pd.DataFrame(predictions_dict)\n",
        "pred_df.to_csv('submission_RFR_V1.csv',index=False)"
      ],
      "metadata": {
        "id": "XKzfaUpNJtQE"
      },
      "execution_count": 29,
      "outputs": []
    },
    {
      "cell_type": "code",
      "source": [],
      "metadata": {
        "id": "GsOI3JeXLokg"
      },
      "execution_count": null,
      "outputs": []
    }
  ],
  "metadata": {
    "kernelspec": {
      "display_name": "Python 3 (system-wide)",
      "language": "python",
      "metadata": {
        "cocalc": {
          "description": "Python 3 programming language",
          "priority": 100,
          "url": "https://www.python.org/"
        }
      },
      "name": "python3",
      "resource_dir": "/ext/jupyter/kernels/python3"
    },
    "language_info": {
      "codemirror_mode": {
        "name": "ipython",
        "version": 3
      },
      "file_extension": ".py",
      "mimetype": "text/x-python",
      "name": "python",
      "nbconvert_exporter": "python",
      "pygments_lexer": "ipython3",
      "version": "3.8.10"
    },
    "colab": {
      "provenance": [],
      "include_colab_link": true
    }
  },
  "nbformat": 4,
  "nbformat_minor": 0
}